{
 "cells": [
  {
   "cell_type": "code",
   "execution_count": 41,
   "id": "88ef6d2e",
   "metadata": {},
   "outputs": [],
   "source": [
    "import matplotlib.pyplot as plt\n",
    "import numpy as np\n",
    "from IPython.display import clear_output\n",
    "from time import sleep"
   ]
  },
  {
   "cell_type": "code",
   "execution_count": 42,
   "id": "c3e67da4",
   "metadata": {},
   "outputs": [],
   "source": [
    "x=np.linspace(-1,1,20)\n",
    "f=lambda x:0.5-x*np.exp(-x**2)\n",
    "y=f(x)"
   ]
  },
  {
   "cell_type": "code",
   "execution_count": 47,
   "id": "cb9b7b74",
   "metadata": {},
   "outputs": [],
   "source": [
    "def Aurea(a,b,f):\n",
    "    TOL=1E-4;\n",
    "    tau=round((np.sqrt(5)-1)/2,3);\n",
    "    OneMtau=round(1-tau,3);\n",
    "    \n",
    "    x1=a+OneMtau*(b-a);\n",
    "    f_x1=f(x1);\n",
    "    x2=a+tau*(b-a);\n",
    "    f_x2=f(x2);\n",
    "    \n",
    "    while (b-a)> TOL:\n",
    "        sleep(1)\n",
    "        clear_output(wait=True)\n",
    "        plt.plot(x,y)\n",
    "        plt.plot(x1,0,marker=\"o\",markersize=10,color=\"red\",label=\"x1\")\n",
    "        plt.plot(x2,0,marker=\"o\",markersize=10,color=\"purple\",label=\"x2\")\n",
    "        plt.plot(x1,f_x1,marker=\"o\",markersize=10,color=\"black\",label=\"f(x1)\")\n",
    "        plt.plot(x2,f_x2,marker=\"o\",markersize=10,color=\"brown\",label=\"f(x2)\")\n",
    "        plt.legend()\n",
    "        plt.show()\n",
    "        if f_x2> f_x1:\n",
    "            b=x2;\n",
    "            x2=np.copy(x1);\n",
    "            x1=a+OneMtau*(b-a);\n",
    "            f_x1=f(x1);\n",
    "            f_x2=f(x2);\n",
    "        else:\n",
    "            a=x1;\n",
    "            x1=np.copy(x2);\n",
    "            x2=a+tau*(b-a);\n",
    "            f_x1=f(x1);\n",
    "            f_x2=f(x2);\n",
    "            \n",
    "    return x1"
   ]
  },
  {
   "cell_type": "code",
   "execution_count": 48,
   "id": "c248816b",
   "metadata": {},
   "outputs": [
    {
     "data": {
      "image/png": "[encoded data removed]",
      "text/plain": [
       "<Figure size 432x288 with 1 Axes>"
      ]
     },
     "metadata": {
      "needs_background": "light"
     },
     "output_type": "display_data"
    },
    {
     "data": {
      "text/plain": [
       "0.7070862967394791"
      ]
     },
     "execution_count": 48,
     "metadata": {},
     "output_type": "execute_result"
    }
   ],
   "source": [
    "Aurea(-1,1,f)"
   ]
  },
  {
   "cell_type": "code",
   "execution_count": null,
   "id": "52c7a146",
   "metadata": {},
   "outputs": [],
   "source": []
  },
  {
   "cell_type": "code",
   "execution_count": null,
   "id": "347607e4",
   "metadata": {},
   "outputs": [],
   "source": []
  },
  {
   "cell_type": "code",
   "execution_count": null,
   "id": "8c98c94d",
   "metadata": {},
   "outputs": [],
   "source": []
  }
 ],
 "metadata": {
  "kernelspec": {
   "display_name": "Python 3 (ipykernel)",
   "language": "python",
   "name": "python3"
  },
  "language_info": {
   "codemirror_mode": {
    "name": "ipython",
    "version": 3
   },
   "file_extension": ".py",
   "mimetype": "text/x-python",
   "name": "python",
   "nbconvert_exporter": "python",
   "pygments_lexer": "ipython3",
   "version": "3.9.12"
  }
 },
 "nbformat": 4,
 "nbformat_minor": 5
}
