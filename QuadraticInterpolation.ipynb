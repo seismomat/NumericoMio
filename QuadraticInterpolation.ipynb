{
 "cells": [
  {
   "cell_type": "code",
   "execution_count": 1,
   "id": "88ef6d2e",
   "metadata": {},
   "outputs": [],
   "source": [
    "import matplotlib.pyplot as plt\n",
    "import numpy as np\n",
    "from IPython.display import clear_output\n",
    "from time import sleep"
   ]
  },
  {
   "cell_type": "code",
   "execution_count": 2,
   "id": "c3e67da4",
   "metadata": {},
   "outputs": [],
   "source": [
    "x=np.linspace(-1,1,20)\n",
    "f=lambda x:0.5-x*np.exp(-x**2)\n",
    "y=f(x)"
   ]
  },
  {
   "cell_type": "code",
   "execution_count": 3,
   "id": "f354b7c6",
   "metadata": {},
   "outputs": [],
   "source": [
    "def Xm(a,b,c,f):\n",
    "    num= f(a)*(c**2-b**2)+f(b)*(a**2-c**2)+f(c)*(b**2-a**2)\n",
    "    den=f(a)*(c-b)+f(b)*(a-c)+f(c)*(b-a)\n",
    "    xm=0.5*(num/den)\n",
    "    return xm,f(xm)"
   ]
  },
  {
   "cell_type": "code",
   "execution_count": 15,
   "id": "cb9b7b74",
   "metadata": {},
   "outputs": [],
   "source": [
    "def QuadraticInterpolation(a,c,f):\n",
    "    TOL=1E-2; Iter=20;\n",
    "    f_a=f(a);\n",
    "    f_c=f(c);\n",
    "    b=0.5*(a+c);\n",
    "    f_b=f(b);\n",
    "    n=0;\n",
    "    while ((c-a)> TOL)and (n<Iter):\n",
    "        sleep(1)\n",
    "        n+=1\n",
    "        clear_output(wait=True)\n",
    "        plt.plot(x,y)\n",
    "        plt.plot(a,0,marker=\"o\",markersize=10,color=\"red\",label=\"a\")\n",
    "        plt.plot(b,0,marker=\"o\",markersize=10,color=\"purple\",label=\"b\")\n",
    "        plt.plot(c,0,marker=\"o\",markersize=10,color=\"yellow\",label=\"c\")\n",
    "        plt.plot(a,f_a,marker=\"o\",markersize=10,color=\"black\",label=\"f(a)\")\n",
    "        plt.plot(b,f_b,marker=\"o\",markersize=10,color=\"brown\",label=\"f(b)\")\n",
    "        plt.plot(c,f_c,marker=\"o\",markersize=10,color=\"green\",label=\"f(c)\")\n",
    "        plt.legend()\n",
    "        plt.show()\n",
    "        xmin,f_xmin=Xm(a,b,c,f)\n",
    "        \n",
    "        if (a<xmin) and (xmin<b):\n",
    "            if f_xmin<=f_b:\n",
    "                c=np.copy(b);\n",
    "                f_c=f(b);\n",
    "                b=np.copy(xmin);\n",
    "                f_b=np.copy(f_xmin);\n",
    "            else:\n",
    "                a=np.copy(xmin);\n",
    "                f_a=np.copy(f_xmin);\n",
    "        elif (b<xmin) and (xmin<c):\n",
    "            if f_xmin<=f_b:\n",
    "                a=np.copy(b);\n",
    "                f_a=f(b);\n",
    "                b=np.copy(xmin);\n",
    "                f_b=np.copy(f_xmin);\n",
    "            else:\n",
    "                c=np.copy(xmin);\n",
    "                f_c=np.copy(f_xmin);\n",
    "            \n",
    "    return xmin"
   ]
  },
  {
   "cell_type": "code",
   "execution_count": 16,
   "id": "c248816b",
   "metadata": {},
   "outputs": [
    {
     "data": {
      "image/png": "[encoded data removed]",
      "text/plain": [
       "<Figure size 432x288 with 1 Axes>"
      ]
     },
     "metadata": {
      "needs_background": "light"
     },
     "output_type": "display_data"
    },
    {
     "data": {
      "text/plain": [
       "0.7071067922538671"
      ]
     },
     "execution_count": 16,
     "metadata": {},
     "output_type": "execute_result"
    }
   ],
   "source": [
    "QuadraticInterpolation(0,1,f)"
   ]
  },
  {
   "cell_type": "code",
   "execution_count": null,
   "id": "52c7a146",
   "metadata": {},
   "outputs": [],
   "source": []
  },
  {
   "cell_type": "code",
   "execution_count": null,
   "id": "347607e4",
   "metadata": {},
   "outputs": [],
   "source": []
  },
  {
   "cell_type": "code",
   "execution_count": null,
   "id": "8c98c94d",
   "metadata": {},
   "outputs": [],
   "source": []
  }
 ],
 "metadata": {
  "kernelspec": {
   "display_name": "Python 3 (ipykernel)",
   "language": "python",
   "name": "python3"
  },
  "language_info": {
   "codemirror_mode": {
    "name": "ipython",
    "version": 3
   },
   "file_extension": ".py",
   "mimetype": "text/x-python",
   "name": "python",
   "nbconvert_exporter": "python",
   "pygments_lexer": "ipython3",
   "version": "3.9.12"
  }
 },
 "nbformat": 4,
 "nbformat_minor": 5
}
