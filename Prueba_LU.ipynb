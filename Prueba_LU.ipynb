{
 "cells": [
  {
   "cell_type": "code",
   "execution_count": 1,
   "id": "40c60bf4",
   "metadata": {},
   "outputs": [],
   "source": [
    "import numpy as np\n",
    "\n",
    "# Ejemplo de uso\n",
    "A = np.array([[2, 1, 1],\n",
    "              [4, 3, 3],\n",
    "              [8, 7, 9]], dtype=float)"
   ]
  },
  {
   "cell_type": "code",
   "execution_count": 2,
   "id": "a10a4b76",
   "metadata": {},
   "outputs": [],
   "source": [
    "def lu_pivot_total(A):\n",
    "    n = A.shape[0]\n",
    "    P = np.eye(n)  # Matriz de permutación inicial\n",
    "    U = A.copy()\n",
    "    L=np.identity(n)\n",
    "    \n",
    "    for k in range(n - 1):\n",
    "        pivot_row = np.argmax(np.abs(U[k:n, k])) + k\n",
    "        if pivot_row != k:\n",
    "            P[[k, pivot_row]] = P[[pivot_row, k]]\n",
    "            U[[k, pivot_row]] = U[[pivot_row, k]]\n",
    "            L[[k, pivot_row]] = L[[pivot_row, k]]\n",
    "        for i in range(k + 1, n):\n",
    "            factor=U[i, k] / U[k, k]\n",
    "            L[i, k]=factor\n",
    "            for j in range(k + 1, n):\n",
    "                U[i, j] = U[i, j]- factor * U[k, j]\n",
    "\n",
    "    return P, U,L"
   ]
  },
  {
   "cell_type": "code",
   "execution_count": 3,
   "id": "b88f6988",
   "metadata": {},
   "outputs": [
    {
     "data": {
      "text/plain": [
       "(array([[0., 0., 1.],\n",
       "        [1., 0., 0.],\n",
       "        [0., 1., 0.]]),\n",
       " array([[ 8.        ,  7.        ,  9.        ],\n",
       "        [ 2.        , -0.75      , -1.25      ],\n",
       "        [ 4.        , -0.5       , -0.66666667]]),\n",
       " array([[0.        , 0.        , 1.        ],\n",
       "        [0.25      , 0.        , 0.        ],\n",
       "        [0.5       , 0.66666667, 0.        ]]))"
      ]
     },
     "execution_count": 3,
     "metadata": {},
     "output_type": "execute_result"
    }
   ],
   "source": [
    "P, U, L = lu_pivot_total(A)\n",
    "P,U, L"
   ]
  },
  {
   "cell_type": "code",
   "execution_count": null,
   "id": "5147b447",
   "metadata": {},
   "outputs": [],
   "source": []
  }
 ],
 "metadata": {
  "kernelspec": {
   "display_name": "Python 3 (ipykernel)",
   "language": "python",
   "name": "python3"
  },
  "language_info": {
   "codemirror_mode": {
    "name": "ipython",
    "version": 3
   },
   "file_extension": ".py",
   "mimetype": "text/x-python",
   "name": "python",
   "nbconvert_exporter": "python",
   "pygments_lexer": "ipython3",
   "version": "3.9.12"
  }
 },
 "nbformat": 4,
 "nbformat_minor": 5
}
