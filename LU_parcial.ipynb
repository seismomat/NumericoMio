{
 "cells": [
  {
   "cell_type": "code",
   "execution_count": 1,
   "id": "38786f2c",
   "metadata": {},
   "outputs": [
    {
     "name": "stdout",
     "output_type": "stream",
     "text": [
      "2\n",
      "K0\n",
      "P[[1. 0. 0.]\n",
      " [0. 1. 0.]\n",
      " [0. 0. 1.]]\n",
      "LU[[2. 1. 1.]\n",
      " [4. 3. 3.]\n",
      " [8. 7. 9.]]\n",
      "pivot_row , k(2, 0)\n",
      "P[[0. 0. 1.]\n",
      " [0. 1. 0.]\n",
      " [1. 0. 0.]]\n",
      "LU[[8. 7. 9.]\n",
      " [4. 3. 3.]\n",
      " [2. 1. 1.]]\n",
      "Despues de LU\n",
      "P[[0. 0. 1.]\n",
      " [0. 1. 0.]\n",
      " [1. 0. 0.]]\n",
      "LU[[ 8.    7.    9.  ]\n",
      " [ 0.5  -0.5  -1.5 ]\n",
      " [ 0.25 -0.75 -1.25]]\n",
      "2\n",
      "K1\n",
      "P[[0. 0. 1.]\n",
      " [0. 1. 0.]\n",
      " [1. 0. 0.]]\n",
      "LU[[ 8.    7.    9.  ]\n",
      " [ 0.5  -0.5  -1.5 ]\n",
      " [ 0.25 -0.75 -1.25]]\n",
      "pivot_row , k(2, 1)\n",
      "P[[0. 0. 1.]\n",
      " [1. 0. 0.]\n",
      " [0. 1. 0.]]\n",
      "LU[[ 8.    7.    9.  ]\n",
      " [ 0.25 -0.75 -1.25]\n",
      " [ 0.5  -0.5  -1.5 ]]\n",
      "Despues de LU\n",
      "P[[0. 0. 1.]\n",
      " [1. 0. 0.]\n",
      " [0. 1. 0.]]\n",
      "LU[[ 8.          7.          9.        ]\n",
      " [ 0.25       -0.75       -1.25      ]\n",
      " [ 0.5         0.66666667 -0.66666667]]\n"
     ]
    }
   ],
   "source": [
    "import numpy as np\n",
    "def lu_pivot_total(A):\n",
    "    n = A.shape[0]\n",
    "    P = np.eye(n)  # Matriz de permutación inicial\n",
    "    LU = A.copy()\n",
    "    \n",
    "    for k in range(n - 1):\n",
    "        pivot_row = np.argmax(np.abs(LU[k:n, k])) + k\n",
    "        print(pivot_row)\n",
    "        print(f\"K{k}\")\n",
    "        print(f\"P{P}\")\n",
    "        print(f\"LU{LU}\")\n",
    "        if pivot_row != k:\n",
    "            P[[k, pivot_row]] = P[[pivot_row, k]]\n",
    "            LU[[k, pivot_row]] = LU[[pivot_row, k]]\n",
    "            print(f\"pivot_row , k{pivot_row , k}\")\n",
    "            print(f\"P{P}\")\n",
    "            print(f\"LU{LU}\")\n",
    "        for i in range(k + 1, n):\n",
    "            LU[i, k] /= LU[k, k]\n",
    "            for j in range(k + 1, n):\n",
    "                LU[i, j] -= LU[i, k] * LU[k, j]\n",
    "        print(\"Despues de LU\")\n",
    "        print(f\"P{P}\")\n",
    "        print(f\"LU{LU}\")\n",
    "    return P, LU\n",
    "\n",
    "# Ejemplo de uso\n",
    "A = np.array([[2, 1, 1],\n",
    "              [4, 3, 3],\n",
    "              [8, 7, 9]], dtype=float)\n",
    "\n",
    "P, LU = lu_pivot_total(A)\n"
   ]
  },
  {
   "cell_type": "code",
   "execution_count": 3,
   "id": "99b3763e",
   "metadata": {},
   "outputs": [
    {
     "name": "stdout",
     "output_type": "stream",
     "text": [
      "Matriz de permutación P:\n",
      "[[0. 0. 1.]\n",
      " [1. 0. 0.]\n",
      " [0. 1. 0.]]\n",
      "Matriz triangular inferior L y superior U:\n",
      "[[ 8.          7.          9.        ]\n",
      " [ 0.25       -0.75       -1.25      ]\n",
      " [ 0.5         0.66666667 -0.66666667]]\n"
     ]
    }
   ],
   "source": [
    "print(\"Matriz de permutación P:\")\n",
    "print(P)\n",
    "print(\"Matriz triangular inferior L y superior U:\")\n",
    "print(LU)\n"
   ]
  },
  {
   "cell_type": "code",
   "execution_count": null,
   "id": "cf98bb57",
   "metadata": {},
   "outputs": [],
   "source": []
  }
 ],
 "metadata": {
  "kernelspec": {
   "display_name": "Python 3 (ipykernel)",
   "language": "python",
   "name": "python3"
  },
  "language_info": {
   "codemirror_mode": {
    "name": "ipython",
    "version": 3
   },
   "file_extension": ".py",
   "mimetype": "text/x-python",
   "name": "python",
   "nbconvert_exporter": "python",
   "pygments_lexer": "ipython3",
   "version": "3.9.12"
  }
 },
 "nbformat": 4,
 "nbformat_minor": 5
}
