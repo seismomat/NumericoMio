{
 "cells": [
  {
   "cell_type": "code",
   "execution_count": 2,
   "id": "81590f9e",
   "metadata": {},
   "outputs": [],
   "source": [
    "import numpy as np\n",
    "import matplotlib.pyplot as plt "
   ]
  },
  {
   "cell_type": "code",
   "execution_count": 3,
   "id": "90c3bd3c",
   "metadata": {},
   "outputs": [],
   "source": [
    "def Thomas(d0,d1,d2,b):\n",
    "    # d0 principal, d2 inferior, d1 superior, b sol\n",
    "\tn=d0.shape[0]\n",
    "\tx=np.zeros(n)\n",
    "\n",
    "\tfor i in range(n-1):\n",
    "\t\ta=0.0\n",
    "\t\ta=d1[i]/d0[i]\n",
    "\t\td0[i+1]=d0[i+1]-a*d2[i]\n",
    "\t\tb[i+1]=b[i+1]-a*b[i]\n",
    "\t\n",
    "\tx=susAtrasDF(d0,d2,b,x)\n",
    "\treturn x"
   ]
  },
  {
   "cell_type": "code",
   "execution_count": 4,
   "id": "e6dde96e",
   "metadata": {},
   "outputs": [],
   "source": [
    "# sustitucion hacia atras \n",
    "def susAtrasDF(d0,d2,b,x):\n",
    "    n=d0.shape[0]\n",
    "    x[n-1]=b[n-1]/d0[n-1]\n",
    "\t\n",
    "    for i in range(n-2,-1,-1):\n",
    "        x[i]=(b[i]-d2[i]*x[i+1])/d0[i]\n",
    "    return x"
   ]
  },
  {
   "cell_type": "code",
   "execution_count": 7,
   "id": "1f3cb5cc",
   "metadata": {},
   "outputs": [],
   "source": [
    "class Interpolation:\n",
    "    def __init__(self,datas):\n",
    "        self.data = datas['data']\n",
    "        self.n=datas['n']  \n",
    "        \n",
    "    def CubicSplines(self):\n",
    "        h=np.zeros(self.n);alpha=np.zeros(self.n+1);\n",
    "        DC=np.zeros(self.n+1);DS=np.zeros(self.n);DI=np.zeros(self.n);\n",
    "        c_j=np.zeros(self.n+1);b_j=np.zeros(self.n);d_j=np.zeros(self.n)\n",
    "        \n",
    "        h=self.data[0][1:]-self.data[0][0:-1]\n",
    "        \n",
    "        ## Compute the vector B\n",
    "        for i in range(1,self.n):\n",
    "            alpha[i]=(3/h[i])*(self.data[1][i+1]-self.data[1][i]) -\\\n",
    "            (3/h[i-1])*(self.data[1][i]-self.data[1][i-1])\n",
    "            \n",
    "        for i in range(1,self.n):\n",
    "            DC[i]=2*(h[i-1]+h[i])\n",
    "            DS[i-1]=h[i-1]\n",
    "            DI[i]=h[i]\n",
    "            \n",
    "        DC[0]=1.0;DC[-1]=1.0\n",
    "            \n",
    "        c_j=Thomas(DC,DS,DI,alpha)\n",
    "        \n",
    "        for i in range(self.n):\n",
    "            b_j[i]=(self.data[1][i+1]-self.data[1][i])*(1/h[i])-\\\n",
    "                (h[i]/3)*(c_j[i+1]+2*c_j[i])\n",
    "                \n",
    "            d_j[i]=(c_j[i+1]-c_j[i])/(3*h[i])\n",
    "            \n",
    "    \n",
    "        return {'a_j':self.data[1][:-1],'b_j':b_j,'c_j':c_j[:-1],'d_j':d_j}"
   ]
  },
  {
   "cell_type": "code",
   "execution_count": 8,
   "id": "5ec008ef",
   "metadata": {},
   "outputs": [
    {
     "data": {
      "image/png": "[encoded data removed]",
      "text/plain": [
       "<Figure size 432x288 with 1 Axes>"
      ]
     },
     "metadata": {
      "needs_background": "light"
     },
     "output_type": "display_data"
    }
   ],
   "source": [
    "T=[0,0.0526,0.1053,0.1579,0.2105,0.2632,0.3158,0.3684,0.4211,0.4737,\n",
    "0.5263,0.5789,0.6316,0.6842,0.7368,0.7895,0.8421,0.8947,0.9474,1]\n",
    "\n",
    "S_t=[0,0.8970,-0.1333,-0.7069,0.2131,0.5410,-0.2531,-0.4007,0.2646,\n",
    "0.2853,-0.2568,-0.1930,0.2367,0.1211,-0.2098,-0.0670,0.1799,0.0275,\n",
    "-0.1498,0]\n",
    "\n",
    "m=500\n",
    "\n",
    "T=np.array(T); S_t=np.array(S_t);\n",
    "samples=np.linspace(0.0,1.0,m)\n",
    "\n",
    "datas={'data':(T,S_t),'n':len(T)-1}\n",
    "Pol=Interpolation(datas)\n",
    "Scoef=Pol.CubicSplines()\n",
    "mm=int(m/len(T));\n",
    "\n",
    "for i in range(len(T)-1):\n",
    "    samples=np.linspace(T[i],T[i+1],mm)\n",
    "    pol_fit=Scoef['a_j'][i]+Scoef['b_j'][i]*(samples-T[i])\\\n",
    "    +Scoef['c_j'][i]*(samples-T[i])**2+Scoef['d_j'][i]*(samples-T[i])**3\n",
    "    plt.plot(samples,pol_fit,color='black')\n",
    "    \n",
    "plt.plot(T,S_t,marker='*',color='red',linestyle=' ',markersize=10,label='Muestras')\n",
    "plt.grid()\n",
    "plt.title(\" Interpolación con splines\",fontsize=14)\n",
    "plt.xlabel(\" x\",fontsize=14)\n",
    "plt.ylabel(\" y\",fontsize=14)\n",
    "plt.legend()\n",
    "plt.show()"
   ]
  }
 ],
 "metadata": {
  "kernelspec": {
   "display_name": "Python 3 (ipykernel)",
   "language": "python",
   "name": "python3"
  },
  "language_info": {
   "codemirror_mode": {
    "name": "ipython",
    "version": 3
   },
   "file_extension": ".py",
   "mimetype": "text/x-python",
   "name": "python",
   "nbconvert_exporter": "python",
   "pygments_lexer": "ipython3",
   "version": "3.9.12"
  }
 },
 "nbformat": 4,
 "nbformat_minor": 5
}
