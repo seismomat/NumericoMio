{
 "cells": [
  {
   "cell_type": "code",
   "execution_count": 8,
   "metadata": {},
   "outputs": [],
   "source": [
    "import numpy as np\n",
    "from numpy import linalg as LA\n",
    "import matplotlib.pyplot as plt"
   ]
  },
  {
   "cell_type": "code",
   "execution_count": 9,
   "metadata": {},
   "outputs": [],
   "source": [
    "x=np.linspace(0,6,20)\n",
    "funcion = lambda x: ((-x)**(3))+(np.e**(x))-np.sin((x)*3)\n",
    "y=np.array([funcion(i) for i in x])"
   ]
  },
  {
   "cell_type": "code",
   "execution_count": 10,
   "metadata": {},
   "outputs": [],
   "source": [
    "class Interpolation:\n",
    "    def __init__(self,datas):\n",
    "        self.data = datas['data']\n",
    "        self.n=datas['n']    \n",
    "       \n",
    "    def Lagrange(self, xi):\n",
    "        # variable para almacenar el resultado\n",
    "        result = 0.0\n",
    "        f=self.data\n",
    "        # longitud de los datos\n",
    "        n = len(f[0])\n",
    "        # ciclos para realizar la suma de multiplicaciones\n",
    "        for i in range (n):\n",
    "            # f(xi)=yi\n",
    "            term = f[1][i]\n",
    "            # for para calcular el coeficiente de Lagrange (Li)\n",
    "            for j in range(n):\n",
    "                # combinaciones en las que j!=i (revisar definicion de Li)\n",
    "                if (j!=i):\n",
    "                    # Li*f(xi)\n",
    "                    term = (xi - f[0][j])/(f[0][i] - f[0][j])*term\n",
    "            # se suma el Li*f(xi) con el resto de los valores evaluados\n",
    "            result += term\n",
    "        # se devuelve el resultado\n",
    "        return result "
   ]
  },
  {
   "cell_type": "code",
   "execution_count": 11,
   "metadata": {},
   "outputs": [],
   "source": [
    "datas={'data':(x,y),'n':len(x)-1}"
   ]
  },
  {
   "cell_type": "code",
   "execution_count": 12,
   "metadata": {},
   "outputs": [],
   "source": [
    "xp=np.linspace(0,6,30)\n",
    "yp=np.array([Interpolation(datas).Lagrange(i) for i in xp])\n",
    "yr=np.array([funcion(i) for i in xp])"
   ]
  },
  {
   "cell_type": "code",
   "execution_count": 13,
   "metadata": {},
   "outputs": [
    {
     "data": {
      "text/plain": [
       "<matplotlib.legend.Legend at 0x7f755f9682e0>"
      ]
     },
     "execution_count": 13,
     "metadata": {},
     "output_type": "execute_result"
    },
    {
     "data": {
      "image/png": "[encoded data removed]",
      "text/plain": [
       "<Figure size 432x288 with 1 Axes>"
      ]
     },
     "metadata": {
      "needs_background": "light"
     },
     "output_type": "display_data"
    }
   ],
   "source": [
    "plt.plot(xp,yp,'red',lw=3,label='inter')\n",
    "plt.plot(xp,yr,'blue',lw=1,marker='*',label='real')\n",
    "for i in range(len(x)):\n",
    "    plt.plot(x[i],y[i],'black',lw=2,marker='o')\n",
    "    \n",
    "plt.grid()\n",
    "plt.legend()"
   ]
  }
 ],
 "metadata": {
  "kernelspec": {
   "display_name": "Python 3 (ipykernel)",
   "language": "python",
   "name": "python3"
  },
  "language_info": {
   "codemirror_mode": {
    "name": "ipython",
    "version": 3
   },
   "file_extension": ".py",
   "mimetype": "text/x-python",
   "name": "python",
   "nbconvert_exporter": "python",
   "pygments_lexer": "ipython3",
   "version": "3.8.10"
  }
 },
 "nbformat": 4,
 "nbformat_minor": 4
}
