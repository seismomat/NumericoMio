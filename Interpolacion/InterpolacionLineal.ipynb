{
 "cells": [
  {
   "cell_type": "code",
   "execution_count": 1,
   "id": "865eb8c4",
   "metadata": {},
   "outputs": [],
   "source": [
    "import math as m\n",
    "import matplotlib.pyplot as plt \n",
    "import numpy as np\n",
    "\n",
    "f= lambda x: m.exp(x)\n",
    "x= np.r_[0:1:0.1]\n",
    "exponential=np.array([f(i) for i in x])"
   ]
  },
  {
   "cell_type": "code",
   "execution_count": 2,
   "id": "2091d4ca",
   "metadata": {},
   "outputs": [
    {
     "data": {
      "image/png": "[encoded data removed]",
      "text/plain": [
       "<Figure size 432x288 with 1 Axes>"
      ]
     },
     "metadata": {
      "needs_background": "light"
     },
     "output_type": "display_data"
    }
   ],
   "source": [
    "plt.plot(x,exponential,linewidth=3,color=\"red\")\n",
    "plt.plot(x[2],f(x[2]),color=\"black\",marker=\"o\",markersize=12)\n",
    "plt.plot(x[3],f(x[3]),color=\"black\",marker=\"o\",markersize=12)\n",
    "plt.title(\"Grafica de la exponencial\",size=14)\n",
    "plt.grid()\n",
    "plt.show()"
   ]
  },
  {
   "cell_type": "code",
   "execution_count": 3,
   "id": "7d3806c3",
   "metadata": {},
   "outputs": [
    {
     "data": {
      "text/plain": [
       "1.29847638780967"
      ]
     },
     "execution_count": 3,
     "metadata": {},
     "output_type": "execute_result"
    }
   ],
   "source": [
    "x0=0.26\n",
    "a=0.2; b=0.3\n",
    "F_x=(x0-a)/(b-a)*(f(b)-f(a))+f(a)\n",
    "F_x"
   ]
  },
  {
   "cell_type": "code",
   "execution_count": 4,
   "id": "72a8b2bb",
   "metadata": {},
   "outputs": [
    {
     "data": {
      "text/plain": [
       "1.2969300866657718"
      ]
     },
     "execution_count": 4,
     "metadata": {},
     "output_type": "execute_result"
    }
   ],
   "source": [
    "f_x=f(x0)\n",
    "f_x"
   ]
  },
  {
   "cell_type": "code",
   "execution_count": null,
   "id": "ef392f66",
   "metadata": {},
   "outputs": [],
   "source": []
  }
 ],
 "metadata": {
  "kernelspec": {
   "display_name": "Python 3 (ipykernel)",
   "language": "python",
   "name": "python3"
  },
  "language_info": {
   "codemirror_mode": {
    "name": "ipython",
    "version": 3
   },
   "file_extension": ".py",
   "mimetype": "text/x-python",
   "name": "python",
   "nbconvert_exporter": "python",
   "pygments_lexer": "ipython3",
   "version": "3.9.12"
  }
 },
 "nbformat": 4,
 "nbformat_minor": 5
}
