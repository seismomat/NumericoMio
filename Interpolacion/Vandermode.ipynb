{
 "cells": [
  {
   "cell_type": "code",
   "execution_count": 23,
   "metadata": {},
   "outputs": [],
   "source": [
    "import numpy as np\n",
    "from numpy import linalg as LA\n",
    "import matplotlib.pyplot as plt"
   ]
  },
  {
   "cell_type": "code",
   "execution_count": 56,
   "metadata": {},
   "outputs": [],
   "source": [
    "x=np.linspace(0,4,20)\n",
    "funcion = lambda x: ((-x)**(3))+(np.e**(x))-np.sin((x)*3)\n",
    "y=np.array([funcion(i) for i in x])"
   ]
  },
  {
   "cell_type": "code",
   "execution_count": 57,
   "metadata": {},
   "outputs": [],
   "source": [
    "class Interpolation:\n",
    "    def __init__(self,datas):\n",
    "        self.data = datas['data']\n",
    "        self.n=datas['n']    \n",
    "        \n",
    "    def Vandermode(self):\n",
    "        M=np.zeros((self.data[0].shape[0],self.n+1))\n",
    "        \n",
    "        for i in range(self.n+1):\n",
    "            M[:,i]=self.data[0]**i\n",
    "            \n",
    "        return LA.solve(M,self.data[1])\n",
    "    \n",
    "    \n",
    "def horner(coef, x):\n",
    "    # el primer valor es igual al coeficiente mas grande\n",
    "    p = coef[0]\n",
    "    # comenzamos en 1 ya que el primer coeficiente se asigna antes\n",
    "    # de ingresar al ciclo for\n",
    "    for i in range(1,len(coef)):\n",
    "        # se calcula el resto de los valores como se describe en\n",
    "        # en algoritmo\n",
    "        p = coef[i]+x*p\n",
    "    return p"
   ]
  },
  {
   "cell_type": "code",
   "execution_count": 58,
   "metadata": {},
   "outputs": [],
   "source": [
    "datas={'data':(x,y),'n':len(x)-1}\n",
    "coef=np.flip(Interpolation(datas).Vandermode())"
   ]
  },
  {
   "cell_type": "code",
   "execution_count": 61,
   "metadata": {},
   "outputs": [],
   "source": [
    "xp=np.linspace(0,4,30)\n",
    "yp=np.array([horner(coef,i) for i in xp])\n",
    "yr=np.array([funcion(i) for i in xp])"
   ]
  },
  {
   "cell_type": "code",
   "execution_count": 64,
   "metadata": {},
   "outputs": [
    {
     "data": {
      "text/plain": [
       "<matplotlib.legend.Legend at 0x7f74162dcfa0>"
      ]
     },
     "execution_count": 64,
     "metadata": {},
     "output_type": "execute_result"
    },
    {
     "data": {
      "image/png": "[encoded data removed]",
      "text/plain": [
       "<Figure size 432x288 with 1 Axes>"
      ]
     },
     "metadata": {
      "needs_background": "light"
     },
     "output_type": "display_data"
    }
   ],
   "source": [
    "plt.plot(xp,yp,'red',lw=3,label='inter')\n",
    "plt.plot(xp,yr,'blue',lw=1,marker='*',label='real')\n",
    "for i in range(len(x)):\n",
    "    plt.plot(x[i],y[i],'black',lw=2,marker='o')\n",
    "    \n",
    "plt.grid()\n",
    "plt.legend()"
   ]
  },
  {
   "cell_type": "code",
   "execution_count": null,
   "metadata": {},
   "outputs": [],
   "source": []
  }
 ],
 "metadata": {
  "kernelspec": {
   "display_name": "Python 3 (ipykernel)",
   "language": "python",
   "name": "python3"
  },
  "language_info": {
   "codemirror_mode": {
    "name": "ipython",
    "version": 3
   },
   "file_extension": ".py",
   "mimetype": "text/x-python",
   "name": "python",
   "nbconvert_exporter": "python",
   "pygments_lexer": "ipython3",
   "version": "3.8.10"
  }
 },
 "nbformat": 4,
 "nbformat_minor": 4
}
