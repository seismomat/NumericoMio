{
 "cells": [
  {
   "cell_type": "code",
   "execution_count": 1,
   "id": "2b561276",
   "metadata": {},
   "outputs": [],
   "source": [
    "import numpy as np"
   ]
  },
  {
   "cell_type": "code",
   "execution_count": 2,
   "id": "23aaff74",
   "metadata": {},
   "outputs": [],
   "source": [
    "def factorizacionLU(A):\n",
    "    # dimension de la matriz\n",
    "    n = len(A)\n",
    "    # matriz L inicialmente es la identidad\n",
    "    L = np.identity(n)\n",
    "    # inicialmente la matriz A y la matriz U son iguales\n",
    "    U = np.zeros((n,n))\n",
    "    for i in range(0,n):\n",
    "        for j in range(0,n):\n",
    "            U[i][j] = A[i][j]\n",
    "    # eliminacion gaussiana\n",
    "    for i in range(0,n):\n",
    "        for j in range(i+1,n):\n",
    "            # guardar los factores de eliminacion gaussiana \n",
    "            # en la matriz L\n",
    "            factor = U[j][i]/U[i][i]\n",
    "            L[j][i] = factor\n",
    "            # realizar eliminacion gaussiana en la matriz U\n",
    "            # para quedar de forma triangular superior\n",
    "            for k in range(i,n):\n",
    "                U[j][k] = U[j][k] - factor*U[i][k]\n",
    "    return L,U"
   ]
  },
  {
   "cell_type": "code",
   "execution_count": 3,
   "id": "5a4f15c7",
   "metadata": {},
   "outputs": [],
   "source": [
    "# algoritmo para sustitucion hacia delante\n",
    "# n es el tamano de la dimension del problema\n",
    "# matriz L, vector b ya estan dados como parametros\n",
    "# guardar los resultados en el vector y\n",
    "# Ly=b\n",
    "def sustDelante(L, b):\n",
    "    n=len(L)\n",
    "    y=np.empty_like(b)\n",
    "    y[0] = b[0]\n",
    "    for i in range(1,n):\n",
    "        y[i] = b[i]\n",
    "        for j in range(0,i):\n",
    "            y[i] -= L[i][j]*y[j]\n",
    "    return y\n",
    "\n",
    "# algoritmo para sustitucion hacia atras\n",
    "# n es el tamano de la dimension del problema\n",
    "# matriz U, vector y ya estan dados como parametros\n",
    "# guardar los resultados en el vector x\n",
    "# Ux=y\n",
    "def sustAtras(U, y):\n",
    "    n=len(U)\n",
    "    x=np.empty_like(y)\n",
    "    x[n-1] = y[n-1]/U[n-1][n-1]\n",
    "    for i in range(n-2,-1,-1):\n",
    "        x[i] = y[i]\n",
    "        for j in range(i+1,n):\n",
    "            x[i] -= U[i][j]*x[j]\n",
    "        x[i] /= U[i][i]\n",
    "    return x"
   ]
  },
  {
   "cell_type": "code",
   "execution_count": 4,
   "id": "0077f91a",
   "metadata": {},
   "outputs": [
    {
     "name": "stdout",
     "output_type": "stream",
     "text": [
      "[[-4. -3.  1.]\n",
      " [ 8. 11. -1.]\n",
      " [ 4. 18.  5.]]\n",
      "[[ 1.  0.  0.]\n",
      " [-2.  1.  0.]\n",
      " [-1.  3.  1.]]\n",
      "[[-4. -3.  1.]\n",
      " [ 0.  5.  1.]\n",
      " [ 0.  0.  3.]]\n",
      "[5. 6. 1.]\n",
      "[ -9.25   6.   -14.  ]\n"
     ]
    }
   ],
   "source": [
    "# matriz del sistema Ax=b\n",
    "A = np.array([[-4.0,-3.0,1.0],[8.0,11.0,-1.0],[4.0,18.0,5.0]])\n",
    "# vector b = A*xTeor, producto matriz A con vector xTeor \n",
    "b = np.array([5.0,6.0,1.0])\n",
    "# llamar funcion de descomposicion LU para obtener/llenar matrices L,U\n",
    "\n",
    "def LU_solver(A,b):\n",
    "    L,U=factorizacionLU(A)\n",
    "    #se imprimen las matrices y el vector b\n",
    "    print(A)\n",
    "    print(L)\n",
    "    print(U)\n",
    "    print(b)\n",
    "    # llamar funcion sustDelante para obtener/llenar vector y\n",
    "    y = sustDelante(L,b)    \n",
    "    # llamar funcion sustAtras para obtener/llenar vector x \n",
    "    # solucion aproximada/calculada\n",
    "    x = sustAtras(U,y)\n",
    "    # imprimir solucion aproximada/calculada\n",
    "    print(x)\n",
    "    \n",
    "LU_solver(A,b)"
   ]
  },
  {
   "cell_type": "code",
   "execution_count": 5,
   "id": "8b1092cc",
   "metadata": {},
   "outputs": [
    {
     "name": "stdout",
     "output_type": "stream",
     "text": [
      "[ -9.25   6.   -14.  ]\n"
     ]
    }
   ],
   "source": [
    "# comprobacion con numpy\n",
    "x = np.linalg.solve(A,b)\n",
    "print(x)"
   ]
  },
  {
   "cell_type": "code",
   "execution_count": 6,
   "id": "3011a6eb",
   "metadata": {},
   "outputs": [],
   "source": [
    "def Cholesky(A):\n",
    "    n=A.shape[0]\n",
    "    L=np.zeros_like(A)\n",
    "\n",
    "    for k in range(n):\n",
    "        for i in range(k+1):\n",
    "            if k==i:\n",
    "                sum=0.0\n",
    "                for j in range(k):\n",
    "                    sum+= L[k][j]*L[k][j]\n",
    "                L[k][k]=np.sqrt(A[k][k]-sum)\n",
    "\n",
    "            else:\n",
    "                sum=0.0\n",
    "                for j in range(i):\n",
    "                    sum+= L[i][j]*L[k][j]\n",
    "                L[k][i]=(A[k][i]-sum)/L[i][i]\n",
    "    return L"
   ]
  },
  {
   "cell_type": "code",
   "execution_count": 7,
   "id": "362eeb48",
   "metadata": {},
   "outputs": [
    {
     "name": "stdout",
     "output_type": "stream",
     "text": [
      "[[ 2.44948974  0.          0.        ]\n",
      " [ 6.12372436  4.18330013  0.        ]\n",
      " [22.45365598 20.91650066  6.11010093]]\n",
      "[[ 2.44948974  6.12372436 22.45365598]\n",
      " [ 0.          4.18330013 20.91650066]\n",
      " [ 0.          0.          6.11010093]]\n",
      "[[  6.  15.  55.]\n",
      " [ 15.  55. 225.]\n",
      " [ 55. 225. 979.]]\n",
      "[31.02687008 25.0998008   6.11010093]\n",
      "[1. 1. 1.]\n"
     ]
    }
   ],
   "source": [
    "# se define la matriz A\n",
    "AA = np.array([[6.0,15.0,55.0],[15.0,55.0,225.0],[55.0,225.0,979.0]])\n",
    "\n",
    "# se define la matriz A\n",
    "bb = np.array([76.0, 295.0, 1259.0])\n",
    "\n",
    "def Cholesky_Solver(AA,bb):\n",
    "    # funcion de numpy encargada de la factorizacion Cholesky\n",
    "    L = Cholesky(AA)\n",
    "\n",
    "    # Dado que se usara Lt varias veces, es mejor guardarla en memoria\n",
    "    Lt = L.T\n",
    "\n",
    "    # mostrar ambas matrices\n",
    "    print(L)\n",
    "    print(Lt)\n",
    "\n",
    "    # se comprueba el resultado\n",
    "    print(np.matmul(L,Lt))\n",
    "\n",
    "    # nuevo vector b'\n",
    "    y = np.linalg.solve(L,bb)\n",
    "\n",
    "    print(y)\n",
    "\n",
    "    # usando sustitucion hacia atras\n",
    "    x =  np.linalg.solve(Lt,y)\n",
    "\n",
    "    # mostrar solucion usando sustAtras\n",
    "    print(x)\n",
    "    \n",
    "Cholesky_Solver(AA,bb)"
   ]
  },
  {
   "cell_type": "code",
   "execution_count": 8,
   "id": "bdee191d",
   "metadata": {},
   "outputs": [
    {
     "name": "stdout",
     "output_type": "stream",
     "text": [
      "[1. 1. 1.]\n"
     ]
    }
   ],
   "source": [
    "# comprobacion con numpy\n",
    "x = np.linalg.solve(AA,bb)\n",
    "print(x)"
   ]
  }
 ],
 "metadata": {
  "kernelspec": {
   "display_name": "Python 3 (ipykernel)",
   "language": "python",
   "name": "python3"
  },
  "language_info": {
   "codemirror_mode": {
    "name": "ipython",
    "version": 3
   },
   "file_extension": ".py",
   "mimetype": "text/x-python",
   "name": "python",
   "nbconvert_exporter": "python",
   "pygments_lexer": "ipython3",
   "version": "3.9.12"
  }
 },
 "nbformat": 4,
 "nbformat_minor": 5
}
