{
 "cells": [
  {
   "cell_type": "code",
   "execution_count": 1,
   "id": "583a489b",
   "metadata": {},
   "outputs": [],
   "source": [
    "import numpy as np"
   ]
  },
  {
   "cell_type": "code",
   "execution_count": 2,
   "id": "4c9c8273",
   "metadata": {},
   "outputs": [],
   "source": [
    "f= lambda x: np.cos(x)-x+1\n",
    "g=lambda x: np.cos(x)+1"
   ]
  },
  {
   "cell_type": "code",
   "execution_count": 3,
   "id": "0973acf4",
   "metadata": {},
   "outputs": [],
   "source": [
    "x=1.5"
   ]
  },
  {
   "cell_type": "code",
   "execution_count": 4,
   "id": "3964a212",
   "metadata": {},
   "outputs": [],
   "source": [
    "def FixPoint(g,x0,Tol=0.0001,N=100):\n",
    "    n=1\n",
    "    while n<=N:\n",
    "        x1=g(x0)\n",
    "        if abs(x1-x0)<=Tol:\n",
    "            print(f\"EL punto fijo es {x1}\")\n",
    "            return x1\n",
    "        x0=x1\n",
    "        n+=1\n",
    "    else:\n",
    "        print(f\"Una aproximación del punto fijo es {x1}\")\n",
    "        return x1\n",
    "    "
   ]
  },
  {
   "cell_type": "code",
   "execution_count": 5,
   "id": "26bd9dc7",
   "metadata": {},
   "outputs": [
    {
     "name": "stdout",
     "output_type": "stream",
     "text": [
      "Una aproximación del punto fijo es 1.2864456249325646\n"
     ]
    }
   ],
   "source": [
    "FP=FixPoint(g,1.5)"
   ]
  },
  {
   "cell_type": "code",
   "execution_count": 6,
   "id": "aaf9d5f5",
   "metadata": {},
   "outputs": [
    {
     "data": {
      "text/plain": [
       "-0.00591133938366184"
      ]
     },
     "execution_count": 6,
     "metadata": {},
     "output_type": "execute_result"
    }
   ],
   "source": [
    "f(FP)"
   ]
  },
  {
   "cell_type": "code",
   "execution_count": 7,
   "id": "e9d0aa9d",
   "metadata": {},
   "outputs": [],
   "source": [
    "f= lambda x: 0.5*np.sin(x)-x+1\n",
    "g=lambda x: 0.5*np.sin(x)+1"
   ]
  },
  {
   "cell_type": "code",
   "execution_count": 10,
   "id": "63face36",
   "metadata": {},
   "outputs": [
    {
     "name": "stdout",
     "output_type": "stream",
     "text": [
      "EL punto fijo es 1.4987028026934108\n"
     ]
    }
   ],
   "source": [
    "FP=FixPoint(g,1.5)"
   ]
  },
  {
   "cell_type": "code",
   "execution_count": 11,
   "id": "b055592d",
   "metadata": {},
   "outputs": [
    {
     "data": {
      "text/plain": [
       "-1.6090586005823582e-06"
      ]
     },
     "execution_count": 11,
     "metadata": {},
     "output_type": "execute_result"
    }
   ],
   "source": [
    "f(FP)"
   ]
  },
  {
   "cell_type": "code",
   "execution_count": null,
   "id": "3cefa5b9",
   "metadata": {},
   "outputs": [],
   "source": []
  }
 ],
 "metadata": {
  "kernelspec": {
   "display_name": "Python 3 (ipykernel)",
   "language": "python",
   "name": "python3"
  },
  "language_info": {
   "codemirror_mode": {
    "name": "ipython",
    "version": 3
   },
   "file_extension": ".py",
   "mimetype": "text/x-python",
   "name": "python",
   "nbconvert_exporter": "python",
   "pygments_lexer": "ipython3",
   "version": "3.9.12"
  }
 },
 "nbformat": 4,
 "nbformat_minor": 5
}
