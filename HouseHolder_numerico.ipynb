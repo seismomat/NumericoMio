{
  "nbformat": 4,
  "nbformat_minor": 0,
  "metadata": {
    "colab": {
      "provenance": []
    },
    "kernelspec": {
      "name": "python3",
      "display_name": "Python 3"
    },
    "language_info": {
      "name": "python"
    }
  },
  "cells": [
    {
      "cell_type": "code",
      "execution_count": null,
      "metadata": {
        "id": "XBVx3syizM6b"
      },
      "outputs": [],
      "source": [
        "import numpy as np\n",
        "from numpy import linalg as la"
      ]
    },
    {
      "cell_type": "code",
      "source": [
        "A=[[-1,-1,1],[1,3,3],[-1,-1,5]]\n",
        "A=np.array(A)\n",
        "A"
      ],
      "metadata": {
        "colab": {
          "base_uri": "https://localhost:8080/"
        },
        "id": "Ni3ks2ci0atW",
        "outputId": "ac389f04-0c23-4f8e-9c55-cba58144a597"
      },
      "execution_count": null,
      "outputs": [
        {
          "output_type": "execute_result",
          "data": {
            "text/plain": [
              "array([[-1, -1,  1],\n",
              "       [ 1,  3,  3],\n",
              "       [-1, -1,  5]])"
            ]
          },
          "metadata": {},
          "execution_count": 2
        }
      ]
    },
    {
      "cell_type": "code",
      "source": [
        "alpha=np.sign(A[0,0])*la.norm(A[:,0])\n",
        "ei=np.zeros(len(A))\n",
        "ei[0]=1\n",
        "\n",
        "v=A[:,0]-alpha*ei\n",
        "v=v.reshape(-1,1)\n",
        "v_vt=v@v.T\n",
        "vt_v=v.T@v\n",
        "vt_v=vt_v[0,0]\n",
        "Id=np.eye(len(A))\n",
        "H=np.zeros_like(A)\n",
        "\n",
        "H=Id-(2/vt_v)*v_vt\n",
        "a=H@A[:,0]\n",
        "a=np.round(a,5)\n",
        "R=np.copy(A)\n",
        "R[:,0]=a\n",
        "R"
      ],
      "metadata": {
        "colab": {
          "base_uri": "https://localhost:8080/"
        },
        "id": "pxxmc28Y1fg3",
        "outputId": "e835260b-6534-4853-bb48-1ac796032b3e"
      },
      "execution_count": null,
      "outputs": [
        {
          "output_type": "execute_result",
          "data": {
            "text/plain": [
              "array([[-1, -1,  1],\n",
              "       [ 0,  3,  3],\n",
              "       [ 0, -1,  5]])"
            ]
          },
          "metadata": {},
          "execution_count": 3
        }
      ]
    },
    {
      "cell_type": "code",
      "source": [
        "R[1:,1:]"
      ],
      "metadata": {
        "colab": {
          "base_uri": "https://localhost:8080/"
        },
        "id": "GiAdeZKm6QPR",
        "outputId": "dec6cd68-9c5e-44f2-d215-785207dd37b4"
      },
      "execution_count": null,
      "outputs": [
        {
          "output_type": "execute_result",
          "data": {
            "text/plain": [
              "array([[ 3,  3],\n",
              "       [-1,  5]])"
            ]
          },
          "metadata": {},
          "execution_count": 6
        }
      ]
    },
    {
      "cell_type": "code",
      "source": [
        "A_n=R[1:,1:]\n",
        "alpha=np.sign(A_n[0,0])*la.norm(A_n[:,0])\n",
        "ei=np.zeros(len(A_n))\n",
        "ei[0]=1\n",
        "\n",
        "v=A_n[:,0]-alpha*ei\n",
        "v=v.reshape(-1,1)\n",
        "v_vt=v@v.T\n",
        "vt_v=v.T@v\n",
        "vt_v=vt_v[0,0]\n",
        "Id=np.eye(len(A_n))\n",
        "H=np.zeros_like(A_n)\n",
        "\n",
        "H=Id-(2/vt_v)*v_vt\n",
        "a=H@A_n[:,0]\n",
        "a=np.round(a,5)\n",
        "R_n=np.copy(A_n)\n",
        "R_n[:,0]=a\n",
        "R_n"
      ],
      "metadata": {
        "colab": {
          "base_uri": "https://localhost:8080/"
        },
        "id": "sLt2JeW95YZ4",
        "outputId": "1d7c6750-f887-4137-9c4c-e44e48cb19ed"
      },
      "execution_count": null,
      "outputs": [
        {
          "output_type": "execute_result",
          "data": {
            "text/plain": [
              "array([[3, 3],\n",
              "       [0, 5]])"
            ]
          },
          "metadata": {},
          "execution_count": 8
        }
      ]
    },
    {
      "cell_type": "code",
      "source": [
        "R[1:,1:]=R_n\n",
        "R"
      ],
      "metadata": {
        "colab": {
          "base_uri": "https://localhost:8080/"
        },
        "id": "FU0OB8FM2kTX",
        "outputId": "52c3630e-edbd-46b8-95b7-fe0ff9d9c8fb"
      },
      "execution_count": null,
      "outputs": [
        {
          "output_type": "execute_result",
          "data": {
            "text/plain": [
              "array([[-1, -1,  1],\n",
              "       [ 0,  3,  3],\n",
              "       [ 0,  0,  5]])"
            ]
          },
          "metadata": {},
          "execution_count": 9
        }
      ]
    },
    {
      "cell_type": "code",
      "source": [
        "a={}\n",
        "for i in range(1,5):\n",
        "  na=\"a_\"+str(i)\n",
        "  a[na]=i*[0.0]"
      ],
      "metadata": {
        "id": "Nhug5VcK7N8n"
      },
      "execution_count": null,
      "outputs": []
    },
    {
      "cell_type": "code",
      "source": [
        "a"
      ],
      "metadata": {
        "colab": {
          "base_uri": "https://localhost:8080/"
        },
        "id": "cBr5I_JJ77yF",
        "outputId": "5925c2d9-c893-4c8c-b867-5ec061eb2a6b"
      },
      "execution_count": null,
      "outputs": [
        {
          "output_type": "execute_result",
          "data": {
            "text/plain": [
              "{'a_1': [0.0],\n",
              " 'a_2': [0.0, 0.0],\n",
              " 'a_3': [0.0, 0.0, 0.0],\n",
              " 'a_4': [0.0, 0.0, 0.0, 0.0]}"
            ]
          },
          "metadata": {},
          "execution_count": 17
        }
      ]
    },
    {
      "cell_type": "code",
      "source": [],
      "metadata": {
        "id": "tICg3LO378O5"
      },
      "execution_count": null,
      "outputs": []
    }
  ]
}