{
 "cells": [
  {
   "cell_type": "code",
   "execution_count": 3,
   "id": "9d592ea5",
   "metadata": {},
   "outputs": [
    {
     "name": "stdout",
     "output_type": "stream",
     "text": [
      "El mínimo se encuentra en [1. 3.] con valor de la función 0.0\n"
     ]
    }
   ],
   "source": [
    "import numpy as np\n",
    "\n",
    "def f(x):\n",
    "    return x[0]**2 + x[1]**2 - 2*x[0] - 6*x[1] + 10\n",
    "\n",
    "def grad_f(x):\n",
    "    return np.array([2*x[0] - 2, 2*x[1] - 6])\n",
    "\n",
    "def line_search(f, xk, pk, alpha_init=1, rho=0.5, c=0.1, max_iter=100):\n",
    "    alpha = alpha_init\n",
    "    fk = f(xk)\n",
    "    gk = np.dot(grad_f(xk), pk)\n",
    "    for i in range(max_iter):\n",
    "        if f(xk + alpha*pk) > fk + c*alpha*gk:\n",
    "            alpha = rho*alpha\n",
    "        else:\n",
    "            return alpha\n",
    "    return alpha\n",
    "\n",
    "def gradient_descent_ls(x0, tol=1e-6, max_iter=100):\n",
    "    x =np.copy( x0)\n",
    "    for i in range(max_iter):\n",
    "        grad = grad_f(x)\n",
    "        if np.linalg.norm(grad) < tol:\n",
    "            return x\n",
    "        pk = -grad\n",
    "        alpha = line_search(f, x, pk)\n",
    "        x =x+ alpha*pk\n",
    "    return x\n",
    "\n",
    "# Ejemplo de uso:\n",
    "x0 = np.array([0, 0])\n",
    "xmin = gradient_descent_ls(x0)\n",
    "print(\"El mínimo se encuentra en\", xmin, \"con valor de la función\", f(xmin))\n"
   ]
  },
  {
   "cell_type": "code",
   "execution_count": null,
   "id": "5324e587",
   "metadata": {},
   "outputs": [],
   "source": []
  }
 ],
 "metadata": {
  "kernelspec": {
   "display_name": "Python 3 (ipykernel)",
   "language": "python",
   "name": "python3"
  },
  "language_info": {
   "codemirror_mode": {
    "name": "ipython",
    "version": 3
   },
   "file_extension": ".py",
   "mimetype": "text/x-python",
   "name": "python",
   "nbconvert_exporter": "python",
   "pygments_lexer": "ipython3",
   "version": "3.9.12"
  }
 },
 "nbformat": 4,
 "nbformat_minor": 5
}
