{
  "cells": [
    {
      "cell_type": "markdown",
      "metadata": {
        "id": "view-in-github",
        "colab_type": "text"
      },
      "source": [
        "<a href=\"https://colab.research.google.com/github/seismomat/NumericoMio/blob/master/EulerModificadoUnaEcuacion.ipynb\" target=\"_parent\"><img src=\"https://colab.research.google.com/assets/colab-badge.svg\" alt=\"Open In Colab\"/></a>"
      ]
    },
    {
      "cell_type": "markdown",
      "id": "132f3e15",
      "metadata": {
        "id": "132f3e15"
      },
      "source": [
        "$$x(t+h)= x(t) +hf(t+h,x+hf(t,x))$$"
      ]
    },
    {
      "cell_type": "markdown",
      "id": "8af6bbd2",
      "metadata": {
        "id": "8af6bbd2"
      },
      "source": [
        "O de manera equivalente\n",
        "\n",
        "$$ x(t+h)=x(t) + F_{2}$$ \n",
        "\n",
        "de manera que \n",
        "\n",
        "$$F_{1}=hf(t,x)$$\n",
        "$$ F_{2}=hf(t+h,x+F_{1})$$"
      ]
    },
    {
      "cell_type": "code",
      "execution_count": 9,
      "id": "356cbf6a",
      "metadata": {
        "id": "356cbf6a"
      },
      "outputs": [],
      "source": [
        "import numpy as np\n",
        "import pandas as pd\n",
        "import matplotlib.pyplot as plt "
      ]
    },
    {
      "cell_type": "code",
      "execution_count": 10,
      "id": "7c4eeb71",
      "metadata": {
        "id": "7c4eeb71"
      },
      "outputs": [],
      "source": [
        "f=lambda x,t:x*np.tan(t+3)\n",
        "x_t=lambda t:1 / np.cos(t+3)"
      ]
    },
    {
      "cell_type": "code",
      "execution_count": 11,
      "id": "275a1916",
      "metadata": {
        "id": "275a1916"
      },
      "outputs": [],
      "source": [
        "t0=-3; x0=1; h=0.05;M=20;"
      ]
    },
    {
      "cell_type": "code",
      "execution_count": 12,
      "id": "8de60e62",
      "metadata": {
        "id": "8de60e62"
      },
      "outputs": [],
      "source": [
        "def EulerMod(M,h,tk,xk):\n",
        "    x=[];t=[];\n",
        "    x_exact=[];\n",
        "    for k in range(M):\n",
        "        F1=h*f(xk,tk)\n",
        "        tkp1=tk+h;\n",
        "        F2=h*f(xk+F1,tkp1);\n",
        "        xkp1=xk+F2;\n",
        "        \n",
        "        \n",
        "        xk=np.copy(xkp1)\n",
        "        tk=np.copy(round(tkp1,2))\n",
        "        \n",
        "        x.append(xk)\n",
        "        t.append(tk)\n",
        "        x_exact.append(x_t(tk))\n",
        "        \n",
        "    return x,t,x_exact"
      ]
    },
    {
      "cell_type": "code",
      "execution_count": 17,
      "id": "0ca936a6",
      "metadata": {
        "id": "0ca936a6",
        "outputId": "9dd07af5-6f08-4729-9be0-3dc5e37a0778",
        "colab": {
          "base_uri": "https://localhost:8080/",
          "height": 363
        }
      },
      "outputs": [
        {
          "output_type": "execute_result",
          "data": {
            "text/plain": [
              "       t               aprox      real\n",
              "0  -2.95   1.002502085418777  1.001251\n",
              "1   -2.9  1.0075439550219685  1.005021\n",
              "2  -2.85  1.0151959200388765  1.011356\n",
              "3   -2.8  1.0255631955316669  1.020339\n",
              "4  -2.75  1.0387893681916354  1.032085\n",
              "5   -2.7   1.055061254429137  1.046752\n",
              "6  -2.65  1.0746154601926392  1.064540\n",
              "7   -2.6  1.0977470843925385  1.085704\n",
              "8  -2.55  1.1248211877072376  1.110559\n",
              "9   -2.5  1.1562879029076345  1.139494"
            ],
            "text/html": [
              "\n",
              "  <div id=\"df-89f183eb-a8f5-42d6-b3e2-cf0920683eac\">\n",
              "    <div class=\"colab-df-container\">\n",
              "      <div>\n",
              "<style scoped>\n",
              "    .dataframe tbody tr th:only-of-type {\n",
              "        vertical-align: middle;\n",
              "    }\n",
              "\n",
              "    .dataframe tbody tr th {\n",
              "        vertical-align: top;\n",
              "    }\n",
              "\n",
              "    .dataframe thead th {\n",
              "        text-align: right;\n",
              "    }\n",
              "</style>\n",
              "<table border=\"1\" class=\"dataframe\">\n",
              "  <thead>\n",
              "    <tr style=\"text-align: right;\">\n",
              "      <th></th>\n",
              "      <th>t</th>\n",
              "      <th>aprox</th>\n",
              "      <th>real</th>\n",
              "    </tr>\n",
              "  </thead>\n",
              "  <tbody>\n",
              "    <tr>\n",
              "      <th>0</th>\n",
              "      <td>-2.95</td>\n",
              "      <td>1.002502085418777</td>\n",
              "      <td>1.001251</td>\n",
              "    </tr>\n",
              "    <tr>\n",
              "      <th>1</th>\n",
              "      <td>-2.9</td>\n",
              "      <td>1.0075439550219685</td>\n",
              "      <td>1.005021</td>\n",
              "    </tr>\n",
              "    <tr>\n",
              "      <th>2</th>\n",
              "      <td>-2.85</td>\n",
              "      <td>1.0151959200388765</td>\n",
              "      <td>1.011356</td>\n",
              "    </tr>\n",
              "    <tr>\n",
              "      <th>3</th>\n",
              "      <td>-2.8</td>\n",
              "      <td>1.0255631955316669</td>\n",
              "      <td>1.020339</td>\n",
              "    </tr>\n",
              "    <tr>\n",
              "      <th>4</th>\n",
              "      <td>-2.75</td>\n",
              "      <td>1.0387893681916354</td>\n",
              "      <td>1.032085</td>\n",
              "    </tr>\n",
              "    <tr>\n",
              "      <th>5</th>\n",
              "      <td>-2.7</td>\n",
              "      <td>1.055061254429137</td>\n",
              "      <td>1.046752</td>\n",
              "    </tr>\n",
              "    <tr>\n",
              "      <th>6</th>\n",
              "      <td>-2.65</td>\n",
              "      <td>1.0746154601926392</td>\n",
              "      <td>1.064540</td>\n",
              "    </tr>\n",
              "    <tr>\n",
              "      <th>7</th>\n",
              "      <td>-2.6</td>\n",
              "      <td>1.0977470843925385</td>\n",
              "      <td>1.085704</td>\n",
              "    </tr>\n",
              "    <tr>\n",
              "      <th>8</th>\n",
              "      <td>-2.55</td>\n",
              "      <td>1.1248211877072376</td>\n",
              "      <td>1.110559</td>\n",
              "    </tr>\n",
              "    <tr>\n",
              "      <th>9</th>\n",
              "      <td>-2.5</td>\n",
              "      <td>1.1562879029076345</td>\n",
              "      <td>1.139494</td>\n",
              "    </tr>\n",
              "  </tbody>\n",
              "</table>\n",
              "</div>\n",
              "      <button class=\"colab-df-convert\" onclick=\"convertToInteractive('df-89f183eb-a8f5-42d6-b3e2-cf0920683eac')\"\n",
              "              title=\"Convert this dataframe to an interactive table.\"\n",
              "              style=\"display:none;\">\n",
              "        \n",
              "  <svg xmlns=\"http://www.w3.org/2000/svg\" height=\"24px\"viewBox=\"0 0 24 24\"\n",
              "       width=\"24px\">\n",
              "    <path d=\"M0 0h24v24H0V0z\" fill=\"none\"/>\n",
              "    <path d=\"M18.56 5.44l.94 2.06.94-2.06 2.06-.94-2.06-.94-.94-2.06-.94 2.06-2.06.94zm-11 1L8.5 8.5l.94-2.06 2.06-.94-2.06-.94L8.5 2.5l-.94 2.06-2.06.94zm10 10l.94 2.06.94-2.06 2.06-.94-2.06-.94-.94-2.06-.94 2.06-2.06.94z\"/><path d=\"M17.41 7.96l-1.37-1.37c-.4-.4-.92-.59-1.43-.59-.52 0-1.04.2-1.43.59L10.3 9.45l-7.72 7.72c-.78.78-.78 2.05 0 2.83L4 21.41c.39.39.9.59 1.41.59.51 0 1.02-.2 1.41-.59l7.78-7.78 2.81-2.81c.8-.78.8-2.07 0-2.86zM5.41 20L4 18.59l7.72-7.72 1.47 1.35L5.41 20z\"/>\n",
              "  </svg>\n",
              "      </button>\n",
              "      \n",
              "  <style>\n",
              "    .colab-df-container {\n",
              "      display:flex;\n",
              "      flex-wrap:wrap;\n",
              "      gap: 12px;\n",
              "    }\n",
              "\n",
              "    .colab-df-convert {\n",
              "      background-color: #E8F0FE;\n",
              "      border: none;\n",
              "      border-radius: 50%;\n",
              "      cursor: pointer;\n",
              "      display: none;\n",
              "      fill: #1967D2;\n",
              "      height: 32px;\n",
              "      padding: 0 0 0 0;\n",
              "      width: 32px;\n",
              "    }\n",
              "\n",
              "    .colab-df-convert:hover {\n",
              "      background-color: #E2EBFA;\n",
              "      box-shadow: 0px 1px 2px rgba(60, 64, 67, 0.3), 0px 1px 3px 1px rgba(60, 64, 67, 0.15);\n",
              "      fill: #174EA6;\n",
              "    }\n",
              "\n",
              "    [theme=dark] .colab-df-convert {\n",
              "      background-color: #3B4455;\n",
              "      fill: #D2E3FC;\n",
              "    }\n",
              "\n",
              "    [theme=dark] .colab-df-convert:hover {\n",
              "      background-color: #434B5C;\n",
              "      box-shadow: 0px 1px 3px 1px rgba(0, 0, 0, 0.15);\n",
              "      filter: drop-shadow(0px 1px 2px rgba(0, 0, 0, 0.3));\n",
              "      fill: #FFFFFF;\n",
              "    }\n",
              "  </style>\n",
              "\n",
              "      <script>\n",
              "        const buttonEl =\n",
              "          document.querySelector('#df-89f183eb-a8f5-42d6-b3e2-cf0920683eac button.colab-df-convert');\n",
              "        buttonEl.style.display =\n",
              "          google.colab.kernel.accessAllowed ? 'block' : 'none';\n",
              "\n",
              "        async function convertToInteractive(key) {\n",
              "          const element = document.querySelector('#df-89f183eb-a8f5-42d6-b3e2-cf0920683eac');\n",
              "          const dataTable =\n",
              "            await google.colab.kernel.invokeFunction('convertToInteractive',\n",
              "                                                     [key], {});\n",
              "          if (!dataTable) return;\n",
              "\n",
              "          const docLinkHtml = 'Like what you see? Visit the ' +\n",
              "            '<a target=\"_blank\" href=https://colab.research.google.com/notebooks/data_table.ipynb>data table notebook</a>'\n",
              "            + ' to learn more about interactive tables.';\n",
              "          element.innerHTML = '';\n",
              "          dataTable['output_type'] = 'display_data';\n",
              "          await google.colab.output.renderOutput(dataTable, element);\n",
              "          const docLink = document.createElement('div');\n",
              "          docLink.innerHTML = docLinkHtml;\n",
              "          element.appendChild(docLink);\n",
              "        }\n",
              "      </script>\n",
              "    </div>\n",
              "  </div>\n",
              "  "
            ]
          },
          "metadata": {},
          "execution_count": 17
        }
      ],
      "source": [
        "x,t,x_exact=EulerMod(M,h,t0,x0)\n",
        "p=pd.DataFrame({\"t\":t,\"aprox\":x,\"real\":x_exact})\n",
        "p[:10]"
      ]
    },
    {
      "cell_type": "code",
      "execution_count": 18,
      "id": "36529f56",
      "metadata": {
        "id": "36529f56",
        "outputId": "f1e4fecb-5b3f-4f85-a489-74dea9a1698e",
        "colab": {
          "base_uri": "https://localhost:8080/",
          "height": 448
        }
      },
      "outputs": [
        {
          "output_type": "execute_result",
          "data": {
            "text/plain": [
              "<matplotlib.legend.Legend at 0x7f2094a8b2b0>"
            ]
          },
          "metadata": {},
          "execution_count": 18
        },
        {
          "output_type": "display_data",
          "data": {
            "text/plain": [
              "<Figure size 640x480 with 1 Axes>"
            ],
            "image/png": "[encoded data removed]"
          },
          "metadata": {}
        }
      ],
      "source": [
        "plt.plot(t,x,'--r',label=\"EulerMod\")\n",
        "plt.plot(t,x_exact,'black',label=\"Analitica\")\n",
        "plt.legend()"
      ]
    }
  ],
  "metadata": {
    "kernelspec": {
      "display_name": "Python 3 (ipykernel)",
      "language": "python",
      "name": "python3"
    },
    "language_info": {
      "codemirror_mode": {
        "name": "ipython",
        "version": 3
      },
      "file_extension": ".py",
      "mimetype": "text/x-python",
      "name": "python",
      "nbconvert_exporter": "python",
      "pygments_lexer": "ipython3",
      "version": "3.9.12"
    },
    "colab": {
      "provenance": [],
      "include_colab_link": true
    }
  },
  "nbformat": 4,
  "nbformat_minor": 5
}