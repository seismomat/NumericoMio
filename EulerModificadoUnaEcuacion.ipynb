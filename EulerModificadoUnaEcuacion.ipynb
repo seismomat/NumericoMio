{
 "cells": [
  {
   "cell_type": "markdown",
   "id": "132f3e15",
   "metadata": {},
   "source": [
    "$$x(t+h)= x(t) +hf(t+h,x+hf(t,x))$$"
   ]
  },
  {
   "cell_type": "markdown",
   "id": "8af6bbd2",
   "metadata": {},
   "source": [
    "O de manera equivalente\n",
    "\n",
    "$$ x(t+h)=x(t) + F_{2}$$ \n",
    "\n",
    "de manera que \n",
    "\n",
    "$$F_{1}=hf(t,x)$$\n",
    "$$ F_{2}=hf(t+h,x+F_{1})$$"
   ]
  },
  {
   "cell_type": "code",
   "execution_count": 29,
   "id": "356cbf6a",
   "metadata": {},
   "outputs": [],
   "source": [
    "import numpy as np\n",
    "import pandas as pd\n",
    "import matplotlib.pyplot as plt "
   ]
  },
  {
   "cell_type": "code",
   "execution_count": 14,
   "id": "7c4eeb71",
   "metadata": {},
   "outputs": [],
   "source": [
    "f=lambda x,t:x*np.tan(t+3)\n",
    "x_t=lambda t:1 / np.cos(t+3)"
   ]
  },
  {
   "cell_type": "code",
   "execution_count": 26,
   "id": "275a1916",
   "metadata": {},
   "outputs": [],
   "source": [
    "t0=-3; x0=1; h=0.05;M=20;"
   ]
  },
  {
   "cell_type": "code",
   "execution_count": 27,
   "id": "8de60e62",
   "metadata": {},
   "outputs": [],
   "source": [
    "def EulerMod(M,h,tk,xk):\n",
    "    x=[];t=[];\n",
    "    x_exact=[];\n",
    "    for k in range(M):\n",
    "        F1=h*f(xk,tk)\n",
    "        tkp1=tk+h;\n",
    "        F2=h*f(xk+F1,tkp1);\n",
    "        xkp1=xk+F2;\n",
    "        \n",
    "        \n",
    "        xk=np.copy(xkp1)\n",
    "        tk=np.copy(round(tkp1,2))\n",
    "        \n",
    "        x.append(xk)\n",
    "        t.append(tk)\n",
    "        x_exact.append(x_t(tk))\n",
    "        \n",
    "    return x,t,x_exact"
   ]
  },
  {
   "cell_type": "code",
   "execution_count": 28,
   "id": "0ca936a6",
   "metadata": {},
   "outputs": [
    {
     "data": {
      "text/html": [
       "<div>\n",
       "<style scoped>\n",
       "    .dataframe tbody tr th:only-of-type {\n",
       "        vertical-align: middle;\n",
       "    }\n",
       "\n",
       "    .dataframe tbody tr th {\n",
       "        vertical-align: top;\n",
       "    }\n",
       "\n",
       "    .dataframe thead th {\n",
       "        text-align: right;\n",
       "    }\n",
       "</style>\n",
       "<table border=\"1\" class=\"dataframe\">\n",
       "  <thead>\n",
       "    <tr style=\"text-align: right;\">\n",
       "      <th></th>\n",
       "      <th>t</th>\n",
       "      <th>aprox</th>\n",
       "      <th>real</th>\n",
       "    </tr>\n",
       "  </thead>\n",
       "  <tbody>\n",
       "    <tr>\n",
       "      <th>0</th>\n",
       "      <td>-2.95</td>\n",
       "      <td>1.002502085418777</td>\n",
       "      <td>1.001251</td>\n",
       "    </tr>\n",
       "    <tr>\n",
       "      <th>1</th>\n",
       "      <td>-2.9</td>\n",
       "      <td>1.0075439550219685</td>\n",
       "      <td>1.005021</td>\n",
       "    </tr>\n",
       "    <tr>\n",
       "      <th>2</th>\n",
       "      <td>-2.85</td>\n",
       "      <td>1.0151959200388765</td>\n",
       "      <td>1.011356</td>\n",
       "    </tr>\n",
       "    <tr>\n",
       "      <th>3</th>\n",
       "      <td>-2.8</td>\n",
       "      <td>1.0255631955316669</td>\n",
       "      <td>1.020339</td>\n",
       "    </tr>\n",
       "    <tr>\n",
       "      <th>4</th>\n",
       "      <td>-2.75</td>\n",
       "      <td>1.0387893681916354</td>\n",
       "      <td>1.032085</td>\n",
       "    </tr>\n",
       "    <tr>\n",
       "      <th>5</th>\n",
       "      <td>-2.7</td>\n",
       "      <td>1.055061254429137</td>\n",
       "      <td>1.046752</td>\n",
       "    </tr>\n",
       "    <tr>\n",
       "      <th>6</th>\n",
       "      <td>-2.65</td>\n",
       "      <td>1.0746154601926392</td>\n",
       "      <td>1.064540</td>\n",
       "    </tr>\n",
       "    <tr>\n",
       "      <th>7</th>\n",
       "      <td>-2.6</td>\n",
       "      <td>1.0977470843925385</td>\n",
       "      <td>1.085704</td>\n",
       "    </tr>\n",
       "    <tr>\n",
       "      <th>8</th>\n",
       "      <td>-2.55</td>\n",
       "      <td>1.1248211877072376</td>\n",
       "      <td>1.110559</td>\n",
       "    </tr>\n",
       "    <tr>\n",
       "      <th>9</th>\n",
       "      <td>-2.5</td>\n",
       "      <td>1.1562879029076345</td>\n",
       "      <td>1.139494</td>\n",
       "    </tr>\n",
       "  </tbody>\n",
       "</table>\n",
       "</div>"
      ],
      "text/plain": [
       "       t               aprox      real\n",
       "0  -2.95   1.002502085418777  1.001251\n",
       "1   -2.9  1.0075439550219685  1.005021\n",
       "2  -2.85  1.0151959200388765  1.011356\n",
       "3   -2.8  1.0255631955316669  1.020339\n",
       "4  -2.75  1.0387893681916354  1.032085\n",
       "5   -2.7   1.055061254429137  1.046752\n",
       "6  -2.65  1.0746154601926392  1.064540\n",
       "7   -2.6  1.0977470843925385  1.085704\n",
       "8  -2.55  1.1248211877072376  1.110559\n",
       "9   -2.5  1.1562879029076345  1.139494"
      ]
     },
     "execution_count": 28,
     "metadata": {},
     "output_type": "execute_result"
    }
   ],
   "source": [
    "p=pd.DataFrame({\"t\":t,\"aprox\":x,\"real\":x_exact})\n",
    "p[:10]"
   ]
  },
  {
   "cell_type": "code",
   "execution_count": 32,
   "id": "36529f56",
   "metadata": {},
   "outputs": [
    {
     "data": {
      "text/plain": [
       "<matplotlib.legend.Legend at 0x254b0a2eee0>"
      ]
     },
     "execution_count": 32,
     "metadata": {},
     "output_type": "execute_result"
    },
    {
     "data": {
      "image/png": "[encoded data removed]",
      "text/plain": [
       "<Figure size 432x288 with 1 Axes>"
      ]
     },
     "metadata": {
      "needs_background": "light"
     },
     "output_type": "display_data"
    }
   ],
   "source": [
    "plt.plot(t,x,'--r',label=\"EulerMod\")\n",
    "plt.plot(t,x_exact,'black',label=\"Analitica\")\n",
    "plt.legend()"
   ]
  }
 ],
 "metadata": {
  "kernelspec": {
   "display_name": "Python 3 (ipykernel)",
   "language": "python",
   "name": "python3"
  },
  "language_info": {
   "codemirror_mode": {
    "name": "ipython",
    "version": 3
   },
   "file_extension": ".py",
   "mimetype": "text/x-python",
   "name": "python",
   "nbconvert_exporter": "python",
   "pygments_lexer": "ipython3",
   "version": "3.9.12"
  }
 },
 "nbformat": 4,
 "nbformat_minor": 5
}
