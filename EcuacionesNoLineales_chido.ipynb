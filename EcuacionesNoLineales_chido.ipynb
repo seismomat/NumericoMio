{
  "nbformat": 4,
  "nbformat_minor": 0,
  "metadata": {
    "colab": {
      "provenance": []
    },
    "kernelspec": {
      "name": "python3",
      "display_name": "Python 3"
    },
    "language_info": {
      "name": "python"
    }
  },
  "cells": [
    {
      "cell_type": "code",
      "execution_count": null,
      "metadata": {
        "id": "fVi7AQipKUDu"
      },
      "outputs": [],
      "source": [
        "import numpy as np"
      ]
    },
    {
      "cell_type": "code",
      "source": [
        "f= lambda x:(x**2)-1\n",
        "df= lambda x: 2*x"
      ],
      "metadata": {
        "id": "LeuwE75qKcDg"
      },
      "execution_count": null,
      "outputs": []
    },
    {
      "cell_type": "code",
      "source": [
        "def Biseccion(f,Tol,N,a,b):\n",
        "  fa,fb=f(a),f(b)\n",
        "\n",
        "  if fa*fb>0.0:\n",
        "    print(\"No hay raíz\")\n",
        "    return None\n",
        "\n",
        "  n=0\n",
        "\n",
        "  while n<=N:\n",
        "    xm=(a+b)/2.0\n",
        "    fxm=f(xm)\n",
        "\n",
        "    if abs(fxm)<=Tol and (b-a)<=Tol:\n",
        "      print(f\"Esta es la raíz {xm}\")\n",
        "      return xm\n",
        "    elif fxm*fa<0:\n",
        "      b=xm\n",
        "    elif fxm*fb<0:\n",
        "      a=xm\n",
        "    n+=1\n",
        "  else:\n",
        "    print(f\"esta es la aproximacion {xm}\")"
      ],
      "metadata": {
        "id": "HckwUqHSKgfW"
      },
      "execution_count": null,
      "outputs": []
    },
    {
      "cell_type": "code",
      "source": [
        "round(Biseccion(f,0.001,20,0.3,1.5),5)"
      ],
      "metadata": {
        "colab": {
          "base_uri": "https://localhost:8080/"
        },
        "id": "1kI_GPnNM3Wg",
        "outputId": "82a67f6f-ddc4-4379-ffb2-01e598bc2d9d"
      },
      "execution_count": null,
      "outputs": [
        {
          "output_type": "stream",
          "name": "stdout",
          "text": [
            "Esta es la raíz 0.9999023437500002\n"
          ]
        },
        {
          "output_type": "execute_result",
          "data": {
            "text/plain": [
              "0.9999"
            ]
          },
          "metadata": {},
          "execution_count": 4
        }
      ]
    },
    {
      "cell_type": "code",
      "source": [
        "def ReglaFalsa(f,Tol,N,a,b):\n",
        "  fa,fb=f(a),f(b)\n",
        "\n",
        "  if fa*fb>0.0:\n",
        "    print(\"No hay raíz\")\n",
        "    return None\n",
        "\n",
        "  n=0\n",
        "\n",
        "  while n<=N:\n",
        "    fa,fb=f(a),f(b)\n",
        "    xm=(a*fb-b*fa)/(fb-fa)\n",
        "    fxm=f(xm)\n",
        "\n",
        "    if abs(fxm)<=Tol and (b-a)<=Tol:\n",
        "      print(f\"Esta es la raíz {xm}\")\n",
        "      return xm\n",
        "    elif fxm*fa<0:\n",
        "      b=xm\n",
        "    elif fxm*fb<0:\n",
        "      a=xm\n",
        "    n+=1\n",
        "  else:\n",
        "    print(f\"esta es la aproximacion {xm}\")"
      ],
      "metadata": {
        "id": "RLoSDiqhNEDH"
      },
      "execution_count": null,
      "outputs": []
    },
    {
      "cell_type": "code",
      "source": [
        "ReglaFalsa(f,0.001,20,0.3,1.5)"
      ],
      "metadata": {
        "colab": {
          "base_uri": "https://localhost:8080/"
        },
        "id": "oajPnLSmQfRY",
        "outputId": "751ac178-a843-401f-e4d4-e25b99db0bd6"
      },
      "execution_count": null,
      "outputs": [
        {
          "output_type": "stream",
          "name": "stdout",
          "text": [
            "esta es la aproximacion 0.9999999999999977\n"
          ]
        }
      ]
    },
    {
      "cell_type": "code",
      "source": [
        "def Secante(f,Tol,N,xk_1,xk):\n",
        "  fxk_1,fxk=f(xk_1),f(xk)\n",
        "\n",
        "  if fxk*fxk_1>0.0:\n",
        "    print(\"No hay raíz\")\n",
        "    return None\n",
        "\n",
        "  n=0\n",
        "\n",
        "  while n<=N:\n",
        "    fxk_1,fxk=f(xk_1),f(xk)\n",
        "    xkp1=xk-fxk*((xk-xk_1)/(fxk-fxk_1))\n",
        "    fxkp1=f(xkp1)\n",
        "\n",
        "    if abs(fxkp1)<=Tol and (xk-xk_1)<=Tol:\n",
        "      print(f\"Esta es la raíz {xkp1}\")\n",
        "      return xkp1\n",
        "    elif fxk_1*fxkp1<0:\n",
        "      xk=xkp1\n",
        "    elif fxkp1*fxk<0:\n",
        "      xk_1=xkp1\n",
        "    n+=1\n",
        "  else:\n",
        "    print(f\"esta es la aproximacion {xkp1}\")"
      ],
      "metadata": {
        "id": "CcmChAanQgu2"
      },
      "execution_count": null,
      "outputs": []
    },
    {
      "cell_type": "code",
      "source": [
        "Secante(f,0.001,20,0.3,1.5)"
      ],
      "metadata": {
        "colab": {
          "base_uri": "https://localhost:8080/"
        },
        "id": "1rAyBOAyS-Ky",
        "outputId": "da98418f-4b10-41a7-d7f0-083197c2fb96"
      },
      "execution_count": null,
      "outputs": [
        {
          "output_type": "stream",
          "name": "stdout",
          "text": [
            "esta es la aproximacion 0.9999999999999978\n"
          ]
        }
      ]
    },
    {
      "cell_type": "code",
      "source": [
        "def Newton(f,df,x0,Tol=0.001,N=100):\n",
        "  n=1;\n",
        "  while n<=N:\n",
        "    if abs(df(x0))<=Tol:\n",
        "      print(f\"La derivada no es cero {df(x0)}\")\n",
        "      return None\n",
        "\n",
        "    xn=x0 - f(x0)/float(df(x0))\n",
        "    if abs(xn-x0)<=Tol:\n",
        "      return round(xn,5)\n",
        "\n",
        "    x0=xn\n",
        "    n+=1\n",
        "  else:\n",
        "    print(f\"La aproximación más cercana es {x0}\")\n",
        "    return x0"
      ],
      "metadata": {
        "id": "GKlIqTqDTAVY"
      },
      "execution_count": null,
      "outputs": []
    },
    {
      "cell_type": "code",
      "source": [
        "Newton(f,df,0.5)"
      ],
      "metadata": {
        "colab": {
          "base_uri": "https://localhost:8080/"
        },
        "id": "m9l6_tjJE1bX",
        "outputId": "38bc794c-58dd-4f91-883e-e058da6c9307"
      },
      "execution_count": null,
      "outputs": [
        {
          "output_type": "execute_result",
          "data": {
            "text/plain": [
              "1.0"
            ]
          },
          "metadata": {},
          "execution_count": 9
        }
      ]
    },
    {
      "cell_type": "code",
      "source": [
        "import numpy as np\n",
        "from numpy import linalg as la\n",
        "def Fvec(vec):\n",
        "  x,y=vec[0],vec[1]\n",
        "  f1=x**2\n",
        "  f2=y**2\n",
        "  return np.array([f1,f2])\n",
        "\n",
        "def Jac(vec):\n",
        "  x,y=vec[0],vec[1]\n",
        "  J=np.zeros((2,2))\n",
        "  J[0,0]=2*x;J[0,1]=0.0\n",
        "  J[1,0]=0.0;J[1,1]=2*y\n",
        "  return J"
      ],
      "metadata": {
        "id": "DFPhvy51E7Dt"
      },
      "execution_count": null,
      "outputs": []
    },
    {
      "cell_type": "code",
      "source": [
        "def NewtonVarias(Fvec,Jac,x0,Tol=0.001,N=100):\n",
        "  n=1;\n",
        "  while n<=N:\n",
        "    if la.det(Jac(x0))<=Tol:\n",
        "      print(\"La Jacobiana no es de ceros\")\n",
        "      return None\n",
        "\n",
        "    InvJac=la.inv(Jac(x0))\n",
        "    print(Jac(x0))\n",
        "    xn=x0 - InvJac@Fvec(x0)\n",
        "    if la.norm(xn-x0)<=Tol:\n",
        "      return xn\n",
        "\n",
        "    x0=np.copy(xn)\n",
        "    n+=1\n",
        "  else:\n",
        "    print(f\"La aproximación más cercana es {x0}\")\n",
        "    return x0"
      ],
      "metadata": {
        "id": "MsvWh0sMFr1T"
      },
      "execution_count": null,
      "outputs": []
    },
    {
      "cell_type": "code",
      "source": [
        "x0=np.array([0.5,0.5])\n",
        "NewtonVarias(Fvec,Jac,x0)"
      ],
      "metadata": {
        "colab": {
          "base_uri": "https://localhost:8080/"
        },
        "id": "uZLG5DHZH-1G",
        "outputId": "454be352-ddc4-4e4b-e8e8-9b544115a48a"
      },
      "execution_count": null,
      "outputs": [
        {
          "output_type": "stream",
          "name": "stdout",
          "text": [
            "[[1. 0.]\n",
            " [0. 1.]]\n",
            "[[0.5 0. ]\n",
            " [0.  0.5]]\n",
            "[[0.25 0.  ]\n",
            " [0.   0.25]]\n",
            "[[0.125 0.   ]\n",
            " [0.    0.125]]\n",
            "[[0.0625 0.    ]\n",
            " [0.     0.0625]]\n",
            "La Jacobiana no es de ceros\n"
          ]
        }
      ]
    },
    {
      "cell_type": "code",
      "source": [
        "f= lambda x: np.cos(x)-x+1\n",
        "g=lambda x: np.cos(x)+1\n",
        "\n",
        "x=1.5"
      ],
      "metadata": {
        "id": "D5kRHcYmKSDz"
      },
      "execution_count": null,
      "outputs": []
    },
    {
      "cell_type": "code",
      "source": [
        "def FixPoint(g,x0,Tol=0.0001,N=100):\n",
        "    n=1\n",
        "    while n<=N:\n",
        "        x1=g(x0)\n",
        "        if abs(x1-x0)<=Tol:\n",
        "            print(f\"EL punto fijo es {x1}\")\n",
        "            return x1\n",
        "        x0=x1\n",
        "        n+=1\n",
        "    else:\n",
        "        print(f\"Una aproximación del punto fijo es {x1}\")\n",
        "        return x1"
      ],
      "metadata": {
        "id": "FlhBJ4cKLUq8"
      },
      "execution_count": null,
      "outputs": []
    },
    {
      "cell_type": "code",
      "source": [
        "FP=FixPoint(g,1.5)"
      ],
      "metadata": {
        "colab": {
          "base_uri": "https://localhost:8080/"
        },
        "id": "Gxu88cTHLwfW",
        "outputId": "8ab30a9d-2aef-42bf-891f-308af7806477"
      },
      "execution_count": null,
      "outputs": [
        {
          "output_type": "stream",
          "name": "stdout",
          "text": [
            "Una aproximación del punto fijo es 1.2864456249325646\n"
          ]
        }
      ]
    },
    {
      "cell_type": "code",
      "source": [
        "f(FP)"
      ],
      "metadata": {
        "colab": {
          "base_uri": "https://localhost:8080/"
        },
        "id": "HkxGwd2WLyXa",
        "outputId": "466069b1-b4c2-46e3-c9f1-b51d5f53a459"
      },
      "execution_count": null,
      "outputs": [
        {
          "output_type": "execute_result",
          "data": {
            "text/plain": [
              "-0.00591133938366184"
            ]
          },
          "metadata": {},
          "execution_count": 28
        }
      ]
    },
    {
      "cell_type": "code",
      "source": [],
      "metadata": {
        "id": "qZENHQw7L6P6"
      },
      "execution_count": null,
      "outputs": []
    }
  ]
}