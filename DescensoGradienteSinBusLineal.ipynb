{
 "cells": [
  {
   "cell_type": "code",
   "execution_count": 3,
   "id": "143fe159",
   "metadata": {},
   "outputs": [],
   "source": [
    "import numpy as np\n",
    "\n",
    "def f(x):\n",
    "    return x[0]**2 + x[1]**2 - 2*x[0] - 6*x[1] + 10\n",
    "\n",
    "def grad_f(x):\n",
    "    return np.array([2*x[0] - 2, 2*x[1] - 6])\n",
    "\n",
    "def hess_f(x):\n",
    "    return np.array([[2, 0], [0, 2]])"
   ]
  },
  {
   "cell_type": "code",
   "execution_count": 4,
   "id": "e7585e41",
   "metadata": {},
   "outputs": [],
   "source": [
    "def line_search(xk,gk,lk):\n",
    "    gk_t_gk=np.dot(gk,gk)\n",
    "    f_xk_m_lk_gk=f(xk-lk*gk)\n",
    "    lk_gkT_gk=lk*gk_t_gk\n",
    "    \n",
    "    lambda_k=(gk_t_gk*lk**2)/(2*(f_xk_m_lk_gk-f(xk)+lk_gkT_gk))\n",
    "    \n",
    "    return -lambda_k\n",
    "\n",
    "def gradient_descent_ls(x0, tol=1e-6, max_iter=100):\n",
    "    x =np.copy( x0)\n",
    "    lambda_k_m1=1\n",
    "    for i in range(max_iter):\n",
    "        gi = grad_f(x)\n",
    "        if np.linalg.norm(lambda_k_m1*gi) < tol:\n",
    "            return x\n",
    "        lambda_k = line_search(x,gi,lambda_k_m1)\n",
    "        x =x+ lambda_k*gi\n",
    "        lambda_k_m1=np.copy(lambda_k)\n",
    "    return x"
   ]
  },
  {
   "cell_type": "code",
   "execution_count": 5,
   "id": "acedcd62",
   "metadata": {},
   "outputs": [
    {
     "name": "stdout",
     "output_type": "stream",
     "text": [
      "El mínimo se encuentra en [1. 3.] con valor de la función 0.0\n"
     ]
    }
   ],
   "source": [
    "# Ejemplo de uso:\n",
    "x0 = np.array([0, 0])\n",
    "xmin = gradient_descent_ls(x0)\n",
    "print(\"El mínimo se encuentra en\", xmin, \"con valor de la función\", f(xmin))"
   ]
  }
 ],
 "metadata": {
  "kernelspec": {
   "display_name": "Python 3 (ipykernel)",
   "language": "python",
   "name": "python3"
  },
  "language_info": {
   "codemirror_mode": {
    "name": "ipython",
    "version": 3
   },
   "file_extension": ".py",
   "mimetype": "text/x-python",
   "name": "python",
   "nbconvert_exporter": "python",
   "pygments_lexer": "ipython3",
   "version": "3.9.12"
  }
 },
 "nbformat": 4,
 "nbformat_minor": 5
}
