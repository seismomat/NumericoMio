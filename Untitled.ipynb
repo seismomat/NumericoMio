{
 "cells": [
  {
   "cell_type": "markdown",
   "id": "d24793ae",
   "metadata": {},
   "source": [
    "El método de Newton es un algoritmo iterativo para encontrar raíces de funciones, que se basa en la idea de aproximar la función original por una función lineal en cada iteración. En cada paso, se utiliza la fórmula:\n",
    "\n",
    "\\begin{equation}\n",
    "x_{n+1} = x_n - \\frac{f(x_n)}{f'(x_n)}\n",
    "\\end{equation}\n",
    "\n",
    "donde $f(x)$ es la función original, $f'(x)$ es su derivada, $x_n$ es la aproximación actual de la raíz, y $x_{n+1}$ es la siguiente aproximación.\n",
    "\n",
    "Para demostrar que el método de Newton tiene convergencia cuadrática, es necesario mostrar que la sucesión de aproximaciones ${x_n}$ converge a la raíz de la función de forma cuadrática, es decir, que el error en cada iteración se reduce al cuadrado de la reducción en el error en la iteración anterior.\n",
    "\n",
    "Sea $r$ la raíz de la función $f(x)$, es decir, $f(r) = 0$. Definamos el error en la $n$-ésima iteración como $e_n = x_n - r$, es decir, la distancia entre la aproximación actual y la raíz. Entonces, la fórmula de Newton se puede reescribir como:\n",
    "\n",
    "\\begin{equation}\n",
    "x_{n+1} = x_n - \\frac{f(x_n)}{f'(x_n)} = r + e_n - \\frac{f(r+e_n)}{f'(r+e_n)}\n",
    "\\end{equation}\n",
    "\n",
    "Usando la regla de Taylor para aproximar $f(r+e_n)$ y $f'(r+e_n)$, se obtiene:\n",
    "\n",
    "\\begin{align}\n",
    "f(r+e_n) &= f(r) + f'(r)e_n + \\frac{1}{2}f''(r+\\theta e_n)e_n^2 \\\n",
    "f'(r+e_n) &= f'(r) + f''(r+\\theta e_n)e_n\n",
    "\\end{align}\n",
    "\n",
    "donde $0 < \\theta < 1$. Reemplazando en la fórmula de Newton, se tiene:\n",
    "\n",
    "\\begin{equation}\n",
    "x_{n+1} = r + e_n - \\frac{f(r) + f'(r)e_n + \\frac{1}{2}f''(r+\\theta e_n)e_n^2}{f'(r) + f''(r+\\theta e_n)e_n}\n",
    "\\end{equation}\n",
    "\n",
    "Multiplicando por el denominador y simplificando, se obtiene:\n",
    "\n",
    "\\begin{equation}\n",
    "x_{n+1} - r = \\frac{f''(r+\\theta e_n)}{2f'(r)}(x_n - r)^2\n",
    "\\end{equation}\n",
    "\n",
    "Esta es la expresión clave que muestra la convergencia cuadrática del método de Newton. En particular, se puede ver que el error en la siguiente iteración es proporcional al cuadrado del error en la iteración actual, con una constante proporcional dada por $\\frac{f''(r)}{2f'(r)}$. Esto significa que el método de Newton converge cuadráticamente siempre y cuando la segunda derivada de la función sea continua y no nula en la raíz.\n",
    "\n",
    "En resumen, hemos demostrado que el método de Newton tiene convergencia cuadrática, es decir, que el error en cada iteración se reduce"
   ]
  },
  {
   "cell_type": "code",
   "execution_count": null,
   "id": "05ba4b20",
   "metadata": {},
   "outputs": [],
   "source": []
  }
 ],
 "metadata": {
  "kernelspec": {
   "display_name": "Python 3 (ipykernel)",
   "language": "python",
   "name": "python3"
  },
  "language_info": {
   "codemirror_mode": {
    "name": "ipython",
    "version": 3
   },
   "file_extension": ".py",
   "mimetype": "text/x-python",
   "name": "python",
   "nbconvert_exporter": "python",
   "pygments_lexer": "ipython3",
   "version": "3.9.12"
  }
 },
 "nbformat": 4,
 "nbformat_minor": 5
}
