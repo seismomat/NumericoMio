{
 "cells": [
  {
   "cell_type": "markdown",
   "metadata": {},
   "source": [
    "<font color=\"Teal\" face=\"Comic Sans MS,arial\">\n",
    "  <h1 align=\"center\"><i>Introducción a python</i></h1>\n",
    "  </font>\n",
    "  <font color=\"Black\" face=\"Comic Sans MS,arial\">\n",
    "  <h5 align=\"center\"><i>Profesor: M.en.C. César Carreón</i></h5>\n",
    "    <h5 align=\"center\"><i>Ayudante: Jesús Iván Coss Calderón</i></h5>\n",
    "    <h5 align=\"center\"><i>Materia: Análisis numérico</i></h5>\n",
    "  </font>"
   ]
  },
  {
   "cell_type": "markdown",
   "metadata": {},
   "source": [
    "**Objetivo general**\n",
    "\n",
    "* Aprender los fundamentos del lenguaje de programación python.\n",
    "\n",
    "**Objetivos particulares**\n",
    "\n",
    "* Elaborar subprogramas que calculen el determinante, matriz de cofactores y la inversa de una matriz dada por el usuario. \n"
   ]
  },
  {
   "cell_type": "code",
   "execution_count": 49,
   "metadata": {},
   "outputs": [],
   "source": [
    "import numpy as np \n",
    "import matplotlib.pyplot as plt \n"
   ]
  },
  {
   "cell_type": "code",
   "execution_count": 50,
   "metadata": {},
   "outputs": [
    {
     "name": "stdout",
     "output_type": "stream",
     "text": [
      "[[ 4  3  1]\n",
      " [ 7  5 -1]\n",
      " [ 4  9  5]]\n"
     ]
    }
   ],
   "source": [
    "a = np.array([[4,3,1],[7,5,-1],[4,9,5]])\n",
    "#se muestran ambas matrices\n",
    "print(a)"
   ]
  },
  {
   "cell_type": "code",
   "execution_count": 51,
   "metadata": {},
   "outputs": [],
   "source": [
    "def subMatrix(mat,row,col):\n",
    "   \"\"\"\n",
    "    This program \n",
    "    \n",
    "    Parameters\n",
    "    ----------\n",
    "    mat: float numpy array \n",
    "    matrix\n",
    "    row: int \n",
    "    col: int \n",
    "\n",
    "    Returns\n",
    "    -------\n",
    "    copy: float numpy array \n",
    "    sub matrix obtained\n",
    "\n",
    "    Example: \n",
    "    ---------\n",
    "    A = np.array([[4,3,1],[7,5,-1],[4,9,5]])\n",
    "    >>> subMatrix(A,0,0)\n",
    "    array([[ 5, -1],\n",
    "       [ 9,  5]])\n",
    "   \"\"\"  \n",
    "   copy=np.copy(mat)\n",
    "   copy=np.delete(mat,row,axis=0)\n",
    "   copy=np.delete(copy,col,axis=1)\n",
    "   return copy"
   ]
  },
  {
   "cell_type": "code",
   "execution_count": 52,
   "metadata": {},
   "outputs": [],
   "source": [
    "def det(matrix):\n",
    "  \"\"\"\n",
    "    This program compute the determinant of an square matrix\n",
    "    \n",
    "    Parameters\n",
    "    ----------\n",
    "    mat: float numpy array \n",
    "    matrix\n",
    "\n",
    "    Returns\n",
    "    -------\n",
    "    determinant: float  \n",
    "\n",
    "    Example: \n",
    "    ---------\n",
    "    A = np.array([[4,3,1],[7,5,-1],[4,9,5]])\n",
    "    >>> det(A)\n",
    "    62.0\n",
    "  \"\"\" \n",
    "  if len(matrix) == 2:\n",
    "    return matrix[0][0]*matrix[1][1]-(matrix[0][1]*matrix[1][0])\n",
    "  else:\n",
    "    determinant = 0.0\n",
    "    for i in range(len(matrix[0])):\n",
    "      determinant += ((-1)**i)*(matrix[0][i])*det(subMatrix(matrix,0,i))\n",
    "  return determinant"
   ]
  },
  {
   "cell_type": "code",
   "execution_count": 53,
   "metadata": {},
   "outputs": [
    {
     "data": {
      "text/plain": [
       "(62.0, 62.00000000000001)"
      ]
     },
     "execution_count": 53,
     "metadata": {},
     "output_type": "execute_result"
    }
   ],
   "source": [
    "det(a),np.linalg.det(a)"
   ]
  },
  {
   "cell_type": "code",
   "execution_count": 54,
   "metadata": {},
   "outputs": [],
   "source": [
    "def cofactors(Matrix):\n",
    "    \"\"\"\n",
    "    This program compute the cofactors matrix\n",
    "    \n",
    "    Parameters\n",
    "    ----------\n",
    "    mat: float numpy array \n",
    "    matrix\n",
    "\n",
    "    Returns\n",
    "    -------\n",
    "    cofact: float numpy array \n",
    "    matrix \n",
    "\n",
    "    Example: \n",
    "    ---------\n",
    "    A = np.array([[2.0,3.0,-4.0],[0.0,-4.0,2.0],[1.0,-1.0,5.0]])\n",
    "    >>> cofactors(A)\n",
    "    [[-18.  2.   4.]\n",
    "    [ -11.  14.  5.]\n",
    "    [-10.   -4.  -8.]]\n",
    "    \"\"\"  \n",
    "    cofact=[]\n",
    "    for row in range(len(Matrix[0])):\n",
    "        aux=[]\n",
    "        for col in range(len(Matrix[1])):\n",
    "            exp=(-1)**(row+col)\n",
    "            aux.append(exp*det(subMatrix(Matrix,row,col)))\n",
    "        cofact.append(aux)\n",
    "\n",
    "    return np.array(cofact)\n"
   ]
  },
  {
   "cell_type": "code",
   "execution_count": 55,
   "metadata": {},
   "outputs": [],
   "source": [
    "def InversebyCofactors(Matrix):\n",
    "    \"\"\"\n",
    "    This program compute the inverse of a matrix\n",
    "    \n",
    "    Parameters\n",
    "    ----------\n",
    "    mat: float numpy array \n",
    "    matrix\n",
    "\n",
    "    Returns\n",
    "    -------\n",
    "    Inv: float numpy array \n",
    "    matrix \n",
    "\n",
    "    Example: \n",
    "    ---------\n",
    "    A = np.array([[2.0,3.0,-4.0],[0.0,-4.0,2.0],[1.0,-1.0,5.0]])\n",
    "    >>> InversebyCofactors(A)\n",
    "    [[ 0.39130435,  0.23913043,  0.2173913 ],\n",
    "    [-0.04347826, -0.30434783,  0.08695652],\n",
    "    [-0.08695652, -0.10869565,  0.17391304]]\n",
    "    \"\"\"  \n",
    "    cofac=cofactors(A)\n",
    "    determinant=det(A)\n",
    "    Inv=(1/determinant)*cofac.T\n",
    "\n",
    "    return Inv"
   ]
  },
  {
   "cell_type": "code",
   "execution_count": 56,
   "metadata": {},
   "outputs": [
    {
     "data": {
      "text/plain": [
       "(array([[ 0.39130435,  0.23913043,  0.2173913 ],\n",
       "        [-0.04347826, -0.30434783,  0.08695652],\n",
       "        [-0.08695652, -0.10869565,  0.17391304]]),\n",
       " array([[ 0.39130435,  0.23913043,  0.2173913 ],\n",
       "        [-0.04347826, -0.30434783,  0.08695652],\n",
       "        [-0.08695652, -0.10869565,  0.17391304]]))"
      ]
     },
     "execution_count": 56,
     "metadata": {},
     "output_type": "execute_result"
    }
   ],
   "source": [
    "A=np.array([[2.0,3.0,-4.0],[0.0,-4.0,2.0],[1.0,-1.0,5.0]])\n",
    "inv=InversebyCofactors(A)\n",
    "inv,np.linalg.inv(A)"
   ]
  },
  {
   "cell_type": "code",
   "execution_count": 57,
   "metadata": {},
   "outputs": [
    {
     "name": "stdout",
     "output_type": "stream",
     "text": [
      "[[ 1.00000000e+00 -5.55111512e-17  0.00000000e+00]\n",
      " [ 0.00000000e+00  1.00000000e+00  0.00000000e+00]\n",
      " [-5.55111512e-17 -1.38777878e-17  1.00000000e+00]]\n"
     ]
    }
   ],
   "source": [
    "print(A@inv)"
   ]
  },
  {
   "cell_type": "code",
   "execution_count": 58,
   "metadata": {},
   "outputs": [
    {
     "data": {
      "text/plain": [
       "array([0. , 0.1, 0.2, 0.3, 0.4, 0.5, 0.6, 0.7, 0.8, 0.9])"
      ]
     },
     "execution_count": 58,
     "metadata": {},
     "output_type": "execute_result"
    }
   ],
   "source": [
    "x=np.r_[0:1:0.1]\n",
    "x"
   ]
  },
  {
   "cell_type": "code",
   "execution_count": 62,
   "metadata": {},
   "outputs": [
    {
     "data": {
      "image/png": "[encoded data removed]",
      "text/plain": [
       "<Figure size 432x288 with 1 Axes>"
      ]
     },
     "metadata": {
      "needs_background": "light"
     },
     "output_type": "display_data"
    }
   ],
   "source": [
    "def f(x):\n",
    "    return x**2\n",
    "\n",
    "def plotting(f):\n",
    "    x=np.r_[0:1:0.1]\n",
    "    f=f(x)\n",
    "    plt.plot(x,f)\n",
    "    plt.show()\n",
    "    \n",
    "    return None\n",
    "\n",
    "plotting(f)\n"
   ]
  },
  {
   "cell_type": "code",
   "execution_count": 63,
   "metadata": {},
   "outputs": [
    {
     "name": "stdout",
     "output_type": "stream",
     "text": [
      "Help on function subMatrix in module __main__:\n",
      "\n",
      "subMatrix(mat, row, col)\n",
      "    This program \n",
      "    \n",
      "    Parameters\n",
      "    ----------\n",
      "    mat: float numpy array \n",
      "    matrix\n",
      "    row: int \n",
      "    col: int \n",
      "    \n",
      "    Returns\n",
      "    -------\n",
      "    copy: float numpy array \n",
      "    sub matrix obtained\n",
      "    \n",
      "    Example: \n",
      "    ---------\n",
      "    A = np.array([[4,3,1],[7,5,-1],[4,9,5]])\n",
      "    >>> subMatrix(A,0,0)\n",
      "    array([[ 5, -1],\n",
      "       [ 9,  5]])\n",
      "\n"
     ]
    }
   ],
   "source": [
    "help(subMatrix)"
   ]
  },
  {
   "cell_type": "code",
   "execution_count": null,
   "metadata": {},
   "outputs": [],
   "source": []
  }
 ],
 "metadata": {
  "kernelspec": {
   "display_name": "Python 3 (ipykernel)",
   "language": "python",
   "name": "python3"
  },
  "language_info": {
   "codemirror_mode": {
    "name": "ipython",
    "version": 3
   },
   "file_extension": ".py",
   "mimetype": "text/x-python",
   "name": "python",
   "nbconvert_exporter": "python",
   "pygments_lexer": "ipython3",
   "version": "3.8.10"
  },
  "vscode": {
   "interpreter": {
    "hash": "916dbcbb3f70747c44a77c7bcd40155683ae19c65e1c03b4aa3499c5328201f1"
   }
  }
 },
 "nbformat": 4,
 "nbformat_minor": 2
}
