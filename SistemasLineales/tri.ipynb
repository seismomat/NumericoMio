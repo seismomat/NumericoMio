{
 "cells": [
  {
   "cell_type": "markdown",
   "metadata": {},
   "source": [
    "<font color=\"Teal\" face=\"Comic Sans MS,arial\">\n",
    "  <h1 align=\"center\"><i>Introducción a python</i></h1>\n",
    "  </font>\n",
    "  <font color=\"Black\" face=\"Comic Sans MS,arial\">\n",
    "  <h5 align=\"center\"><i>Profesor: M.en.C. Miguel Angel</i></h5>\n",
    "    <h5 align=\"center\"><i>Ayudante: Jesús Iván Coss Calderón</i></h5>\n",
    "    <h5 align=\"center\"><i>Materia: Análisis numérico</i></h5>\n",
    "  </font>"
   ]
  },
  {
   "cell_type": "markdown",
   "metadata": {},
   "source": [
    "**Objetivo general**\n",
    "\n",
    "* Aprender los fundamentos del algoritmo de Thomas.\n"
   ]
  },
  {
   "cell_type": "markdown",
   "metadata": {},
   "source": [
    "<a name='c1'></a>\n",
    "\n",
    "## Contenido\n",
    "\n",
    "- [Introducción](#1)\n",
    "- [Algoritmo de Thomas ](#2)\n",
    "    - [Prueba del algoritmo](#2-1)\n",
    "    - [Comprobación](#2-2)\n"
   ]
  },
  {
   "cell_type": "markdown",
   "metadata": {},
   "source": [
    "<a name='1'></a>\n",
    "\n",
    "# Introducción "
   ]
  },
  {
   "cell_type": "markdown",
   "metadata": {},
   "source": [
    "<a name='2'></a>\n",
    "\n",
    "# Algoritmo de Thomas \n",
    "\n",
    "[regresar al contenido](#c1) "
   ]
  },
  {
   "cell_type": "code",
   "execution_count": 1,
   "metadata": {},
   "outputs": [],
   "source": [
    "import numpy as np"
   ]
  },
  {
   "cell_type": "code",
   "execution_count": 2,
   "metadata": {},
   "outputs": [],
   "source": [
    "def trid(d1, d0,  d2, b):\n",
    "    #d1 diagonal superior\n",
    "    #d0 diagonal principal\n",
    "    #d2 diagonal inferior\n",
    "    n=d0.shape[0]\n",
    "    x=np.zeros(n)\n",
    "    for i in range(n-1):\n",
    "        a=0.0\n",
    "        a=d1[i]/d0[i]\n",
    "        d0[i+1]=d0[i+1]-a*d2[i]\n",
    "        b[i+1]=b[i+1]-a*b[i]\n",
    "\n",
    "    x[n-1]=b[n-1]/d0[n-1]\n",
    "    for i in range(n-2,-1,-1):\n",
    "        x[i]=(b[i]-d2[i]*x[i+1])/d0[i]\n",
    "    return x"
   ]
  },
  {
   "cell_type": "markdown",
   "metadata": {},
   "source": [
    "<a name='2-1'></a>\n",
    "\n",
    "# Prueba del algoritmo\n",
    "\n",
    "[regresar al contenido](#c1) "
   ]
  },
  {
   "cell_type": "code",
   "execution_count": 3,
   "metadata": {},
   "outputs": [
    {
     "data": {
      "text/plain": [
       "array([-2.5, -4. , -4.5, -4. , -2.5])"
      ]
     },
     "execution_count": 3,
     "metadata": {},
     "output_type": "execute_result"
    }
   ],
   "source": [
    "n=5\n",
    "dprin=-2.0*np.ones(n)\n",
    "dinf=1.0*np.ones(n-1)\n",
    "dsup=1.0*np.ones(n-1)\n",
    "\n",
    "b=1.0*np.ones(n)\n",
    "\n",
    "res=trid(dsup,dprin,dinf,b)\n",
    "res"
   ]
  },
  {
   "cell_type": "markdown",
   "metadata": {},
   "source": [
    "<a name='2-2'></a>\n",
    "\n",
    "# Comprobación\n",
    "\n",
    "[regresar al contenido](#c1) "
   ]
  },
  {
   "cell_type": "code",
   "execution_count": 10,
   "metadata": {},
   "outputs": [
    {
     "data": {
      "text/plain": [
       "array([-2.5, -4. , -4.5, -4. , -2.5])"
      ]
     },
     "execution_count": 10,
     "metadata": {},
     "output_type": "execute_result"
    }
   ],
   "source": [
    "Mprin=np.diag(np.ones(n))*(-2.0)\n",
    "Msup=np.diag(np.ones(n-1),1)*1.0\n",
    "Minf=np.diag(np.ones(n-1),-1)*1.0\n",
    "M=Mprin+Minf+Msup\n",
    "\n",
    "res1=np.linalg.solve(M,b)\n",
    "res1"
   ]
  }
 ],
 "metadata": {
  "kernelspec": {
   "display_name": "Python 3 (ipykernel)",
   "language": "python",
   "name": "python3"
  },
  "language_info": {
   "codemirror_mode": {
    "name": "ipython",
    "version": 3
   },
   "file_extension": ".py",
   "mimetype": "text/x-python",
   "name": "python",
   "nbconvert_exporter": "python",
   "pygments_lexer": "ipython3",
   "version": "3.8.10"
  },
  "vscode": {
   "interpreter": {
    "hash": "916dbcbb3f70747c44a77c7bcd40155683ae19c65e1c03b4aa3499c5328201f1"
   }
  }
 },
 "nbformat": 4,
 "nbformat_minor": 2
}
