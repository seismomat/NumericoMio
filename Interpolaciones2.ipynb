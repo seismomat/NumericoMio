{
 "cells": [
  {
   "cell_type": "code",
   "execution_count": 1,
   "id": "738357ef",
   "metadata": {},
   "outputs": [],
   "source": [
    "import numpy as np\n",
    "from numpy import linalg as LA\n",
    "import matplotlib.pyplot as plt"
   ]
  },
  {
   "cell_type": "code",
   "execution_count": 2,
   "id": "7b5d49e2",
   "metadata": {},
   "outputs": [],
   "source": [
    "x=np.linspace(0,6,20)\n",
    "funcion = lambda x: ((-x)**(3))+(np.e**(x))-np.sin((x)*3)\n",
    "y=np.array([funcion(i) for i in x])"
   ]
  },
  {
   "cell_type": "code",
   "execution_count": 9,
   "id": "cd9b8e57",
   "metadata": {},
   "outputs": [],
   "source": [
    "def diferenciasDiv(x,y):\n",
    "    n=len(x)\n",
    "    F=np.zeros((n,n))\n",
    "    F[:,0]=y\n",
    "    for i in range(1,n):\n",
    "        for j in range(i,n):\n",
    "            F[j,i]=(F[j,i-1]-F[j-1,i-1])/(x[j]-x[j-i])\n",
    "            \n",
    "    return F"
   ]
  },
  {
   "cell_type": "code",
   "execution_count": 19,
   "id": "5387d9ee",
   "metadata": {},
   "outputs": [],
   "source": [
    "def Newton(x,y,punto):\n",
    "    coef=np.diagonal(diferenciasDiv(x,y))\n",
    "    n=len(coef)\n",
    "    result=coef[0]\n",
    "    for i in range(1,n):\n",
    "        evaluacion=coef[i]\n",
    "        for j in range(i):\n",
    "            evaluacion*=(punto-x[j])\n",
    "        result+=evaluacion\n",
    "    \n",
    "    return result"
   ]
  },
  {
   "cell_type": "code",
   "execution_count": 20,
   "id": "37407826",
   "metadata": {},
   "outputs": [
    {
     "data": {
      "text/plain": [
       "array([[ 5.12      ,  0.        ,  0.        ,  0.        ],\n",
       "       [ 6.42      ,  2.16666667,  0.        ,  0.        ],\n",
       "       [ 7.25      ,  2.075     , -0.09166667,  0.        ],\n",
       "       [ 6.85      , -1.33333333, -4.86904762, -3.67490842]])"
      ]
     },
     "execution_count": 20,
     "metadata": {},
     "output_type": "execute_result"
    }
   ],
   "source": [
    "xi = np.array([3.2 , 3.8 , 4.2 , 4.5 ])\n",
    "fi = np.array([5.12, 6.42, 7.25, 6.85])\n",
    "T=diferenciasDiv(xi,fi)\n",
    "T"
   ]
  },
  {
   "cell_type": "code",
   "execution_count": 21,
   "id": "450a4188",
   "metadata": {},
   "outputs": [],
   "source": [
    "yp=np.array([Newton(x,y,i) for i in x])"
   ]
  },
  {
   "cell_type": "code",
   "execution_count": 24,
   "id": "3c0613c9",
   "metadata": {},
   "outputs": [
    {
     "data": {
      "image/png": "[encoded data removed]",
      "text/plain": [
       "<Figure size 432x288 with 1 Axes>"
      ]
     },
     "metadata": {
      "needs_background": "light"
     },
     "output_type": "display_data"
    }
   ],
   "source": [
    "plt.plot(x,y,'o-r',label='inter')\n",
    "plt.plot(x,yp,'xk',label='real')\n",
    "plt.grid()\n",
    "plt.legend()\n",
    "plt.show()"
   ]
  },
  {
   "cell_type": "code",
   "execution_count": null,
   "id": "8fe2a778",
   "metadata": {},
   "outputs": [],
   "source": []
  }
 ],
 "metadata": {
  "kernelspec": {
   "display_name": "Python 3 (ipykernel)",
   "language": "python",
   "name": "python3"
  },
  "language_info": {
   "codemirror_mode": {
    "name": "ipython",
    "version": 3
   },
   "file_extension": ".py",
   "mimetype": "text/x-python",
   "name": "python",
   "nbconvert_exporter": "python",
   "pygments_lexer": "ipython3",
   "version": "3.9.12"
  }
 },
 "nbformat": 4,
 "nbformat_minor": 5
}
