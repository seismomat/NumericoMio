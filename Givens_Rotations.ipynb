{
 "cells": [
  {
   "cell_type": "code",
   "execution_count": 1,
   "id": "3da96edd",
   "metadata": {},
   "outputs": [],
   "source": [
    "import numpy as np\n",
    "from numpy import linalg as la"
   ]
  },
  {
   "cell_type": "code",
   "execution_count": 2,
   "id": "650ff6f2",
   "metadata": {},
   "outputs": [
    {
     "data": {
      "text/plain": [
       "array([[ 1., -1.],\n",
       "       [ 3.,  2.],\n",
       "       [ 1.,  1.],\n",
       "       [ 1.,  0.]])"
      ]
     },
     "execution_count": 2,
     "metadata": {},
     "output_type": "execute_result"
    }
   ],
   "source": [
    "A=[[1,-1],[3,2],[1,1],[1,0]]\n",
    "A=np.array(A,dtype=float)\n",
    "A"
   ]
  },
  {
   "cell_type": "code",
   "execution_count": 3,
   "id": "4f088fdd",
   "metadata": {},
   "outputs": [
    {
     "name": "stdout",
     "output_type": "stream",
     "text": [
      "[[3.16228 1.58114]\n",
      " [0.      1.58114]\n",
      " [1.      1.     ]\n",
      " [1.      0.     ]]\n",
      "\n",
      "\n",
      "[[3.31663 1.80907]\n",
      " [0.      1.58114]\n",
      " [0.      0.47673]\n",
      " [1.      0.     ]]\n",
      "\n",
      "\n",
      "[[ 3.46411  1.73205]\n",
      " [ 0.       1.58114]\n",
      " [ 0.       0.47673]\n",
      " [-0.      -0.52223]]\n",
      "\n",
      "\n"
     ]
    }
   ],
   "source": [
    "R=np.copy(A)\n",
    "for j in range(1,len(R)):\n",
    "    G=np.eye(len(R))\n",
    "    ro=la.norm([R[0,0],R[j,0]])\n",
    "    c=R[0,0]/ro\n",
    "    s=R[j,0]/ro\n",
    "    G[0,0]=c; G[0,j]=s;\n",
    "    G[j,j]=c; G[j,0]=-s;\n",
    "    R=G@R\n",
    "    R=np.round(R,5)\n",
    "    print(R)\n",
    "    print(\"\\n\")"
   ]
  },
  {
   "cell_type": "code",
   "execution_count": 7,
   "id": "ca06f748",
   "metadata": {},
   "outputs": [
    {
     "name": "stdout",
     "output_type": "stream",
     "text": [
      "1.58114 0.47673\n",
      "\n",
      "\n",
      "[[ 3.46411  1.73205]\n",
      " [ 0.       1.65145]\n",
      " [ 0.       0.     ]\n",
      " [ 0.      -0.52223]]\n",
      "\n",
      "\n",
      "1.65145 -0.52223\n",
      "\n",
      "\n",
      "[[ 3.46411  1.73205]\n",
      " [ 0.       1.73205]\n",
      " [ 0.       0.     ]\n",
      " [ 0.      -0.     ]]\n",
      "\n",
      "\n"
     ]
    }
   ],
   "source": [
    "R2=np.copy(R)\n",
    "for j in range(2,len(R2)):\n",
    "    G=np.eye(len(R2))\n",
    "    ro=la.norm([R2[1,1],R2[j,1]])\n",
    "    print(R2[1,1],R2[j,1])\n",
    "    print(\"\\n\")\n",
    "    c=R2[1,1]/ro\n",
    "    s=R2[j,1]/ro\n",
    "    G[1,1]=c; G[1,j]=s;\n",
    "    G[j,j]=c; G[j,1]=-s;\n",
    "    R2=G@R2\n",
    "    R2=np.round(R2,5)\n",
    "    print(R2)\n",
    "    print(\"\\n\")"
   ]
  },
  {
   "cell_type": "code",
   "execution_count": null,
   "id": "8c055fb8",
   "metadata": {},
   "outputs": [],
   "source": []
  },
  {
   "cell_type": "code",
   "execution_count": null,
   "id": "e7718c81",
   "metadata": {},
   "outputs": [],
   "source": []
  }
 ],
 "metadata": {
  "kernelspec": {
   "display_name": "Python 3 (ipykernel)",
   "language": "python",
   "name": "python3"
  },
  "language_info": {
   "codemirror_mode": {
    "name": "ipython",
    "version": 3
   },
   "file_extension": ".py",
   "mimetype": "text/x-python",
   "name": "python",
   "nbconvert_exporter": "python",
   "pygments_lexer": "ipython3",
   "version": "3.9.12"
  }
 },
 "nbformat": 4,
 "nbformat_minor": 5
}
