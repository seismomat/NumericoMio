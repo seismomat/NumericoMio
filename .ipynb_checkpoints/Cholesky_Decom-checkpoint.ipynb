{
  "cells": [
    {
      "cell_type": "markdown",
      "metadata": {
        "id": "view-in-github",
        "colab_type": "text"
      },
      "source": [
        "<a href=\"https://colab.research.google.com/github/seismomat/NumericoMio/blob/master/.ipynb_checkpoints/Cholesky_Decom-checkpoint.ipynb\" target=\"_parent\"><img src=\"https://colab.research.google.com/assets/colab-badge.svg\" alt=\"Open In Colab\"/></a>"
      ]
    },
    {
      "cell_type": "code",
      "execution_count": null,
      "id": "df968e4e",
      "metadata": {
        "id": "df968e4e"
      },
      "outputs": [],
      "source": [
        "import numpy as np \n",
        "# Se define la matriz A\n",
        "A = np.array([[6,15,55],[15,55,225],[55,225,979]])"
      ]
    },
    {
      "cell_type": "code",
      "execution_count": null,
      "id": "320ffa6d",
      "metadata": {
        "id": "320ffa6d"
      },
      "outputs": [],
      "source": [
        "class Invertion:\n",
        "  ## A es un numpy array de dos dimensiones\n",
        "\n",
        "  def __init__(self, A):\n",
        "    self.A=A\n",
        "\n",
        "  def Cholesky(self):\n",
        "    n=self.A.shape[0]\n",
        "    self.L=np.zeros_like(self.A)\n",
        "\n",
        "    for k in range(n):\n",
        "      for i in range(k+1):\n",
        "        if k==i:\n",
        "          sum=0.0\n",
        "          for j in range(k):\n",
        "            sum+= self.L[k][j]*self.L[k][j]\n",
        "          self.L[k][k]=np.sqrt(self.A[k][k]-sum)\n",
        "\n",
        "        else:\n",
        "          sum=0.0\n",
        "          for j in range(i):\n",
        "            sum+= self.L[i][j]*self.L[k][j]\n",
        "          self.L[k][i]=(self.A[k][i]-sum)/self.L[i][i]\n",
        "\n",
        "\n",
        "\n",
        "    return self.L"
      ]
    },
    {
      "cell_type": "code",
      "execution_count": null,
      "id": "725c6435",
      "metadata": {
        "id": "725c6435",
        "outputId": "d1a35099-14e4-46a0-c27a-721c3f4adf6c"
      },
      "outputs": [
        {
          "name": "stdout",
          "output_type": "stream",
          "text": [
            "[[ 2.44948974  0.          0.        ]\n",
            " [ 6.12372436  4.18330013  0.        ]\n",
            " [22.45365598 20.91650066  6.11010093]]\n"
          ]
        }
      ],
      "source": [
        "A = np.array([[6.0,15.0,55.0],[15.0,55.0,225.0],[55.0,225.0,979.0]])\n",
        "Inv=Invertion(A)\n",
        "\n",
        "\n",
        "L=Inv.Cholesky()\n",
        "\n",
        "print(L)"
      ]
    },
    {
      "cell_type": "code",
      "execution_count": null,
      "id": "1b594767",
      "metadata": {
        "id": "1b594767",
        "outputId": "673f3c92-40ea-4022-e154-70475fdaa62b"
      },
      "outputs": [
        {
          "name": "stdout",
          "output_type": "stream",
          "text": [
            "[[ 2.44948974  0.          0.        ]\n",
            " [ 6.12372436  4.18330013  0.        ]\n",
            " [22.45365598 20.91650066  6.11010093]]\n"
          ]
        }
      ],
      "source": [
        "L_num = np.linalg.cholesky(A)\n",
        "# Se imprimen ambas matrices\n",
        "print(L_num)"
      ]
    },
    {
      "cell_type": "code",
      "execution_count": null,
      "id": "928b17b4",
      "metadata": {
        "id": "928b17b4"
      },
      "outputs": [],
      "source": []
    }
  ],
  "metadata": {
    "kernelspec": {
      "display_name": "Python 3 (ipykernel)",
      "language": "python",
      "name": "python3"
    },
    "language_info": {
      "codemirror_mode": {
        "name": "ipython",
        "version": 3
      },
      "file_extension": ".py",
      "mimetype": "text/x-python",
      "name": "python",
      "nbconvert_exporter": "python",
      "pygments_lexer": "ipython3",
      "version": "3.9.12"
    },
    "colab": {
      "provenance": [],
      "include_colab_link": true
    }
  },
  "nbformat": 4,
  "nbformat_minor": 5
}