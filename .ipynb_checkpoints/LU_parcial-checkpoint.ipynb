{
 "cells": [
  {
   "cell_type": "code",
   "execution_count": 3,
   "id": "38786f2c",
   "metadata": {},
   "outputs": [
    {
     "name": "stdout",
     "output_type": "stream",
     "text": [
      "2\n",
      "2\n"
     ]
    },
    {
     "data": {
      "text/plain": [
       "'print(\"Matriz de permutación P:\")\\nprint(P)\\nprint(\"Matriz triangular inferior L y superior U:\")\\nprint(LU)'"
      ]
     },
     "execution_count": 3,
     "metadata": {},
     "output_type": "execute_result"
    }
   ],
   "source": [
    "import numpy as np\n",
    "def lu_pivot_total(A):\n",
    "    n = A.shape[0]\n",
    "    P = np.eye(n)  # Matriz de permutación inicial\n",
    "    LU = A.copy()\n",
    "    \n",
    "    for k in range(n - 1):\n",
    "        pivot_row = np.argmax(np.abs(LU[k:n, k])) + k\n",
    "        print(pivot_row)\n",
    "        if pivot_row != k:\n",
    "            P[[k, pivot_row]] = P[[pivot_row, k]]\n",
    "            LU[[k, pivot_row]] = LU[[pivot_row, k]]\n",
    "        \n",
    "        for i in range(k + 1, n):\n",
    "            LU[i, k] /= LU[k, k]\n",
    "            for j in range(k + 1, n):\n",
    "                LU[i, j] -= LU[i, k] * LU[k, j]\n",
    "\n",
    "    return P, LU\n",
    "\n",
    "# Ejemplo de uso\n",
    "A = np.array([[2, 1, 1],\n",
    "              [4, 3, 3],\n",
    "              [8, 7, 9]], dtype=float)\n",
    "\n",
    "P, LU = lu_pivot_total(A)\n",
    "\"\"\"print(\"Matriz de permutación P:\")\n",
    "print(P)\n",
    "print(\"Matriz triangular inferior L y superior U:\")\n",
    "print(LU)\"\"\"\n"
   ]
  },
  {
   "cell_type": "code",
   "execution_count": 5,
   "id": "5e58f5b0",
   "metadata": {},
   "outputs": [
    {
     "data": {
      "text/plain": [
       "array([[1., 0., 0.],\n",
       "       [0., 1., 0.],\n",
       "       [0., 0., 1.]])"
      ]
     },
     "execution_count": 5,
     "metadata": {},
     "output_type": "execute_result"
    }
   ],
   "source": [
    "P = np.eye(3)\n",
    "P"
   ]
  },
  {
   "cell_type": "code",
   "execution_count": 7,
   "id": "7424dce5",
   "metadata": {},
   "outputs": [
    {
     "data": {
      "text/plain": [
       "array([[1., 0., 0.],\n",
       "       [0., 0., 1.],\n",
       "       [0., 1., 0.]])"
      ]
     },
     "execution_count": 7,
     "metadata": {},
     "output_type": "execute_result"
    }
   ],
   "source": [
    "P[[2, 1]]=P[[1, 2]]\n",
    "P"
   ]
  },
  {
   "cell_type": "code",
   "execution_count": 8,
   "id": "87a048e4",
   "metadata": {},
   "outputs": [
    {
     "data": {
      "text/plain": [
       "array([[0., 1., 0.],\n",
       "       [0., 0., 1.]])"
      ]
     },
     "execution_count": 8,
     "metadata": {},
     "output_type": "execute_result"
    }
   ],
   "source": [
    "P[[2, 1]]"
   ]
  },
  {
   "cell_type": "code",
   "execution_count": 11,
   "id": "4e6223c2",
   "metadata": {},
   "outputs": [
    {
     "data": {
      "text/plain": [
       "array([1., 0., 0.])"
      ]
     },
     "execution_count": 11,
     "metadata": {},
     "output_type": "execute_result"
    }
   ],
   "source": [
    "P[0:3,0]"
   ]
  },
  {
   "cell_type": "code",
   "execution_count": null,
   "id": "238c6256",
   "metadata": {},
   "outputs": [],
   "source": []
  }
 ],
 "metadata": {
  "kernelspec": {
   "display_name": "Python 3 (ipykernel)",
   "language": "python",
   "name": "python3"
  },
  "language_info": {
   "codemirror_mode": {
    "name": "ipython",
    "version": 3
   },
   "file_extension": ".py",
   "mimetype": "text/x-python",
   "name": "python",
   "nbconvert_exporter": "python",
   "pygments_lexer": "ipython3",
   "version": "3.9.12"
  }
 },
 "nbformat": 4,
 "nbformat_minor": 5
}
