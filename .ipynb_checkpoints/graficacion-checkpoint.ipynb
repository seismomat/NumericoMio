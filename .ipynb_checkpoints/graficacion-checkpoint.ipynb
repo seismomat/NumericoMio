{
 "cells": [
  {
   "cell_type": "code",
   "execution_count": 1,
   "id": "9416f229",
   "metadata": {},
   "outputs": [],
   "source": [
    "import timeit\n",
    "import matplotlib.pyplot as plt\n",
    "results = []"
   ]
  },
  {
   "cell_type": "code",
   "execution_count": 2,
   "id": "3008e289",
   "metadata": {},
   "outputs": [],
   "source": [
    "def factorial(n):\n",
    "    if n == 0:\n",
    "        return 1\n",
    "    else:\n",
    "        return n * factorial(n-1)"
   ]
  },
  {
   "cell_type": "code",
   "execution_count": 3,
   "id": "626b0f31",
   "metadata": {},
   "outputs": [
    {
     "name": "stdout",
     "output_type": "stream",
     "text": [
      "106 ns ± 4.16 ns per loop (mean ± std. dev. of 7 runs, 10,000,000 loops each)\n",
      "1.44 µs ± 96.8 ns per loop (mean ± std. dev. of 7 runs, 1,000,000 loops each)\n",
      "3.09 µs ± 187 ns per loop (mean ± std. dev. of 7 runs, 100,000 loops each)\n",
      "4.89 µs ± 281 ns per loop (mean ± std. dev. of 7 runs, 100,000 loops each)\n",
      "6.18 µs ± 26.4 ns per loop (mean ± std. dev. of 7 runs, 100,000 loops each)\n",
      "7.99 µs ± 228 ns per loop (mean ± std. dev. of 7 runs, 100,000 loops each)\n",
      "9.62 µs ± 148 ns per loop (mean ± std. dev. of 7 runs, 100,000 loops each)\n",
      "11.8 µs ± 320 ns per loop (mean ± std. dev. of 7 runs, 100,000 loops each)\n",
      "13.7 µs ± 648 ns per loop (mean ± std. dev. of 7 runs, 100,000 loops each)\n",
      "14.9 µs ± 108 ns per loop (mean ± std. dev. of 7 runs, 100,000 loops each)\n"
     ]
    }
   ],
   "source": [
    "Ns=range(0,100,10)\n",
    "for n in Ns:\n",
    "    result= %timeit -o factorial(n)\n",
    "    results.append(result.best)"
   ]
  },
  {
   "cell_type": "code",
   "execution_count": 23,
   "id": "e9794fc8",
   "metadata": {},
   "outputs": [
    {
     "data": {
      "image/png": "[encoded data removed]",
      "text/plain": [
       "<Figure size 432x288 with 1 Axes>"
      ]
     },
     "metadata": {},
     "output_type": "display_data"
    }
   ],
   "source": [
    "with plt.style.context('ggplot'):    \n",
    "    fig = plt.figure(figsize=(6, 4))\n",
    "    plt.bar(Ns,results,width=8)\n",
    "    plt.title(\"Ejecución\")\n",
    "    plt.xlabel(\"Elementos del factorial\")\n",
    "    plt.ylabel(\"Tiempo de ejecución\")\n",
    "plt.show()"
   ]
  },
  {
   "cell_type": "code",
   "execution_count": null,
   "id": "564cc20e",
   "metadata": {},
   "outputs": [],
   "source": []
  }
 ],
 "metadata": {
  "kernelspec": {
   "display_name": "Python 3 (ipykernel)",
   "language": "python",
   "name": "python3"
  },
  "language_info": {
   "codemirror_mode": {
    "name": "ipython",
    "version": 3
   },
   "file_extension": ".py",
   "mimetype": "text/x-python",
   "name": "python",
   "nbconvert_exporter": "python",
   "pygments_lexer": "ipython3",
   "version": "3.9.12"
  }
 },
 "nbformat": 4,
 "nbformat_minor": 5
}
