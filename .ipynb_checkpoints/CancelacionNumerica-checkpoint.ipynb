{
 "cells": [
  {
   "cell_type": "markdown",
   "id": "5637052b",
   "metadata": {
    "colab_type": "text",
    "id": "view-in-github"
   },
   "source": [
    "<a href=\"https://colab.research.google.com/github/seismomat/NumericoMio/blob/master/CancelacionNumerica.ipynb\" target=\"_parent\"><img src=\"https://colab.research.google.com/assets/colab-badge.svg\" alt=\"Open In Colab\"/></a>"
   ]
  },
  {
   "cell_type": "markdown",
   "id": "216cccfc",
   "metadata": {
    "id": "216cccfc"
   },
   "source": [
    "<font color=\"Teal\" face=\"Comic Sans MS,arial\">\n",
    "  <h1 align=\"center\"><i>Cancelación numérica</i></h1>\n",
    "  </font>\n",
    "  <font color=\"Black\" face=\"Comic Sans MS,arial\">\n",
    "  <h5 align=\"center\"><i>Profesor: M.en.C.Miguel Ángel Pérez León</i></h5>\n",
    "    <h5 align=\"center\"><i>Ayudante: Jesús Iván Coss Calderón</i></h5>\n",
    "    <h5 align=\"center\"><i>Materia: Análisis numérico</i></h5>\n",
    "  </font>"
   ]
  },
  {
   "cell_type": "markdown",
   "id": "17b30365",
   "metadata": {
    "id": "17b30365"
   },
   "source": [
    "**Objetivo general**\n",
    "\n",
    "* Entender cómo funciona la cancelación numérica en los lenguajes de programación.\n",
    "\n",
    "**Objetivos particulares**\n",
    "\n",
    "* Observar la cancelación numérica con la fórmula general de segundo grado.\n",
    "* Observar la cancelación numérica al calcular el límite de una función."
   ]
  },
  {
   "cell_type": "markdown",
   "id": "f7183f9d",
   "metadata": {
    "id": "f7183f9d"
   },
   "source": [
    "<a name='c1'></a>\n",
    "\n",
    "## Contenido\n",
    "\n",
    "- [Introducción](#1)\n",
    "    - [Bibliotecas a utilizar](#1-1)\n",
    "- [Fórmula general de segundo grado](#2)\n",
    "    - [Programa sin radicalización.](#2-1)\n",
    "    - [Fundamento](#2-2)\n",
    "    - [Programa con radicalización](#2-3)\n",
    "    - [Fundamento](#2-4)    \n",
    "- [Límite de una función.](#3)\n",
    "    - [Programa 1.](#3-1)\n",
    "    - [Programa 2.](#3-2)\n"
   ]
  },
  {
   "cell_type": "markdown",
   "id": "1cb93117",
   "metadata": {
    "id": "1cb93117"
   },
   "source": [
    "<a name='1'></a>\n",
    "\n",
    "# Introducción \n",
    "\n",
    "En el mundo del análisis numérico, no sólo tenemos que tener cuidado con aplicar la matemática de manera correcta, sino también saber como los efectos de redondeo y truncamiento pueden afectar nuestras aproximaciones. Ya que, puede ser que tengamos cancelaciones debido a que algún factor que se está haciendo cada vez más pequeño, por lo que se deben buscar estrategias para modificar nuestros cálculos y que las aproximaciones sean factibles."
   ]
  },
  {
   "cell_type": "markdown",
   "id": "dbcd64e2",
   "metadata": {
    "id": "dbcd64e2"
   },
   "source": [
    "<a name='1-1'></a>\n",
    "\n",
    "## Bibliotecas a utilizar "
   ]
  },
  {
   "cell_type": "code",
   "execution_count": 1,
   "id": "64d2eee8",
   "metadata": {
    "id": "64d2eee8",
    "outputId": "9eef5f7a-068f-4f9a-9543-44b28139403f"
   },
   "outputs": [
    {
     "ename": "ModuleNotFoundError",
     "evalue": "No module named 'Tools_cancelation'",
     "output_type": "error",
     "traceback": [
      "\u001b[1;31m---------------------------------------------------------------------------\u001b[0m",
      "\u001b[1;31mModuleNotFoundError\u001b[0m                       Traceback (most recent call last)",
      "Input \u001b[1;32mIn [1]\u001b[0m, in \u001b[0;36m<cell line: 3>\u001b[1;34m()\u001b[0m\n\u001b[0;32m      1\u001b[0m \u001b[38;5;28;01mimport\u001b[39;00m \u001b[38;5;21;01mimport_ipynb\u001b[39;00m\n\u001b[0;32m      2\u001b[0m \u001b[38;5;28;01mimport\u001b[39;00m \u001b[38;5;21;01mnumpy\u001b[39;00m \u001b[38;5;28;01mas\u001b[39;00m \u001b[38;5;21;01mnp\u001b[39;00m\n\u001b[1;32m----> 3\u001b[0m \u001b[38;5;28;01mimport\u001b[39;00m \u001b[38;5;21;01mTools_cancelation\u001b[39;00m \u001b[38;5;28;01mas\u001b[39;00m \u001b[38;5;21;01mTc\u001b[39;00m\n",
      "\u001b[1;31mModuleNotFoundError\u001b[0m: No module named 'Tools_cancelation'"
     ]
    }
   ],
   "source": [
    "import import_ipynb\n",
    "import numpy as np\n",
    "import Tools_cancelation as Tc"
   ]
  },
  {
   "cell_type": "markdown",
   "id": "f7b6d0a7",
   "metadata": {
    "id": "f7b6d0a7"
   },
   "source": [
    "<a name='2'></a>\n",
    "\n",
    "# Fórmula general de segundo grado\n",
    "\n",
    "[regresar al contenido](#c1) \n",
    "\n",
    "Las ecuaciones de segundo grado pueden ser resueltas con la ayuda de la llamada fórmula general de segundo grado, que tiene la siguiente forma \n",
    "\n",
    "$$ ax^{2} + bx +c =0, $$\n",
    "\n",
    "donde $a,b,c \\in \\Bbb R$.\n",
    "\n",
    "Vamos a tomar como ejemplo el siguiente polinomio de segundo orden, y obtener sus raíces.\n",
    "\n",
    "$$ x^{2} - (10^{10} +10^{-10})x +1 =0. $$\n",
    "\n",
    "¿Qué resultado se obtiene?, ¿se presenta cancelación numérica?,¿por qué sucede la cancelación numérica?."
   ]
  },
  {
   "cell_type": "markdown",
   "id": "b887ce53",
   "metadata": {
    "id": "b887ce53"
   },
   "source": [
    "<a name='2-1'></a>\n",
    "\n",
    "## Programa sin radicalización.\n",
    "\n",
    "[regresar al contenido](#c1) "
   ]
  },
  {
   "cell_type": "code",
   "execution_count": null,
   "id": "d46ba92a",
   "metadata": {
    "id": "d46ba92a"
   },
   "outputs": [],
   "source": [
    "## se declaran los coeficientes de la ecuación ax ^2 + bx + c \n",
    "a= 1.0; # coeficiente ax ^2 \n",
    "b= -(1E11 + 1E-10); # coeficiente bx\n",
    "c=1.0; # coeficiente c"
   ]
  },
  {
   "cell_type": "code",
   "execution_count": null,
   "id": "1fd58483",
   "metadata": {
    "id": "1fd58483"
   },
   "outputs": [],
   "source": [
    "def SinRad(a,b,c):\n",
    "    \"\"\"\n",
    "    Calcula la Chicharronera sin radicalización \n",
    "    para una ecuación del tipo \n",
    "                    ax ^2 + bx + c\n",
    "    \n",
    "    Parámetros\n",
    "    -----------\n",
    "    a: float\n",
    "        entrada, coeficiente a\n",
    "    b: float\n",
    "        entrada, coeficiente b\n",
    "    c: float\n",
    "        entrada, coeficiente c\n",
    "    \n",
    "    Regreso\n",
    "    ----------\n",
    "    X1: float\n",
    "        primera raíz\n",
    "    \n",
    "    X2: float\n",
    "        segunda raíz\n",
    "    \"\"\"\n",
    "    \n",
    "    discri= np.sqrt(b**2 - 4*a*c)\n",
    "    \n",
    "    X1=(-b + discri)/(2.0*a)\n",
    "    X2=(-b - discri)/(2.0*a)\n",
    "    \n",
    "    return [X1],[X2]\n"
   ]
  },
  {
   "cell_type": "code",
   "execution_count": null,
   "id": "31f24678",
   "metadata": {
    "id": "31f24678",
    "outputId": "9547769d-265e-4c7c-b2ef-5309ab21db84"
   },
   "outputs": [],
   "source": [
    "X1,X2=SinRad(a,b,c)\n",
    "Tc.printing(\"X1\",\"X2\",X1,X2)"
   ]
  },
  {
   "cell_type": "markdown",
   "id": "0c2ecdd1",
   "metadata": {
    "id": "0c2ecdd1"
   },
   "source": [
    "<a name='2-2'></a>\n",
    "\n",
    "## Fundamento\n",
    "\n",
    "[regresar al contenido](#c1) "
   ]
  },
  {
   "cell_type": "markdown",
   "id": "7dd7b38d",
   "metadata": {
    "id": "7dd7b38d"
   },
   "source": [
    "Debido al sistema de punto flotante, se tiene el siguiente redondeo\n",
    "\n",
    "$$ b= - 10^{10} - 10^{-10} \\approx  - 10^{10}$$\n",
    "\n",
    "mientras que en el discriminante se obtiene\n",
    "\n",
    "$$ \\sqrt{(10^{10}) ^{2} - 4* 1*1 } \\approx  10^{10} $$\n",
    "\n",
    "por lo que, para el cálculo de la raíz \n",
    "\n",
    "$$ x_{2} = \\frac{10^{10} -  \\sqrt{(10^{10}) ^{2} - 4* 1*1 }}{2} $$\n",
    "\n",
    "$$ x_{2} = \\frac{10^{10} -10^{10}}{2} $$\n",
    "\n",
    "$$ x_{2} = 0 $$\n",
    "\n",
    "por otro lado,\n",
    "\n",
    "$$ \\sqrt{(10^{10}) ^{2} - 4* 1*1 } \\approx  10^{10} $$\n",
    "\n",
    "por lo que, para el cálculo de la raíz \n",
    "\n",
    "$$ x_{1} = \\frac{10^{10} +  \\sqrt{(10^{10}) ^{2} - 4* 1*1 }}{2} $$\n",
    "\n",
    "$$ x_{1} = \\frac{10^{10} +10^{10}}{2} $$\n",
    "\n",
    "$$ x_{1} = 10^{10} $$"
   ]
  },
  {
   "cell_type": "markdown",
   "id": "bb313d29",
   "metadata": {
    "id": "bb313d29"
   },
   "source": [
    "<a name='2-3'></a>\n",
    "\n",
    "## Programa con radicalización.\n",
    "\n",
    "[regresar al contenido](#c1) "
   ]
  },
  {
   "cell_type": "code",
   "execution_count": null,
   "id": "e4213b4b",
   "metadata": {
    "id": "e4213b4b"
   },
   "outputs": [],
   "source": [
    "def ConRad(a,b,c):\n",
    "    \"\"\"\n",
    "    Calcula la Chicharronera con radicalización \n",
    "    para una ecuación del tipo \n",
    "                    ax ^2 + bx + c\n",
    "    \n",
    "    Parámetros\n",
    "    -----------\n",
    "    a: float\n",
    "        entrada, coeficiente a\n",
    "    b: float\n",
    "        entrada, coeficiente b\n",
    "    c: float\n",
    "        entrada, coeficiente c\n",
    "    \n",
    "    Regreso\n",
    "    ----------\n",
    "    X1: float\n",
    "        primera raíz\n",
    "    \n",
    "    X2: float\n",
    "        segunda raíz\n",
    "    \"\"\"\n",
    "    \n",
    "    discri= np.sqrt(b**2 - 4*a*c)\n",
    "    \n",
    "    X2=(2*c)/(-b+discri)\n",
    "    X1=(-b + discri)/(2.0*a)\n",
    "    \n",
    "    return [X1],[X2]"
   ]
  },
  {
   "cell_type": "code",
   "execution_count": null,
   "id": "e65825a4",
   "metadata": {
    "id": "e65825a4",
    "outputId": "07313599-681c-4974-a479-c23f5e7980e7"
   },
   "outputs": [],
   "source": [
    "X1_r,X2_r=ConRad(a,b,c)\n",
    "Tc.printing(\"X1\",\"X2\",X1_r,X2_r)"
   ]
  },
  {
   "cell_type": "code",
   "execution_count": null,
   "id": "8c5de3e9",
   "metadata": {
    "id": "8c5de3e9",
    "outputId": "08cf2527-c5f6-4ea5-914e-5c9a1163a2e0"
   },
   "outputs": [],
   "source": [
    "Tc.printing(\"X1\",\"X2\",[X1,X1_r],[X2,X2_r])"
   ]
  },
  {
   "cell_type": "markdown",
   "id": "a02c35c1",
   "metadata": {
    "id": "a02c35c1"
   },
   "source": [
    "<a name='2-4'></a>\n",
    "\n",
    "## Fundamento\n",
    "\n",
    "[regresar al contenido](#c1) \n",
    "\n",
    "Para resolver el problema de la cancelación numérica, se debe radicalizar, el discriminante de la fórmula de segundo grado\n",
    "\n",
    "$$ x_{2} = \\frac{-b +  \\sqrt{b^{2}-4ac}}{2a}  $$\n",
    "\n",
    "Multiplicando por un uno de manera convenientey sabemos que $b<0$, entonces tenemos que \n",
    "\n",
    "\n",
    "$$ x_{2} = \\frac{b -  \\sqrt{b^{2}-4ac}}{2a} \\Bigg( \\frac{b +  \\sqrt{b^{2}-4ac}}{b + \\sqrt{b^{2}-4ac}}\\Bigg)  $$\n",
    "\n",
    "\n",
    "$$ x_{2} = \\frac{2c}{b +  \\sqrt{b^{2}-4ac}} \\approx \\frac{c}{b}$$"
   ]
  },
  {
   "cell_type": "markdown",
   "id": "a1d28f70",
   "metadata": {
    "id": "a1d28f70"
   },
   "source": [
    "<a name='3'></a>\n",
    "\n",
    "# Límite de una función.\n",
    "\n",
    "[regresar al contenido](#c1) \n",
    "\n",
    "Considera la función\n",
    "\n",
    "$$f(x) = \\frac{(e^x-1)}{x}$$\n",
    "\n",
    "Usa la regla de l'Hopital para probar que \n",
    "\n",
    "$$\\underset{x \\rightarrow 0}{\\lim} f(x) = 1$$\n",
    "\n",
    "Probando\n",
    "\n",
    "$$\\begin{equation*} \n",
    "\\begin{split}\n",
    "\\underset{x \\rightarrow 0}{\\lim} \\frac{e^x-1}{x}\\\\\n",
    "\\underset{x \\rightarrow 0}{\\lim} \\frac{ \\frac{d}{dx} ( e^x-1)}{ \\frac{d}{dx} x} \\\\\n",
    "\\underset{x \\rightarrow 0}{\\lim} \\frac{ e^x}{ 1} \\\\\n",
    "\\underset{x \\rightarrow 0}{\\lim} e^x =1\n",
    "\\end{split}\n",
    "\\end{equation*}$$\n"
   ]
  },
  {
   "cell_type": "markdown",
   "id": "24409ce4",
   "metadata": {
    "id": "24409ce4"
   },
   "source": [
    "<a name='3-1'></a>\n",
    "\n",
    "## Programa 1.\n",
    "\n",
    "[regresar al contenido](#c1) "
   ]
  },
  {
   "cell_type": "code",
   "execution_count": null,
   "id": "f7b82ad5",
   "metadata": {
    "id": "f7b82ad5"
   },
   "outputs": [],
   "source": [
    "def lim1(k):\n",
    "    \"\"\"\n",
    "    Calcula el limite de la función \n",
    "                    exp(x)-1 / x\n",
    "    \n",
    "    Parámetros\n",
    "    -----------\n",
    "    k: int\n",
    "        entrada\n",
    "   \n",
    "    Regreso\n",
    "    ----------\n",
    "    xs: list\n",
    "        lista con los valores de x\n",
    "    \n",
    "    lim_f_x: list\n",
    "        lista con los valores del limite\n",
    "    \"\"\"\n",
    "    ks=np.arange(1,k+1)\n",
    "    lim_f_x=[];xs=[]\n",
    "    for k in ks:\n",
    "        x=1/(10**(k))\n",
    "        xs.append(x)\n",
    "        lim_f_x.append((np.exp(x)-1)/x)\n",
    "        \n",
    "    return xs,lim_f_x"
   ]
  },
  {
   "cell_type": "code",
   "execution_count": null,
   "id": "969aad89",
   "metadata": {
    "id": "969aad89",
    "outputId": "7c5c56cf-dfd4-4cf1-c321-26032a52da38"
   },
   "outputs": [],
   "source": [
    "x,lim_fx=lim1(30)\n",
    "Tc.printing(\"Xs\",\"lim_fx\",x,lim_fx)"
   ]
  },
  {
   "cell_type": "markdown",
   "id": "81d1c0bb",
   "metadata": {
    "id": "81d1c0bb"
   },
   "source": [
    "<a name='3-2'></a>\n",
    "\n",
    "## Programa 2.\n",
    "\n",
    "[regresar al contenido](#c1) "
   ]
  },
  {
   "cell_type": "code",
   "execution_count": null,
   "id": "7199eb28",
   "metadata": {
    "id": "7199eb28"
   },
   "outputs": [],
   "source": [
    "def lim2(k):\n",
    "    \"\"\"\n",
    "    Calcula el limite de la función \n",
    "                    exp(x)-1 / ln(exp(x))\n",
    "    \n",
    "    Parámetros\n",
    "    -----------\n",
    "    k: int\n",
    "        entrada\n",
    "   \n",
    "    Regreso\n",
    "    ----------\n",
    "    xs: list\n",
    "        lista con los valores de x\n",
    "    \n",
    "    lim_f_x: list\n",
    "        lista con los valores del limite\n",
    "    \"\"\"\n",
    "    ks=np.arange(1,k+1)\n",
    "    lim_f_x=[];xs=[]\n",
    "    for k in ks:\n",
    "        x=1/(10**(k))\n",
    "        xs.append(x)\n",
    "        lim_f_x.append((np.exp(x)-1)/( np.log(np.exp(x) )))\n",
    "        \n",
    "    return xs,lim_f_x"
   ]
  },
  {
   "cell_type": "code",
   "execution_count": null,
   "id": "10317702",
   "metadata": {
    "id": "10317702",
    "outputId": "12e55100-b84c-4a99-b951-f80040c337ed"
   },
   "outputs": [],
   "source": [
    "x,lim_fx=lim2(30)\n",
    "Tc.printing(\"Xs\",\"lim_fx\",x,lim_fx)"
   ]
  },
  {
   "cell_type": "code",
   "execution_count": null,
   "id": "88786681",
   "metadata": {
    "id": "88786681",
    "outputId": "f9a452c9-3053-4b2c-f191-c7c8ac43ba4e"
   },
   "outputs": [],
   "source": [
    "x=1\n",
    "der_anal=np.cos(x)\n",
    "f=lambda x:np.sin(x)\n",
    "der_anal"
   ]
  },
  {
   "cell_type": "code",
   "execution_count": null,
   "id": "2aabf9d3",
   "metadata": {
    "id": "2aabf9d3"
   },
   "outputs": [],
   "source": [
    "def derivation(f,x):\n",
    "    \"\"\"\n",
    "    derivation(f,x)\n",
    "\n",
    "    This function computes the derivative of a function f at a point x.\n",
    "\n",
    "    Parameters\n",
    "    ----------\n",
    "    f : function\n",
    "        The function whose derivative is to be computed.\n",
    "    x : float\n",
    "        The point at which the derivative is to be computed.\n",
    "\n",
    "    Returns\n",
    "    -------\n",
    "    hs : list\n",
    "        A list of the values of h used in the computation.\n",
    "    der : list\n",
    "        A list of the derivatives computed for each value of h.\n",
    "    \"\"\"\n",
    "    der=[];hs=[];n=20\n",
    "    for i in range(n):\n",
    "        h=0.0;deri=0.0;\n",
    "        h=10**(-i);\n",
    "        deri=(f(x+h)-f(x))/h;\n",
    "        der.append(deri);\n",
    "        hs.append(h);\n",
    "    return hs,der"
   ]
  },
  {
   "cell_type": "code",
   "execution_count": null,
   "id": "85ac077b",
   "metadata": {
    "id": "85ac077b",
    "outputId": "fe4c699e-09f0-4dd7-d934-d8c3433fe544"
   },
   "outputs": [],
   "source": [
    "hs,der=derivation(f,x)\n",
    "Tc.printing(\"h\",\"Valor de la derivada\",hs,der)"
   ]
  },
  {
   "cell_type": "code",
   "execution_count": null,
   "id": "e4afe7f9",
   "metadata": {
    "id": "e4afe7f9",
    "outputId": "cd9e0fdd-bb35-4b0c-9bcd-02cbe2c4fe6c"
   },
   "outputs": [],
   "source": [
    "def derivation1(f,x):\n",
    "    der=[];hs=[];n=20\n",
    "    for i in range(n):\n",
    "        h=0.0;deri=0.0;\n",
    "        h=10**(-i);\n",
    "        deri=(f(x+h)-f(x-h))/(2*h);\n",
    "        der.append(deri);\n",
    "        hs.append(h);\n",
    "    return hs,der\n",
    "\n",
    "hs,der=derivation1(f,x)\n",
    "Tc.printing(\"h\",\"Valor de la derivada\",hs,der)"
   ]
  },
  {
   "cell_type": "code",
   "execution_count": null,
   "id": "2238a5df",
   "metadata": {
    "id": "2238a5df"
   },
   "outputs": [],
   "source": []
  }
 ],
 "metadata": {
  "colab": {
   "include_colab_link": true,
   "provenance": []
  },
  "kernelspec": {
   "display_name": "Python 3 (ipykernel)",
   "language": "python",
   "name": "python3"
  },
  "language_info": {
   "codemirror_mode": {
    "name": "ipython",
    "version": 3
   },
   "file_extension": ".py",
   "mimetype": "text/x-python",
   "name": "python",
   "nbconvert_exporter": "python",
   "pygments_lexer": "ipython3",
   "version": "3.9.12"
  }
 },
 "nbformat": 4,
 "nbformat_minor": 5
}
