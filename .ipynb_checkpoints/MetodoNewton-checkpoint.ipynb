{
 "cells": [
  {
   "cell_type": "code",
   "execution_count": 1,
   "id": "ecc58275",
   "metadata": {},
   "outputs": [],
   "source": [
    "import matplotlib.pyplot as plt\n",
    "import numpy as np\n",
    "from IPython.display import clear_output\n",
    "from time import sleep"
   ]
  },
  {
   "cell_type": "code",
   "execution_count": 5,
   "id": "20d07f7c",
   "metadata": {},
   "outputs": [],
   "source": [
    "x=np.linspace(-1,1,20)\n",
    "f=lambda x:0.5-x*np.exp(-x**2)\n",
    "df=lambda x:np.exp(-x**2)*(1-2*x**2)\n",
    "ddf=lambda x:2*x*np.exp(-x**2)*(2*x**2-3)\n",
    "y=f(x)"
   ]
  },
  {
   "cell_type": "code",
   "execution_count": 12,
   "id": "2524611e",
   "metadata": {},
   "outputs": [],
   "source": [
    "def newton(df,ddf,x0):\n",
    "    TOL=1E-2; Iter=20;\n",
    "    n=1\n",
    "    while n<=Iter:\n",
    "        #se evalua la funcion y su derivada\n",
    "        dfx=df(x0)\n",
    "        ddfx=ddf(x0)\n",
    "        #se calcula la siguiente aproximacion\n",
    "        xn = x0-(dfx/float(ddfx))\n",
    "        #en caso de cumplir criterios se devuelve la raiz\n",
    "        if abs(df(xn)) <= TOL and abs(xn-x0) <= TOL:\n",
    "            print(\" numero de iteraciones\",n)\n",
    "            return xn\n",
    "        #actualizamos las aproximaciones\n",
    "        x0 = xn\n",
    "        #se incrementa el contador de iteraciones    \n",
    "        n=n+1\n",
    "    #raise Exception(\"Se alcanzo el maximo numero de iteraciones y no se encontro raiz\")\n",
    "    print(\"Se alcanzo el maximo numero de iteraciones y no se encontro raiz\")"
   ]
  },
  {
   "cell_type": "code",
   "execution_count": 13,
   "id": "567ff5e9",
   "metadata": {},
   "outputs": [
    {
     "name": "stdout",
     "output_type": "stream",
     "text": [
      " numero de iteraciones 2\n",
      "La raíz con el método de Newton es: 0.707072135785007\n"
     ]
    }
   ],
   "source": [
    "raiz = newton(df,ddf,0.5)\n",
    "print(\"La raíz con el método de Newton es:\", raiz)"
   ]
  },
  {
   "cell_type": "code",
   "execution_count": null,
   "id": "99618a7a",
   "metadata": {},
   "outputs": [],
   "source": []
  }
 ],
 "metadata": {
  "kernelspec": {
   "display_name": "Python 3 (ipykernel)",
   "language": "python",
   "name": "python3"
  },
  "language_info": {
   "codemirror_mode": {
    "name": "ipython",
    "version": 3
   },
   "file_extension": ".py",
   "mimetype": "text/x-python",
   "name": "python",
   "nbconvert_exporter": "python",
   "pygments_lexer": "ipython3",
   "version": "3.9.12"
  }
 },
 "nbformat": 4,
 "nbformat_minor": 5
}
