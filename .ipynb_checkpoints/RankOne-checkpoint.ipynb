{
 "cells": [
  {
   "cell_type": "code",
   "execution_count": 37,
   "id": "29031a54",
   "metadata": {},
   "outputs": [],
   "source": [
    "import numpy as np\n",
    "\n",
    "def f(x):\n",
    "    return x[0]**2/3 + x[1]**2 #- 2*x[0] - 6*x[1] + 10\n",
    "\n",
    "def grad_f(x):\n",
    "    #return np.array([2*x[0] - 2, 2*x[1] - 6])\n",
    "    return np.array([(2/3)*x[0], 2*x[1] ])\n",
    "def hess_f(x):\n",
    "    return np.array([[2, 0], [0, 2]])"
   ]
  },
  {
   "cell_type": "code",
   "execution_count": 45,
   "id": "3fd2f450",
   "metadata": {},
   "outputs": [],
   "source": [
    "def line_search(xk,gk):\n",
    "    gk_t_gk=np.dot(gk,gk)\n",
    "    gk_t_Hf_gk = np.dot(gk,np.dot(hess_f(xk),gk))\n",
    "    \n",
    "    lambda_k=gk_t_gk/gk_t_Hf_gk\n",
    "    \n",
    "    return -lambda_k\n",
    "\n",
    "def gradient_descent_ls(x0, tol=1e-6, max_iter=100):\n",
    "    x =np.copy( x0);\n",
    "    n=len(x0)\n",
    "    Sk=np.eye(n);\n",
    "    gk = grad_f(x);\n",
    "    \n",
    "    for i in range(max_iter):\n",
    "        dk=-np.dot(Sk,gk)\n",
    "        lambda_k=1;\n",
    "        #lambda_k = line_search(x,gk)\n",
    "        delta_k=lambda_k*dk;\n",
    "        x_new= x+delta_k;\n",
    "        gk_new=grad_f(x_new);\n",
    "        if np.linalg.norm(gk_new) < tol:\n",
    "            return x,Sk\n",
    "        \n",
    "        gamma_k=gk_new-gk;\n",
    "        M=(delta_k-np.dot(Sk,gamma_k)).reshape(-1,1)\n",
    "        gam_k_M=gamma_k.reshape(-1,1).T@M\n",
    "        \n",
    "        Sk+= (M@M.T)/gam_k_M\n",
    "        #print(Sk)\n",
    "        #updating\n",
    "        x=np.copy(x_new);\n",
    "        gk=np.copy(gk_new);\n",
    "        \n",
    "    return x,Sk"
   ]
  },
  {
   "cell_type": "code",
   "execution_count": 46,
   "id": "ef6faf49",
   "metadata": {},
   "outputs": [
    {
     "data": {
      "text/plain": [
       "(array([ 0.1562118 , -0.01012484]),\n",
       " array([[ 1.50000000e+00, -7.63278329e-17],\n",
       "        [-7.63278329e-17,  5.00000000e-01]]))"
      ]
     },
     "execution_count": 46,
     "metadata": {},
     "output_type": "execute_result"
    }
   ],
   "source": [
    "# Ejemplo de uso:\n",
    "#x0 = np.array([0, 0])\n",
    "x0 = np.array([0.7, 1.2])\n",
    "xmin,InvHess = gradient_descent_ls(x0)\n",
    "xmin,InvHess"
   ]
  },
  {
   "cell_type": "code",
   "execution_count": 15,
   "id": "944b5c3a",
   "metadata": {},
   "outputs": [],
   "source": [
    "import numpy as np\n",
    "\n",
    "def rank_one(func, x0, tol=1e-5, max_iter=100):\n",
    "    \"\"\"\n",
    "    Método de rango uno para optimización sin restricciones.\n",
    "    :param func: función objetivo a minimizar.\n",
    "    :param x0: valor inicial.\n",
    "    :param tol: tolerancia para la convergencia.\n",
    "    :param max_iter: número máximo de iteraciones permitidas.\n",
    "    :return: el valor de x que minimiza la función.\n",
    "    \"\"\"\n",
    "    n = len(x0)\n",
    "    B = np.eye(n)  # Matriz inicial de aproximación hessiana\n",
    "    x = x0\n",
    "    fx = func(x)\n",
    "    iter = 0\n",
    "\n",
    "    while iter < max_iter:\n",
    "        s = -np.dot(B, fx)\n",
    "        alpha = 1\n",
    "        x_new = x + alpha*s\n",
    "        fx_new = func(x_new)\n",
    "\n",
    "        if np.linalg.norm(fx_new) < tol:\n",
    "            return x_new\n",
    "\n",
    "        y = fx_new - fx\n",
    "        B += np.outer((y - np.dot(B, y))*s, s) / np.dot(s, s)\n",
    "        x = x_new\n",
    "        fx = fx_new\n",
    "        iter += 1\n",
    "\n",
    "    return x\n"
   ]
  },
  {
   "cell_type": "code",
   "execution_count": 16,
   "id": "9bdd9480",
   "metadata": {},
   "outputs": [
    {
     "ename": "ValueError",
     "evalue": "operands could not be broadcast together with shapes (4,4) (2,2) ",
     "output_type": "error",
     "traceback": [
      "\u001b[1;31m---------------------------------------------------------------------------\u001b[0m",
      "\u001b[1;31mValueError\u001b[0m                                Traceback (most recent call last)",
      "Input \u001b[1;32mIn [16]\u001b[0m, in \u001b[0;36m<cell line: 5>\u001b[1;34m()\u001b[0m\n\u001b[0;32m      2\u001b[0m     \u001b[38;5;28;01mreturn\u001b[39;00m (x[\u001b[38;5;241m0\u001b[39m]\u001b[38;5;241m*\u001b[39m\u001b[38;5;241m*\u001b[39m\u001b[38;5;241m2\u001b[39m \u001b[38;5;241m+\u001b[39m x[\u001b[38;5;241m1\u001b[39m]\u001b[38;5;241m*\u001b[39m\u001b[38;5;241m*\u001b[39m\u001b[38;5;241m2\u001b[39m)\u001b[38;5;241m/\u001b[39m\u001b[38;5;241m2\u001b[39m \u001b[38;5;241m+\u001b[39m np\u001b[38;5;241m.\u001b[39msin(x[\u001b[38;5;241m0\u001b[39m] \u001b[38;5;241m+\u001b[39m x[\u001b[38;5;241m1\u001b[39m])\n\u001b[0;32m      4\u001b[0m x0 \u001b[38;5;241m=\u001b[39m np\u001b[38;5;241m.\u001b[39marray([\u001b[38;5;241m1\u001b[39m, \u001b[38;5;241m1\u001b[39m])\n\u001b[1;32m----> 5\u001b[0m x_min \u001b[38;5;241m=\u001b[39m \u001b[43mrank_one\u001b[49m\u001b[43m(\u001b[49m\u001b[43mf\u001b[49m\u001b[43m,\u001b[49m\u001b[43m \u001b[49m\u001b[43mx0\u001b[49m\u001b[43m)\u001b[49m\n\u001b[0;32m      7\u001b[0m \u001b[38;5;28mprint\u001b[39m(\u001b[38;5;124m\"\u001b[39m\u001b[38;5;124mValor mínimo de f:\u001b[39m\u001b[38;5;124m\"\u001b[39m, f(x_min))\n\u001b[0;32m      8\u001b[0m \u001b[38;5;28mprint\u001b[39m(\u001b[38;5;124m\"\u001b[39m\u001b[38;5;124mPunto de mínimo:\u001b[39m\u001b[38;5;124m\"\u001b[39m, x_min)\n",
      "Input \u001b[1;32mIn [15]\u001b[0m, in \u001b[0;36mrank_one\u001b[1;34m(func, x0, tol, max_iter)\u001b[0m\n\u001b[0;32m     25\u001b[0m     \u001b[38;5;28;01mreturn\u001b[39;00m x_new\n\u001b[0;32m     27\u001b[0m y \u001b[38;5;241m=\u001b[39m fx_new \u001b[38;5;241m-\u001b[39m fx\n\u001b[1;32m---> 28\u001b[0m B \u001b[38;5;241m+\u001b[39m\u001b[38;5;241m=\u001b[39m \u001b[43mnp\u001b[49m\u001b[38;5;241;43m.\u001b[39;49m\u001b[43mouter\u001b[49m\u001b[43m(\u001b[49m\u001b[43m(\u001b[49m\u001b[43my\u001b[49m\u001b[43m \u001b[49m\u001b[38;5;241;43m-\u001b[39;49m\u001b[43m \u001b[49m\u001b[43mnp\u001b[49m\u001b[38;5;241;43m.\u001b[39;49m\u001b[43mdot\u001b[49m\u001b[43m(\u001b[49m\u001b[43mB\u001b[49m\u001b[43m,\u001b[49m\u001b[43m \u001b[49m\u001b[43my\u001b[49m\u001b[43m)\u001b[49m\u001b[43m)\u001b[49m\u001b[38;5;241;43m*\u001b[39;49m\u001b[43ms\u001b[49m\u001b[43m,\u001b[49m\u001b[43m \u001b[49m\u001b[43ms\u001b[49m\u001b[43m)\u001b[49m\u001b[43m \u001b[49m\u001b[38;5;241;43m/\u001b[39;49m\u001b[43m \u001b[49m\u001b[43mnp\u001b[49m\u001b[38;5;241;43m.\u001b[39;49m\u001b[43mdot\u001b[49m\u001b[43m(\u001b[49m\u001b[43ms\u001b[49m\u001b[43m,\u001b[49m\u001b[43m \u001b[49m\u001b[43ms\u001b[49m\u001b[43m)\u001b[49m\n\u001b[0;32m     29\u001b[0m x \u001b[38;5;241m=\u001b[39m x_new\n\u001b[0;32m     30\u001b[0m fx \u001b[38;5;241m=\u001b[39m fx_new\n",
      "\u001b[1;31mValueError\u001b[0m: operands could not be broadcast together with shapes (4,4) (2,2) "
     ]
    }
   ],
   "source": [
    "def f(x):\n",
    "    return (x[0]**2 + x[1]**2)/2 + np.sin(x[0] + x[1])\n",
    "\n",
    "x0 = np.array([1, 1])\n",
    "x_min = rank_one(f, x0)\n",
    "\n",
    "print(\"Valor mínimo de f:\", f(x_min))\n",
    "print(\"Punto de mínimo:\", x_min)"
   ]
  },
  {
   "cell_type": "code",
   "execution_count": null,
   "id": "9ff4bdf5",
   "metadata": {},
   "outputs": [],
   "source": []
  }
 ],
 "metadata": {
  "kernelspec": {
   "display_name": "Python 3 (ipykernel)",
   "language": "python",
   "name": "python3"
  },
  "language_info": {
   "codemirror_mode": {
    "name": "ipython",
    "version": 3
   },
   "file_extension": ".py",
   "mimetype": "text/x-python",
   "name": "python",
   "nbconvert_exporter": "python",
   "pygments_lexer": "ipython3",
   "version": "3.9.12"
  }
 },
 "nbformat": 4,
 "nbformat_minor": 5
}
