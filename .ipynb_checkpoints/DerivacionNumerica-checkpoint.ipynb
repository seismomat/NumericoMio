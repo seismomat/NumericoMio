{
 "cells": [
  {
   "cell_type": "markdown",
   "id": "69c517f9",
   "metadata": {},
   "source": [
    "# Diferencias "
   ]
  },
  {
   "cell_type": "code",
   "execution_count": 1,
   "id": "e6b94644",
   "metadata": {},
   "outputs": [],
   "source": [
    "import pandas as pd \n",
    "import numpy as np\n",
    "f=lambda x: x*np.exp(x)\n",
    "der_f=lambda x:x*np.exp(x)+np.exp(x)\n",
    "Secon_der_f=lambda x:x*np.exp(x)+2*np.exp(x)\n",
    "\n",
    "x0= 2.0; h=0.1;\n",
    "table={}\n",
    "names=[]; values=[]\n",
    "names.append(\"AnaFirstDer\"); values.append(der_f(x0))"
   ]
  },
  {
   "cell_type": "markdown",
   "id": "524ff4c9",
   "metadata": {},
   "source": [
    "## Diferencias hacia delante\n",
    "\n",
    "$$ \\frac{df}{dx} \\approx \\frac{f(x+h)-f(x)}{h}$$"
   ]
  },
  {
   "cell_type": "code",
   "execution_count": 2,
   "id": "5b5f869c",
   "metadata": {},
   "outputs": [],
   "source": [
    "DifForward= lambda x0,h,f:(f(x0+h)-f(x0))/h \n",
    "names.append(\"Forward\"); values.append(DifForward(x0,h,f))"
   ]
  },
  {
   "cell_type": "markdown",
   "id": "c958d6e7",
   "metadata": {},
   "source": [
    "## Diferencias hacia atrás\n",
    "\n",
    "$$ \\frac{df}{dx} \\approx \\frac{f(x)-f(x-h)}{h}$$"
   ]
  },
  {
   "cell_type": "code",
   "execution_count": 3,
   "id": "de537ee3",
   "metadata": {},
   "outputs": [],
   "source": [
    "DifBack= lambda x0,h,f:(f(x0)-f(x0-h))/h \n",
    "names.append(\"Back\"); values.append(DifBack(x0,h,f))"
   ]
  },
  {
   "cell_type": "markdown",
   "id": "a3eca6d1",
   "metadata": {},
   "source": [
    "## Diferencias centrales\n",
    "\n",
    "$$ \\frac{df}{dx} \\approx \\frac{f(x+h)-f(x-h)}{2h}$$"
   ]
  },
  {
   "cell_type": "code",
   "execution_count": 4,
   "id": "804fa468",
   "metadata": {},
   "outputs": [],
   "source": [
    "DifCenter= lambda x0,h,f:(f(x0+h)-f(x0-h))/(2*h) \n",
    "names.append(\"Center\"); values.append(DifCenter(x0,h,f))"
   ]
  },
  {
   "cell_type": "markdown",
   "id": "d5216ff4",
   "metadata": {},
   "source": [
    "## Diferencias finitas para la segunda derivada\n",
    "\n",
    "$$ \\frac{d^2f}{dx^2} \\approx \\frac{f(x+h)-2f(x)+f(x-h)}{h^2}$$"
   ]
  },
  {
   "cell_type": "code",
   "execution_count": 5,
   "id": "8e9d21e9",
   "metadata": {},
   "outputs": [],
   "source": [
    "SecondDiff= lambda x0,h,f:(f(x0+h)-2*f(x0)+f(x0-h))/(h**2) \n",
    "names.append(\"AnaSecondDer\"); values.append(Secon_der_f(x0))\n",
    "names.append(\"SecondDer\"); values.append(SecondDiff(x0,h,f))"
   ]
  },
  {
   "cell_type": "markdown",
   "id": "084c87d9",
   "metadata": {},
   "source": [
    "## Lagrange con 3 puntos primera forma\n",
    "\n",
    "$$ \\frac{df}{dx}(x_0) \\approx \\frac{1}{2h}\\Big(-3f(x_0)+4f(x_1)-f(x_2)\\Big)$$\n",
    "\n",
    "donde $x_1=x_0+h$, $x_2=x_0+2h$"
   ]
  },
  {
   "cell_type": "code",
   "execution_count": 6,
   "id": "f1fd118e",
   "metadata": {},
   "outputs": [],
   "source": [
    "def Lagrange3points(x0,h,f):\n",
    "    x1=x0+h;\n",
    "    x2=x0+2*h;\n",
    "    \n",
    "    df_x0=(1/(2*h))*(-3*f(x0)+4*f(x1)-f(x2))\n",
    "    return df_x0\n",
    "\n",
    "names.append(\"3points\"); values.append(Lagrange3points(x0,h,f))"
   ]
  },
  {
   "cell_type": "markdown",
   "id": "c0bdce2a",
   "metadata": {},
   "source": [
    "## Lagrange formula final con cinco puntos\n",
    "\n",
    "$$ \\frac{df}{dx}(x_0) \\approx \\frac{1}{12h}\\Big(-25f(x_0)+48f(x_1)-36f(x_2)+16f(x_3)-3f(x_4)\\Big)$$\n",
    "\n",
    "donde $x_i=x_0+ih$ para $i\\in\\{1,2,3,4\\}$"
   ]
  },
  {
   "cell_type": "code",
   "execution_count": 7,
   "id": "639c4df2",
   "metadata": {},
   "outputs": [],
   "source": [
    "def Lagrange5points(x0,h,f):\n",
    "    x=[x0 + i*h for i in range(5)]\n",
    "    \n",
    "    df_x0=(1/(12*h))*(-25*f(x[0])+48*f(x[1])-36*f(x[2])+16*f(x[3])-3*f(x[4]))\n",
    "    return df_x0\n",
    "\n",
    "names.append(\"5points\"); values.append(Lagrange5points(x0,h,f))"
   ]
  },
  {
   "cell_type": "markdown",
   "id": "ef555daf",
   "metadata": {},
   "source": [
    "## Lagrange formula final con cinco puntos (punto medio)\n",
    "\n",
    "$$ \\frac{df}{dx}(x_0) \\approx \\frac{1}{12h}\\Big(f(x_0-2h)-8f(x_0-h)+8f(x_0+h) -f(x_0+2h)\\Big)$$\n",
    "\n"
   ]
  },
  {
   "cell_type": "code",
   "execution_count": 8,
   "id": "465f8611",
   "metadata": {},
   "outputs": [],
   "source": [
    "def Lagrange5pointsAve(x0,h,f):\n",
    "\n",
    "    df_x0=(1/(12*h))*(f(x0-2*h)-8*f(x0-h)+8*f(x0+h)-f(x0+2*h))\n",
    "    return df_x0\n",
    "names.append(\"5pointsAve\"); values.append(Lagrange5pointsAve(x0,h,f))"
   ]
  },
  {
   "cell_type": "code",
   "execution_count": 11,
   "id": "17322f01",
   "metadata": {},
   "outputs": [
    {
     "data": {
      "text/html": [
       "<div>\n",
       "<style scoped>\n",
       "    .dataframe tbody tr th:only-of-type {\n",
       "        vertical-align: middle;\n",
       "    }\n",
       "\n",
       "    .dataframe tbody tr th {\n",
       "        vertical-align: top;\n",
       "    }\n",
       "\n",
       "    .dataframe thead th {\n",
       "        text-align: right;\n",
       "    }\n",
       "</style>\n",
       "<table border=\"1\" class=\"dataframe\">\n",
       "  <thead>\n",
       "    <tr style=\"text-align: right;\">\n",
       "      <th></th>\n",
       "      <th>Derivadas</th>\n",
       "      <th>Valores</th>\n",
       "    </tr>\n",
       "  </thead>\n",
       "  <tbody>\n",
       "    <tr>\n",
       "      <th>0</th>\n",
       "      <td>AnaFirstDer</td>\n",
       "      <td>22.167168</td>\n",
       "    </tr>\n",
       "    <tr>\n",
       "      <th>1</th>\n",
       "      <td>Forward</td>\n",
       "      <td>23.708446</td>\n",
       "    </tr>\n",
       "    <tr>\n",
       "      <th>2</th>\n",
       "      <td>Back</td>\n",
       "      <td>20.749128</td>\n",
       "    </tr>\n",
       "    <tr>\n",
       "      <th>3</th>\n",
       "      <td>Center</td>\n",
       "      <td>22.228787</td>\n",
       "    </tr>\n",
       "    <tr>\n",
       "      <th>4</th>\n",
       "      <td>AnaSecondDer</td>\n",
       "      <td>29.556224</td>\n",
       "    </tr>\n",
       "    <tr>\n",
       "      <th>5</th>\n",
       "      <td>SecondDer</td>\n",
       "      <td>29.593186</td>\n",
       "    </tr>\n",
       "    <tr>\n",
       "      <th>6</th>\n",
       "      <td>3points</td>\n",
       "      <td>22.032305</td>\n",
       "    </tr>\n",
       "    <tr>\n",
       "      <th>7</th>\n",
       "      <td>5points</td>\n",
       "      <td>22.165915</td>\n",
       "    </tr>\n",
       "    <tr>\n",
       "      <th>8</th>\n",
       "      <td>5pointsAve</td>\n",
       "      <td>22.166996</td>\n",
       "    </tr>\n",
       "  </tbody>\n",
       "</table>\n",
       "</div>"
      ],
      "text/plain": [
       "      Derivadas    Valores\n",
       "0   AnaFirstDer  22.167168\n",
       "1       Forward  23.708446\n",
       "2          Back  20.749128\n",
       "3        Center  22.228787\n",
       "4  AnaSecondDer  29.556224\n",
       "5     SecondDer  29.593186\n",
       "6       3points  22.032305\n",
       "7       5points  22.165915\n",
       "8    5pointsAve  22.166996"
      ]
     },
     "execution_count": 11,
     "metadata": {},
     "output_type": "execute_result"
    }
   ],
   "source": [
    "results=pd.DataFrame({\"Derivadas\":names,\n",
    "        \"Valores\":values\n",
    "})\n",
    "\n",
    "results"
   ]
  },
  {
   "cell_type": "code",
   "execution_count": null,
   "id": "0f8a49d1",
   "metadata": {},
   "outputs": [],
   "source": []
  },
  {
   "cell_type": "code",
   "execution_count": null,
   "id": "4e26fc89",
   "metadata": {},
   "outputs": [],
   "source": []
  }
 ],
 "metadata": {
  "kernelspec": {
   "display_name": "Python 3 (ipykernel)",
   "language": "python",
   "name": "python3"
  },
  "language_info": {
   "codemirror_mode": {
    "name": "ipython",
    "version": 3
   },
   "file_extension": ".py",
   "mimetype": "text/x-python",
   "name": "python",
   "nbconvert_exporter": "python",
   "pygments_lexer": "ipython3",
   "version": "3.9.12"
  }
 },
 "nbformat": 4,
 "nbformat_minor": 5
}
