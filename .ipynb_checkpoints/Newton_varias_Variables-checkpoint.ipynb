{
 "cells": [
  {
   "cell_type": "code",
   "execution_count": 4,
   "id": "6ec1bcbf",
   "metadata": {},
   "outputs": [],
   "source": [
    "import numpy as np\n",
    "\n",
    "def f(x):\n",
    "    return x[0]**2 + x[1]**2 - 2*x[0] - 6*x[1] + 10\n",
    "\n",
    "def grad_f(x):\n",
    "    return np.array([2*x[0] - 2, 2*x[1] - 6])\n",
    "\n",
    "def hess_f(x):\n",
    "    return np.array([[2, 0], [0, 2]])\n"
   ]
  },
  {
   "cell_type": "code",
   "execution_count": 6,
   "id": "351a544c",
   "metadata": {},
   "outputs": [
    {
     "name": "stdout",
     "output_type": "stream",
     "text": [
      "El mínimo se encuentra en [1. 3.] con valor de la función 0.0\n"
     ]
    }
   ],
   "source": [
    "def newton_method(x0, tol=1E-6, max_iter=100):\n",
    "    x =np.copy( x0)\n",
    "    for i in range(max_iter):\n",
    "        grad = grad_f(x)\n",
    "        hess_inv = np.linalg.inv(hess_f(x))\n",
    "        delta_x = -hess_inv.dot(grad)\n",
    "        x = x+ delta_x\n",
    "        if np.linalg.norm(delta_x) < tol:\n",
    "            return x\n",
    "    return x\n",
    "\n",
    "# Ejemplo de uso:\n",
    "x0 = np.array([0, 0])\n",
    "xmin = newton_method(x0)\n",
    "print(\"El mínimo se encuentra en\", xmin, \"con valor de la función\", f(xmin))"
   ]
  },
  {
   "cell_type": "code",
   "execution_count": null,
   "id": "d2170a0f",
   "metadata": {},
   "outputs": [],
   "source": []
  }
 ],
 "metadata": {
  "kernelspec": {
   "display_name": "Python 3 (ipykernel)",
   "language": "python",
   "name": "python3"
  },
  "language_info": {
   "codemirror_mode": {
    "name": "ipython",
    "version": 3
   },
   "file_extension": ".py",
   "mimetype": "text/x-python",
   "name": "python",
   "nbconvert_exporter": "python",
   "pygments_lexer": "ipython3",
   "version": "3.9.12"
  }
 },
 "nbformat": 4,
 "nbformat_minor": 5
}
