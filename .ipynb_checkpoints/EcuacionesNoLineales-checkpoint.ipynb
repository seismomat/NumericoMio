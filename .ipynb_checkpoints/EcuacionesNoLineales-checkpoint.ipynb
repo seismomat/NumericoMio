{
 "cells": [
  {
   "cell_type": "code",
   "execution_count": 1,
   "id": "d682ec5d",
   "metadata": {},
   "outputs": [],
   "source": [
    "import numpy as np"
   ]
  },
  {
   "cell_type": "code",
   "execution_count": 25,
   "id": "195d531b",
   "metadata": {},
   "outputs": [],
   "source": [
    "f=lambda x:(x**2)-1\n",
    "df= lambda x:2*x"
   ]
  },
  {
   "cell_type": "code",
   "execution_count": 12,
   "id": "0fdf8fc9",
   "metadata": {},
   "outputs": [],
   "source": [
    "def biseccion(f,Tol,N,a,b):\n",
    "    fa,fb=f(a),f(b);\n",
    "    if fa*fb>0:\n",
    "        print (\"no hay raiz en [a,b]\")\n",
    "        return None\n",
    "    n=1\n",
    "    x0=0.0\n",
    "    while n<=N:\n",
    "        x1=(b+a)/2.0\n",
    "        fx1=f(x1);\n",
    "        if abs(fx1)<=Tol and abs(x1-x0)<=Tol:\n",
    "            print(f\"La raíz es {x1}\")\n",
    "            return x1\n",
    "        \n",
    "        if fa*fx1<0.0:\n",
    "            b=x1;\n",
    "        if fx1*fb<0.0:\n",
    "            a=x1\n",
    "        x0=x1\n",
    "        \n",
    "        n+=1\n",
    "    else:\n",
    "        print(f\"El valor más cercano es {x0}\")"
   ]
  },
  {
   "cell_type": "code",
   "execution_count": 14,
   "id": "0ed43279",
   "metadata": {},
   "outputs": [
    {
     "name": "stdout",
     "output_type": "stream",
     "text": [
      "La raíz es 0.9996337890625\n"
     ]
    }
   ],
   "source": [
    "raiz=biseccion(f,0.001,1000,-0.5,2)"
   ]
  },
  {
   "cell_type": "code",
   "execution_count": 15,
   "id": "437afe13",
   "metadata": {},
   "outputs": [],
   "source": [
    "def ReglaFalsa(f,Tol,N,a,b):\n",
    "    fa,fb=f(a),f(b);\n",
    "    if fa*fb>0:\n",
    "        print (\"no hay raiz en [a,b]\")\n",
    "        return None\n",
    "    n=1\n",
    "    x0=0.0\n",
    "    while n<=N:\n",
    "        fa,fb=f(a),f(b);\n",
    "        xn=(a*fb-b*fa)/(fb-fa)\n",
    "        fxn=f(xn);\n",
    "        if abs(fxn)<=Tol and abs(xn-x0)<=Tol:\n",
    "            print(f\"La raíz es {xn}\")\n",
    "            return xn\n",
    "        \n",
    "        if fa*fxn<0.0:\n",
    "            b=xn;\n",
    "        if fxn*fb<0.0:\n",
    "            a=xn\n",
    "        x0=xn\n",
    "        \n",
    "        n+=1\n",
    "    else:\n",
    "        print(f\"El valor más cercano es {x0}\")"
   ]
  },
  {
   "cell_type": "code",
   "execution_count": 17,
   "id": "43fc20b7",
   "metadata": {},
   "outputs": [
    {
     "name": "stdout",
     "output_type": "stream",
     "text": [
      "La raíz es 0.9996952148735141\n"
     ]
    }
   ],
   "source": [
    "raiz = ReglaFalsa(f,0.001,1000,-0.5,2)"
   ]
  },
  {
   "cell_type": "code",
   "execution_count": 23,
   "id": "d56e2352",
   "metadata": {},
   "outputs": [],
   "source": [
    "def Secante(f,Tol,N,a,b):\n",
    "    fa,fb=f(a),f(b);\n",
    "    if fa*fb>0:\n",
    "        print (\"no hay raiz en [a,b]\")\n",
    "        return None\n",
    "    n=1\n",
    "    x0=0.0\n",
    "    while n<=N:\n",
    "        fa,fb=f(a),f(b);\n",
    "        xn=b-fb*((b-a)/float(fb-fa))\n",
    "        fxn=f(xn);\n",
    "        if abs(fxn)<=Tol and abs(b-a)<=Tol:\n",
    "            print(f\"La raíz es {xn}\")\n",
    "            return xn\n",
    "          \n",
    "        a=b\n",
    "        b=xn\n",
    "        \n",
    "        n+=1\n",
    "    else:\n",
    "        print(f\"El valor más cercano es {xn}\")"
   ]
  },
  {
   "cell_type": "code",
   "execution_count": 24,
   "id": "7301e73f",
   "metadata": {},
   "outputs": [
    {
     "name": "stdout",
     "output_type": "stream",
     "text": [
      "La raíz es 0.9999999999999999\n"
     ]
    }
   ],
   "source": [
    "raiz = Secante(f,0.0001,10,-0.5,2)"
   ]
  },
  {
   "cell_type": "code",
   "execution_count": 26,
   "id": "7daa4241",
   "metadata": {},
   "outputs": [],
   "source": [
    "def newton(f,df,Tol,N,x0):\n",
    "    #contador de iteraciones\n",
    "    n=1\n",
    "    #mientras no se haya superado el limite de iteraciones\n",
    "    while n<=N:\n",
    "        #se evalua la funcion y su derivada\n",
    "        fx=f(x0)\n",
    "        dfx=df(x0)\n",
    "        #se calcula la siguiente aproximacion\n",
    "        xn = x0-(fx/float(dfx))\n",
    "        #en caso de cumplir criterios se devuelve la raiz\n",
    "        if abs(f(xn)) <= Tol and abs(xn-x0) <= Tol:\n",
    "            print(f\"La raíz es {xn}\")\n",
    "            return xn\n",
    "        #actualizamos las aproximaciones\n",
    "        x0 = xn\n",
    "        #se incrementa el contador de iteraciones    \n",
    "        n=n+1\n",
    "        \n",
    "    else:\n",
    "        print(f\"El valor más cercano es {x0}\")"
   ]
  },
  {
   "cell_type": "code",
   "execution_count": 27,
   "id": "1e2e07ee",
   "metadata": {},
   "outputs": [
    {
     "name": "stdout",
     "output_type": "stream",
     "text": [
      "La raíz es 1.000000000000001\n"
     ]
    }
   ],
   "source": [
    "raiz = newton(f,df,0.0001,100,2)"
   ]
  },
  {
   "cell_type": "code",
   "execution_count": null,
   "id": "94b52a62",
   "metadata": {},
   "outputs": [],
   "source": []
  }
 ],
 "metadata": {
  "kernelspec": {
   "display_name": "Python 3 (ipykernel)",
   "language": "python",
   "name": "python3"
  },
  "language_info": {
   "codemirror_mode": {
    "name": "ipython",
    "version": 3
   },
   "file_extension": ".py",
   "mimetype": "text/x-python",
   "name": "python",
   "nbconvert_exporter": "python",
   "pygments_lexer": "ipython3",
   "version": "3.9.12"
  }
 },
 "nbformat": 4,
 "nbformat_minor": 5
}
