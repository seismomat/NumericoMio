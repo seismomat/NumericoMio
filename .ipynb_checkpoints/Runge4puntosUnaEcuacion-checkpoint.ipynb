{
 "cells": [
  {
   "cell_type": "markdown",
   "id": "3df5cfa1",
   "metadata": {},
   "source": [
    "$$ x(t+h)=x(t)+\\frac{1}{6}(F_{1}+2F_{2}+2F_{3}+F_{4})$$\n",
    "\n",
    "donde\n",
    "\n",
    "$$ F_{1}=hf(t,x)$$\n",
    "$$ F_{2}=hf(t+\\frac{1}{2}h,x+\\frac{1}{2}F_{1})$$\n",
    "$$ F_{3}=hf(t+\\frac{1}{2}h,x+\\frac{1}{2}F_{2})$$\n",
    "$$ F_{4}=hf(t+h,x+F_{3})$$"
   ]
  },
  {
   "cell_type": "code",
   "execution_count": 12,
   "id": "6a0cc3e1",
   "metadata": {},
   "outputs": [],
   "source": [
    "import numpy as np\n",
    "import pandas as pd\n",
    "import matplotlib.pyplot as plt "
   ]
  },
  {
   "cell_type": "code",
   "execution_count": 13,
   "id": "726344a5",
   "metadata": {},
   "outputs": [],
   "source": [
    "f=lambda x,t:x*np.tan(t+3)\n",
    "x_t=lambda t:1 / np.cos(t+3)"
   ]
  },
  {
   "cell_type": "code",
   "execution_count": 14,
   "id": "847fe0f0",
   "metadata": {},
   "outputs": [],
   "source": [
    "t0=-3; x0=1; h=0.05;M=20;"
   ]
  },
  {
   "cell_type": "code",
   "execution_count": 15,
   "id": "aa719a20",
   "metadata": {},
   "outputs": [],
   "source": [
    "def Runge4(M,h,tk,xk):\n",
    "    x=[];t=[];\n",
    "    x_exact=[];\n",
    "    for k in range(M):\n",
    "        F1=h*f(xk,tk)\n",
    "        F2=h*f(xk+0.5*F1,tk+0.5*h)\n",
    "        F3=h*f(xk+0.5*F2,tk+0.5*h)\n",
    "        tkp1=tk+h;\n",
    "        F4=h*f(xk+F3,tkp1);\n",
    "        xkp1=xk+(1/6)*(F1+2*F2+2*F3+F4);\n",
    "        \n",
    "        \n",
    "        xk=np.copy(xkp1)\n",
    "        tk=np.copy(round(tkp1,2))\n",
    "        \n",
    "        x.append(xk)\n",
    "        t.append(tk)\n",
    "        x_exact.append(x_t(tk))\n",
    "        \n",
    "    return x,t,x_exact"
   ]
  },
  {
   "cell_type": "code",
   "execution_count": 16,
   "id": "43fc19ae",
   "metadata": {},
   "outputs": [
    {
     "data": {
      "text/html": [
       "<div>\n",
       "<style scoped>\n",
       "    .dataframe tbody tr th:only-of-type {\n",
       "        vertical-align: middle;\n",
       "    }\n",
       "\n",
       "    .dataframe tbody tr th {\n",
       "        vertical-align: top;\n",
       "    }\n",
       "\n",
       "    .dataframe thead th {\n",
       "        text-align: right;\n",
       "    }\n",
       "</style>\n",
       "<table border=\"1\" class=\"dataframe\">\n",
       "  <thead>\n",
       "    <tr style=\"text-align: right;\">\n",
       "      <th></th>\n",
       "      <th>t</th>\n",
       "      <th>aprox</th>\n",
       "      <th>real</th>\n",
       "    </tr>\n",
       "  </thead>\n",
       "  <tbody>\n",
       "    <tr>\n",
       "      <th>0</th>\n",
       "      <td>-2.95</td>\n",
       "      <td>1.0012513034518815</td>\n",
       "      <td>1.001251</td>\n",
       "    </tr>\n",
       "    <tr>\n",
       "      <th>1</th>\n",
       "      <td>-2.9</td>\n",
       "      <td>1.0050209185758268</td>\n",
       "      <td>1.005021</td>\n",
       "    </tr>\n",
       "    <tr>\n",
       "      <th>2</th>\n",
       "      <td>-2.85</td>\n",
       "      <td>1.0113564430760655</td>\n",
       "      <td>1.011356</td>\n",
       "    </tr>\n",
       "    <tr>\n",
       "      <th>3</th>\n",
       "      <td>-2.8</td>\n",
       "      <td>1.0203388456778268</td>\n",
       "      <td>1.020339</td>\n",
       "    </tr>\n",
       "    <tr>\n",
       "      <th>4</th>\n",
       "      <td>-2.75</td>\n",
       "      <td>1.032085025181013</td>\n",
       "      <td>1.032085</td>\n",
       "    </tr>\n",
       "    <tr>\n",
       "      <th>5</th>\n",
       "      <td>-2.7</td>\n",
       "      <td>1.0467516033468194</td>\n",
       "      <td>1.046752</td>\n",
       "    </tr>\n",
       "    <tr>\n",
       "      <th>6</th>\n",
       "      <td>-2.65</td>\n",
       "      <td>1.0645401859926076</td>\n",
       "      <td>1.064540</td>\n",
       "    </tr>\n",
       "    <tr>\n",
       "      <th>7</th>\n",
       "      <td>-2.6</td>\n",
       "      <td>1.0857044320298601</td>\n",
       "      <td>1.085704</td>\n",
       "    </tr>\n",
       "    <tr>\n",
       "      <th>8</th>\n",
       "      <td>-2.55</td>\n",
       "      <td>1.1105594119606652</td>\n",
       "      <td>1.110559</td>\n",
       "    </tr>\n",
       "    <tr>\n",
       "      <th>9</th>\n",
       "      <td>-2.5</td>\n",
       "      <td>1.1394939340429913</td>\n",
       "      <td>1.139494</td>\n",
       "    </tr>\n",
       "  </tbody>\n",
       "</table>\n",
       "</div>"
      ],
      "text/plain": [
       "       t               aprox      real\n",
       "0  -2.95  1.0012513034518815  1.001251\n",
       "1   -2.9  1.0050209185758268  1.005021\n",
       "2  -2.85  1.0113564430760655  1.011356\n",
       "3   -2.8  1.0203388456778268  1.020339\n",
       "4  -2.75   1.032085025181013  1.032085\n",
       "5   -2.7  1.0467516033468194  1.046752\n",
       "6  -2.65  1.0645401859926076  1.064540\n",
       "7   -2.6  1.0857044320298601  1.085704\n",
       "8  -2.55  1.1105594119606652  1.110559\n",
       "9   -2.5  1.1394939340429913  1.139494"
      ]
     },
     "execution_count": 16,
     "metadata": {},
     "output_type": "execute_result"
    }
   ],
   "source": [
    "x,t,x_exact=Runge4(M,h,t0,x0)\n",
    "p=pd.DataFrame({\"t\":t,\"aprox\":x,\"real\":x_exact})\n",
    "p[:10]"
   ]
  },
  {
   "cell_type": "code",
   "execution_count": 19,
   "id": "bdf00f36",
   "metadata": {},
   "outputs": [
    {
     "data": {
      "text/plain": [
       "<matplotlib.legend.Legend at 0x1996c3d5ca0>"
      ]
     },
     "execution_count": 19,
     "metadata": {},
     "output_type": "execute_result"
    },
    {
     "data": {
      "image/png": "[encoded data removed]",
      "text/plain": [
       "<Figure size 432x288 with 1 Axes>"
      ]
     },
     "metadata": {
      "needs_background": "light"
     },
     "output_type": "display_data"
    }
   ],
   "source": [
    "plt.plot(t,x,'-or',label=\"Runge4\")\n",
    "plt.plot(t,x_exact,'black',label=\"Analitica\")\n",
    "plt.legend()"
   ]
  },
  {
   "cell_type": "code",
   "execution_count": null,
   "id": "d45f5344",
   "metadata": {},
   "outputs": [],
   "source": []
  }
 ],
 "metadata": {
  "kernelspec": {
   "display_name": "Python 3 (ipykernel)",
   "language": "python",
   "name": "python3"
  },
  "language_info": {
   "codemirror_mode": {
    "name": "ipython",
    "version": 3
   },
   "file_extension": ".py",
   "mimetype": "text/x-python",
   "name": "python",
   "nbconvert_exporter": "python",
   "pygments_lexer": "ipython3",
   "version": "3.9.12"
  }
 },
 "nbformat": 4,
 "nbformat_minor": 5
}
