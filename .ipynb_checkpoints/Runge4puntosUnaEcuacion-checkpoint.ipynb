{
  "cells": [
    {
      "cell_type": "markdown",
      "metadata": {
        "id": "view-in-github",
        "colab_type": "text"
      },
      "source": [
        "<a href=\"https://colab.research.google.com/github/seismomat/NumericoMio/blob/master/.ipynb_checkpoints/Runge4puntosUnaEcuacion-checkpoint.ipynb\" target=\"_parent\"><img src=\"https://colab.research.google.com/assets/colab-badge.svg\" alt=\"Open In Colab\"/></a>"
      ]
    },
    {
      "cell_type": "markdown",
      "id": "3df5cfa1",
      "metadata": {
        "id": "3df5cfa1"
      },
      "source": [
        "$$ x(t+h)=x(t)+\\frac{1}{6}(F_{1}+2F_{2}+2F_{3}+F_{4})$$\n",
        "\n",
        "donde\n",
        "\n",
        "$$ F_{1}=hf(t,x)$$\n",
        "$$ F_{2}=hf(t+\\frac{1}{2}h,x+\\frac{1}{2}F_{1})$$\n",
        "$$ F_{3}=hf(t+\\frac{1}{2}h,x+\\frac{1}{2}F_{2})$$\n",
        "$$ F_{4}=hf(t+h,x+F_{3})$$"
      ]
    },
    {
      "cell_type": "code",
      "execution_count": 1,
      "id": "6a0cc3e1",
      "metadata": {
        "id": "6a0cc3e1"
      },
      "outputs": [],
      "source": [
        "import numpy as np\n",
        "import pandas as pd\n",
        "import matplotlib.pyplot as plt "
      ]
    },
    {
      "cell_type": "code",
      "execution_count": 2,
      "id": "726344a5",
      "metadata": {
        "id": "726344a5"
      },
      "outputs": [],
      "source": [
        "f=lambda x,t:x*np.tan(t+3)\n",
        "x_t=lambda t:1 / np.cos(t+3)"
      ]
    },
    {
      "cell_type": "code",
      "execution_count": 3,
      "id": "847fe0f0",
      "metadata": {
        "id": "847fe0f0"
      },
      "outputs": [],
      "source": [
        "t0=-3; x0=1; h=0.05;M=20;"
      ]
    },
    {
      "cell_type": "code",
      "execution_count": 4,
      "id": "aa719a20",
      "metadata": {
        "id": "aa719a20"
      },
      "outputs": [],
      "source": [
        "def Runge4(M,h,tk,xk):\n",
        "    x=[];t=[];\n",
        "    x_exact=[];\n",
        "    for k in range(M):\n",
        "        F1=h*f(xk,tk)\n",
        "        F2=h*f(xk+0.5*F1,tk+0.5*h)\n",
        "        F3=h*f(xk+0.5*F2,tk+0.5*h)\n",
        "        tkp1=tk+h;\n",
        "        F4=h*f(xk+F3,tkp1);\n",
        "        xkp1=xk+(1/6)*(F1+2*F2+2*F3+F4);\n",
        "        \n",
        "        \n",
        "        xk=np.copy(xkp1)\n",
        "        tk=np.copy(round(tkp1,2))\n",
        "        \n",
        "        x.append(xk)\n",
        "        t.append(tk)\n",
        "        x_exact.append(x_t(tk))\n",
        "        \n",
        "    return x,t,x_exact"
      ]
    },
    {
      "cell_type": "code",
      "execution_count": 5,
      "id": "43fc19ae",
      "metadata": {
        "id": "43fc19ae",
        "outputId": "83fde9ab-8e1f-4fc6-fc3a-ed313d543d3a",
        "colab": {
          "base_uri": "https://localhost:8080/",
          "height": 363
        }
      },
      "outputs": [
        {
          "output_type": "execute_result",
          "data": {
            "text/plain": [
              "       t               aprox      real\n",
              "0  -2.95  1.0012513034518815  1.001251\n",
              "1   -2.9  1.0050209185758268  1.005021\n",
              "2  -2.85  1.0113564430760655  1.011356\n",
              "3   -2.8  1.0203388456778268  1.020339\n",
              "4  -2.75   1.032085025181013  1.032085\n",
              "5   -2.7  1.0467516033468194  1.046752\n",
              "6  -2.65  1.0645401859926076  1.064540\n",
              "7   -2.6  1.0857044320298601  1.085704\n",
              "8  -2.55  1.1105594119606652  1.110559\n",
              "9   -2.5  1.1394939340429913  1.139494"
            ],
            "text/html": [
              "\n",
              "  <div id=\"df-6132dff2-af24-4884-892a-48abe5b527ed\">\n",
              "    <div class=\"colab-df-container\">\n",
              "      <div>\n",
              "<style scoped>\n",
              "    .dataframe tbody tr th:only-of-type {\n",
              "        vertical-align: middle;\n",
              "    }\n",
              "\n",
              "    .dataframe tbody tr th {\n",
              "        vertical-align: top;\n",
              "    }\n",
              "\n",
              "    .dataframe thead th {\n",
              "        text-align: right;\n",
              "    }\n",
              "</style>\n",
              "<table border=\"1\" class=\"dataframe\">\n",
              "  <thead>\n",
              "    <tr style=\"text-align: right;\">\n",
              "      <th></th>\n",
              "      <th>t</th>\n",
              "      <th>aprox</th>\n",
              "      <th>real</th>\n",
              "    </tr>\n",
              "  </thead>\n",
              "  <tbody>\n",
              "    <tr>\n",
              "      <th>0</th>\n",
              "      <td>-2.95</td>\n",
              "      <td>1.0012513034518815</td>\n",
              "      <td>1.001251</td>\n",
              "    </tr>\n",
              "    <tr>\n",
              "      <th>1</th>\n",
              "      <td>-2.9</td>\n",
              "      <td>1.0050209185758268</td>\n",
              "      <td>1.005021</td>\n",
              "    </tr>\n",
              "    <tr>\n",
              "      <th>2</th>\n",
              "      <td>-2.85</td>\n",
              "      <td>1.0113564430760655</td>\n",
              "      <td>1.011356</td>\n",
              "    </tr>\n",
              "    <tr>\n",
              "      <th>3</th>\n",
              "      <td>-2.8</td>\n",
              "      <td>1.0203388456778268</td>\n",
              "      <td>1.020339</td>\n",
              "    </tr>\n",
              "    <tr>\n",
              "      <th>4</th>\n",
              "      <td>-2.75</td>\n",
              "      <td>1.032085025181013</td>\n",
              "      <td>1.032085</td>\n",
              "    </tr>\n",
              "    <tr>\n",
              "      <th>5</th>\n",
              "      <td>-2.7</td>\n",
              "      <td>1.0467516033468194</td>\n",
              "      <td>1.046752</td>\n",
              "    </tr>\n",
              "    <tr>\n",
              "      <th>6</th>\n",
              "      <td>-2.65</td>\n",
              "      <td>1.0645401859926076</td>\n",
              "      <td>1.064540</td>\n",
              "    </tr>\n",
              "    <tr>\n",
              "      <th>7</th>\n",
              "      <td>-2.6</td>\n",
              "      <td>1.0857044320298601</td>\n",
              "      <td>1.085704</td>\n",
              "    </tr>\n",
              "    <tr>\n",
              "      <th>8</th>\n",
              "      <td>-2.55</td>\n",
              "      <td>1.1105594119606652</td>\n",
              "      <td>1.110559</td>\n",
              "    </tr>\n",
              "    <tr>\n",
              "      <th>9</th>\n",
              "      <td>-2.5</td>\n",
              "      <td>1.1394939340429913</td>\n",
              "      <td>1.139494</td>\n",
              "    </tr>\n",
              "  </tbody>\n",
              "</table>\n",
              "</div>\n",
              "      <button class=\"colab-df-convert\" onclick=\"convertToInteractive('df-6132dff2-af24-4884-892a-48abe5b527ed')\"\n",
              "              title=\"Convert this dataframe to an interactive table.\"\n",
              "              style=\"display:none;\">\n",
              "        \n",
              "  <svg xmlns=\"http://www.w3.org/2000/svg\" height=\"24px\"viewBox=\"0 0 24 24\"\n",
              "       width=\"24px\">\n",
              "    <path d=\"M0 0h24v24H0V0z\" fill=\"none\"/>\n",
              "    <path d=\"M18.56 5.44l.94 2.06.94-2.06 2.06-.94-2.06-.94-.94-2.06-.94 2.06-2.06.94zm-11 1L8.5 8.5l.94-2.06 2.06-.94-2.06-.94L8.5 2.5l-.94 2.06-2.06.94zm10 10l.94 2.06.94-2.06 2.06-.94-2.06-.94-.94-2.06-.94 2.06-2.06.94z\"/><path d=\"M17.41 7.96l-1.37-1.37c-.4-.4-.92-.59-1.43-.59-.52 0-1.04.2-1.43.59L10.3 9.45l-7.72 7.72c-.78.78-.78 2.05 0 2.83L4 21.41c.39.39.9.59 1.41.59.51 0 1.02-.2 1.41-.59l7.78-7.78 2.81-2.81c.8-.78.8-2.07 0-2.86zM5.41 20L4 18.59l7.72-7.72 1.47 1.35L5.41 20z\"/>\n",
              "  </svg>\n",
              "      </button>\n",
              "      \n",
              "  <style>\n",
              "    .colab-df-container {\n",
              "      display:flex;\n",
              "      flex-wrap:wrap;\n",
              "      gap: 12px;\n",
              "    }\n",
              "\n",
              "    .colab-df-convert {\n",
              "      background-color: #E8F0FE;\n",
              "      border: none;\n",
              "      border-radius: 50%;\n",
              "      cursor: pointer;\n",
              "      display: none;\n",
              "      fill: #1967D2;\n",
              "      height: 32px;\n",
              "      padding: 0 0 0 0;\n",
              "      width: 32px;\n",
              "    }\n",
              "\n",
              "    .colab-df-convert:hover {\n",
              "      background-color: #E2EBFA;\n",
              "      box-shadow: 0px 1px 2px rgba(60, 64, 67, 0.3), 0px 1px 3px 1px rgba(60, 64, 67, 0.15);\n",
              "      fill: #174EA6;\n",
              "    }\n",
              "\n",
              "    [theme=dark] .colab-df-convert {\n",
              "      background-color: #3B4455;\n",
              "      fill: #D2E3FC;\n",
              "    }\n",
              "\n",
              "    [theme=dark] .colab-df-convert:hover {\n",
              "      background-color: #434B5C;\n",
              "      box-shadow: 0px 1px 3px 1px rgba(0, 0, 0, 0.15);\n",
              "      filter: drop-shadow(0px 1px 2px rgba(0, 0, 0, 0.3));\n",
              "      fill: #FFFFFF;\n",
              "    }\n",
              "  </style>\n",
              "\n",
              "      <script>\n",
              "        const buttonEl =\n",
              "          document.querySelector('#df-6132dff2-af24-4884-892a-48abe5b527ed button.colab-df-convert');\n",
              "        buttonEl.style.display =\n",
              "          google.colab.kernel.accessAllowed ? 'block' : 'none';\n",
              "\n",
              "        async function convertToInteractive(key) {\n",
              "          const element = document.querySelector('#df-6132dff2-af24-4884-892a-48abe5b527ed');\n",
              "          const dataTable =\n",
              "            await google.colab.kernel.invokeFunction('convertToInteractive',\n",
              "                                                     [key], {});\n",
              "          if (!dataTable) return;\n",
              "\n",
              "          const docLinkHtml = 'Like what you see? Visit the ' +\n",
              "            '<a target=\"_blank\" href=https://colab.research.google.com/notebooks/data_table.ipynb>data table notebook</a>'\n",
              "            + ' to learn more about interactive tables.';\n",
              "          element.innerHTML = '';\n",
              "          dataTable['output_type'] = 'display_data';\n",
              "          await google.colab.output.renderOutput(dataTable, element);\n",
              "          const docLink = document.createElement('div');\n",
              "          docLink.innerHTML = docLinkHtml;\n",
              "          element.appendChild(docLink);\n",
              "        }\n",
              "      </script>\n",
              "    </div>\n",
              "  </div>\n",
              "  "
            ]
          },
          "metadata": {},
          "execution_count": 5
        }
      ],
      "source": [
        "x,t,x_exact=Runge4(M,h,t0,x0)\n",
        "p=pd.DataFrame({\"t\":t,\"aprox\":x,\"real\":x_exact})\n",
        "p[:10]"
      ]
    },
    {
      "cell_type": "code",
      "execution_count": 6,
      "id": "bdf00f36",
      "metadata": {
        "id": "bdf00f36",
        "outputId": "3a2f2dc8-f59f-40e7-b495-bfec02647b41",
        "colab": {
          "base_uri": "https://localhost:8080/",
          "height": 447
        }
      },
      "outputs": [
        {
          "output_type": "execute_result",
          "data": {
            "text/plain": [
              "<matplotlib.legend.Legend at 0x7f6d0ed21090>"
            ]
          },
          "metadata": {},
          "execution_count": 6
        },
        {
          "output_type": "display_data",
          "data": {
            "text/plain": [
              "<Figure size 640x480 with 1 Axes>"
            ],
            "image/png": "[encoded data removed]"
          },
          "metadata": {}
        }
      ],
      "source": [
        "plt.plot(t,x,'-or',label=\"Runge4\")\n",
        "plt.plot(t,x_exact,'black',label=\"Analitica\")\n",
        "plt.legend()"
      ]
    },
    {
      "cell_type": "code",
      "execution_count": null,
      "id": "d45f5344",
      "metadata": {
        "id": "d45f5344"
      },
      "outputs": [],
      "source": []
    }
  ],
  "metadata": {
    "kernelspec": {
      "display_name": "Python 3 (ipykernel)",
      "language": "python",
      "name": "python3"
    },
    "language_info": {
      "codemirror_mode": {
        "name": "ipython",
        "version": 3
      },
      "file_extension": ".py",
      "mimetype": "text/x-python",
      "name": "python",
      "nbconvert_exporter": "python",
      "pygments_lexer": "ipython3",
      "version": "3.9.12"
    },
    "colab": {
      "provenance": [],
      "include_colab_link": true
    }
  },
  "nbformat": 4,
  "nbformat_minor": 5
}